{
  "nbformat": 4,
  "nbformat_minor": 0,
  "metadata": {
    "colab": {
      "provenance": [],
      "gpuType": "V28"
    },
    "kernelspec": {
      "name": "python3",
      "display_name": "Python 3"
    },
    "language_info": {
      "name": "python"
    },
    "accelerator": "TPU"
  },
  "cells": [
    {
      "cell_type": "markdown",
      "source": [
        "# **Using One-Hot Method to extract features**"
      ],
      "metadata": {
        "id": "wg1_7MzAIfX7"
      }
    },
    {
      "cell_type": "code",
      "execution_count": 21,
      "metadata": {
        "id": "uc79zcvtv1kU",
        "colab": {
          "base_uri": "https://localhost:8080/"
        },
        "outputId": "db678a69-5048-4d48-f1e1-77869e8a8959"
      },
      "outputs": [
        {
          "output_type": "stream",
          "name": "stdout",
          "text": [
            "Train dataset size: \n",
            "train_emoticon_X: 7080 train_emoticon_Y: 7080\n",
            "\n",
            "Valid dataset size: \n",
            "valid_emoticon_X: 489 valid_emoticon_Y: 489\n",
            "\n",
            "Test dataset size: \n",
            "test_emoticon_X: 2232\n"
          ]
        }
      ],
      "source": [
        "import numpy as np\n",
        "import pandas as pd\n",
        "import matplotlib.pyplot as plt\n",
        "from sklearn.svm import SVC\n",
        "from sklearn.metrics import accuracy_score,f1_score\n",
        "from sklearn.model_selection import train_test_split\n",
        "from sklearn.preprocessing import StandardScaler\n",
        "\n",
        "# read emoticon dataset\n",
        "train_emoticon_df = pd.read_csv(\"https://raw.githubusercontent.com/psarath22/CS771_M1/main/datasets/train/train_emoticon.csv\")\n",
        "train_emoticon_X = train_emoticon_df['input_emoticon'].tolist()\n",
        "train_emoticon_Y = train_emoticon_df['label'].tolist()\n",
        "\n",
        "valid_emoticon_df = pd.read_csv(\"https://raw.githubusercontent.com/psarath22/CS771_M1/main/datasets/valid/valid_emoticon.csv\")\n",
        "valid_emoticon_X = valid_emoticon_df['input_emoticon'].tolist()\n",
        "valid_emoticon_Y = valid_emoticon_df['label'].tolist()\n",
        "\n",
        "test_emoticon_X = pd.read_csv(\"https://raw.githubusercontent.com/psarath22/CS771_M1/main/datasets/test/test_emoticon.csv\")['input_emoticon'].tolist()\n",
        "\n",
        "print(f\"Train dataset size: \")\n",
        "print(f\"train_emoticon_X: {len(train_emoticon_X)} train_emoticon_Y: {len(train_emoticon_Y)}\")\n",
        "\n",
        "print()\n",
        "print(\"Valid dataset size: \")\n",
        "print(f\"valid_emoticon_X: {len(valid_emoticon_X)} valid_emoticon_Y: {len(valid_emoticon_Y)}\")\n",
        "\n",
        "print()\n",
        "print(\"Test dataset size: \")\n",
        "print(f\"test_emoticon_X: {len(test_emoticon_X)}\")\n"
      ]
    },
    {
      "cell_type": "code",
      "source": [
        "# Convert list to NumPy array\n",
        "train_emoticon_X = np.array(train_emoticon_X)\n",
        "valid_emoticon_X = np.array(valid_emoticon_X)\n",
        "test_emoticon_X = np.array(test_emoticon_X)\n",
        "\n",
        "train_emoticon_Y = np.array(train_emoticon_Y)\n",
        "valid_emoticon_Y = np.array(valid_emoticon_Y)\n",
        "\n",
        "print(type(train_emoticon_X))\n",
        "print(type(train_emoticon_X[0]))\n",
        "\n",
        "# Concatenate all lists into one\n",
        "all_texts = ''.join(train_emoticon_X.flatten()) + ''.join(valid_emoticon_X.flatten()) + ''.join(test_emoticon_X.flatten())\n",
        "\n",
        "# Get unique characters\n",
        "unique_characters = np.unique(list(all_texts))\n",
        "print(unique_characters)\n",
        "# Create a mapping from characters to indices\n",
        "char_to_index = {char: idx for idx, char in enumerate(unique_characters)}\n",
        "print(unique_characters.shape)\n",
        "print(len(char_to_index))"
      ],
      "metadata": {
        "id": "Cwi7wbitw0O-",
        "colab": {
          "base_uri": "https://localhost:8080/"
        },
        "outputId": "2eceda56-6fe9-4cca-957e-628bbbdb2dbe"
      },
      "execution_count": 22,
      "outputs": [
        {
          "output_type": "stream",
          "name": "stdout",
          "text": [
            "<class 'numpy.ndarray'>\n",
            "<class 'numpy.str_'>\n",
            "['😀' '😁' '😂' '😃' '😄' '😅' '😆' '😇' '😈' '😉' '😊' '😋' '😌' '😍' '😎' '😏' '😐' '😑'\n",
            " '😒' '😓' '😔' '😕' '😖' '😗' '😘' '😙' '😚' '😛' '😜' '😝' '😞' '😟' '😠' '😡' '😢' '😣'\n",
            " '😤' '😥' '😦' '😧' '😨' '😩' '😪' '😫' '😬' '😭' '😮' '😯' '😰' '😱' '😲' '😳' '😴' '😵'\n",
            " '😶' '😷' '😸' '😹' '😺' '😻' '😼' '😽' '😾' '😿' '🙀' '🙁' '🙂' '🙃' '🙄' '🙅' '🙆' '🙇'\n",
            " '🙈' '🙉' '🙊' '🙋' '🙌' '🙍' '🙎' '🙏' '🙐' '🙑' '🙒' '🙓' '🙔' '🙕' '🙖' '🙗' '🙘' '🙙'\n",
            " '🙚' '🙛' '🙜' '🙝' '🙞' '🙟' '🙠' '🙡' '🙢' '🙣' '🙤' '🙥' '🙦' '🙧' '🙨' '🙩' '🙪' '🙫'\n",
            " '🙬' '🙭' '🙮' '🙯' '🙰' '🙱' '🙲' '🙳' '🙴' '🙵' '🙶' '🙷' '🙸' '🙹' '🙺' '🙻' '🙼' '🙽'\n",
            " '🙾' '🙿' '🚀' '🚁' '🚂' '🚃' '🚄' '🚅' '🚆' '🚇' '🚈' '🚉' '🚊' '🚋' '🚌' '🚍' '🚎' '🚏'\n",
            " '🚐' '🚑' '🚒' '🚓' '🚔' '🚕' '🚖' '🚗' '🚘' '🚙' '🚚' '🚛' '🚜' '🚝' '🚞' '🚟' '🚠' '🚡'\n",
            " '🚢' '🚣' '🚤' '🚥' '🚦' '🚧' '🚨' '🚩' '🚪' '🚫' '🚬' '🚭' '🚮' '🚯' '🚰' '🚱' '🚲' '🚳'\n",
            " '🚴' '🚵' '🚶' '🚷' '🚸' '🚹' '🚺' '🚻' '🚼' '🚽' '🚾' '🚿' '🛀' '🛁' '🛂' '🛃' '🛄' '🛅'\n",
            " '🛆' '🛇' '🛈' '🛉' '🛊' '🛋' '🛌' '🛍' '🛎' '🛏' '🛐' '🛑' '🛒' '🛓' '🛔' '🛕' '🛖' '🛗'\n",
            " '\\U0001f6d8' '\\U0001f6d9' '\\U0001f6da' '\\U0001f6db' '\\U0001f6dc'\n",
            " '\\U0001f6dd' '\\U0001f6de' '\\U0001f6df' '🛠' '🛡']\n",
            "(226,)\n",
            "226\n"
          ]
        }
      ]
    },
    {
      "cell_type": "code",
      "source": [
        "# Function to convert input emoticons to a 13x226 matrix\n",
        "def one_hot_count_matrix(emoticon, max_len=13, num_classes=226):\n",
        "    # Initialize a matrix of zeros\n",
        "    matrix = np.zeros((max_len, num_classes))\n",
        "    # Iterate through the characters in the emoticon\n",
        "    for i, char in enumerate(emoticon):\n",
        "        if char in char_to_index:  # Check if char exists in the mapping\n",
        "            matrix[i, char_to_index[char]] = 1  # One-hot encoding\n",
        "        else:\n",
        "            print(f\"Character '{char}' not found in char_to_index.\")  # Optional: log missing characters\n",
        "    return matrix.flatten()  # Flatten to a vector for SVM input\n",
        "\n",
        "# Create the training and validation datasets\n",
        "X_train = np.array([one_hot_count_matrix(emoticon) for emoticon in train_emoticon_X])\n",
        "X_valid = np.array([one_hot_count_matrix(emoticon) for emoticon in valid_emoticon_X])\n",
        "X_test = np.array([one_hot_count_matrix(emoticon) for emoticon in test_emoticon_X])\n",
        "\n",
        "# Initialize the scaler\n",
        "scaler = StandardScaler()\n",
        "\n",
        "# Fit the scaler on the training data and transform the datasets\n",
        "X_train = scaler.fit_transform(X_train)\n",
        "X_valid = scaler.transform(X_valid)  # Only transform, no fitting on validation or test sets\n",
        "X_test = scaler.transform(X_test)"
      ],
      "metadata": {
        "id": "rJ3lDJuOeWlB"
      },
      "execution_count": 23,
      "outputs": []
    },
    {
      "cell_type": "markdown",
      "source": [
        "# ***Logistic Regression***"
      ],
      "metadata": {
        "id": "9ScbKnxefsm8"
      }
    },
    {
      "cell_type": "code",
      "source": [
        "from sklearn.linear_model import LogisticRegression\n",
        "\n",
        "# Train Logistic Regression classifier\n",
        "logreg_classifier = LogisticRegression(max_iter=1000)\n",
        "logreg_classifier.fit(X_train, train_emoticon_Y)\n",
        "\n",
        "# Predict classes for validation data\n",
        "valid_predictions = logreg_classifier.predict(X_valid)\n",
        "train_predictions = logreg_classifier.predict(X_train)\n",
        "\n",
        "# Calculate validation accuracy\n",
        "valid_accuracy = accuracy_score(valid_emoticon_Y, valid_predictions)\n",
        "print(f\"Validation Accuracy with Logistic Regression: {valid_accuracy}\")\n",
        "\n",
        "# Calculate training accuracy\n",
        "train_accuracy = accuracy_score(train_emoticon_Y, train_predictions)\n",
        "print(f\"Train Accuracy with Logistic Regression: {train_accuracy}\")\n",
        "\n",
        "f1 = f1_score(valid_emoticon_Y, valid_predictions, average='weighted')\n",
        "print(f\"F1 Score with Logistic Regression: {f1}\")\n",
        "\n",
        "# Calculate the number of trainable parameters\n",
        "n_weights = logreg_classifier.coef_.size  # Number of weights (features)\n",
        "n_intercepts = logreg_classifier.intercept_.size  # Number of intercepts (bias term)\n",
        "\n",
        "n_trainable_parameters = n_weights + n_intercepts\n",
        "print(f\"Number of trainable parameters: {n_trainable_parameters}\")"
      ],
      "metadata": {
        "colab": {
          "base_uri": "https://localhost:8080/"
        },
        "id": "rj3qWYX7fv-A",
        "outputId": "ee32ce40-2012-4204-9bb3-7e0c95fb2f4b"
      },
      "execution_count": 24,
      "outputs": [
        {
          "output_type": "stream",
          "name": "stdout",
          "text": [
            "Validation Accuracy with Logistic Regression: 0.8936605316973415\n",
            "Train Accuracy with Logistic Regression: 1.0\n",
            "F1 Score with Logistic Regression: 0.8936801088379496\n",
            "Number of trainable parameters: 2939\n"
          ]
        }
      ]
    },
    {
      "cell_type": "code",
      "source": [
        "# Split the training data into different sizes (20%, 40%, 60%, 80%, 100%)\n",
        "train_percentages = [0.2, 0.4, 0.6, 0.8, 1.0]  # Adjust 100% to a very close float value\n",
        "train_accuracies = []\n",
        "valid_accuracies = []\n",
        "\n",
        "# Logistic classifier with different portions of the training data\n",
        "for percentage in train_percentages:\n",
        "    # Split the training data\n",
        "    print(percentage)\n",
        "    if(percentage == 1.0):\n",
        "        X_train_subset = X_train\n",
        "        Y_train_subset = train_emoticon_Y\n",
        "    else:\n",
        "      X_train_subset, _, Y_train_subset, _ = train_test_split(X_train, train_emoticon_Y, train_size=percentage, random_state=42)\n",
        "\n",
        "    # Train Logistic Regression classifier\n",
        "    logreg_classifier = LogisticRegression(max_iter=1000)\n",
        "    logreg_classifier.fit(X_train_subset, Y_train_subset)\n",
        "\n",
        "    # Predictions and accuracy on training data\n",
        "    train_predictions = logreg_classifier.predict(X_train_subset)\n",
        "    train_accuracy = accuracy_score(Y_train_subset, train_predictions)\n",
        "    train_accuracies.append(train_accuracy)\n",
        "\n",
        "    # Predictions and accuracy on validation data\n",
        "    valid_predictions = logreg_classifier.predict(X_valid)\n",
        "    valid_accuracy = accuracy_score(valid_emoticon_Y, valid_predictions)\n",
        "    valid_accuracies.append(valid_accuracy)\n",
        "# Create a DataFrame to print the table\n",
        "data = {\n",
        "    \"Percentage\": [int(p * 100) for p in train_percentages],\n",
        "    \"Training Accuracy\": train_accuracies,\n",
        "    \"Validation Accuracy\": valid_accuracies\n",
        "}\n",
        "\n",
        "accuracy_df = pd.DataFrame(data)\n",
        "print(accuracy_df)\n",
        "\n",
        "# Plot the accuracies with different colors for train and validation accuracy\n",
        "plt.plot([int(p * 100) for p in train_percentages], train_accuracies, label='Training Accuracy', color='green', marker='o')\n",
        "plt.plot([int(p * 100) for p in train_percentages], valid_accuracies, label='Validation Accuracy', color='red', marker='o')\n",
        "\n",
        "# Add labels and title\n",
        "plt.ylim(0.4, 1.02)\n",
        "plt.xlabel('Percentage of Training Data Used')\n",
        "plt.ylabel('Accuracy')\n",
        "plt.title('Logistic Accuracy vs. Training Data Size')\n",
        "\n",
        "# Display legend\n",
        "plt.legend()\n",
        "\n",
        "# Add grid for better readability\n",
        "plt.grid(True)\n",
        "\n",
        "# Show the plot\n",
        "plt.show()"
      ],
      "metadata": {
        "colab": {
          "base_uri": "https://localhost:8080/",
          "height": 663
        },
        "id": "PXD6dDDhn9Kd",
        "outputId": "f3361c93-de4e-4c1f-edb5-0401cfbd9199"
      },
      "execution_count": 25,
      "outputs": [
        {
          "output_type": "stream",
          "name": "stdout",
          "text": [
            "0.2\n",
            "0.4\n",
            "0.6\n",
            "0.8\n",
            "1.0\n",
            "   Percentage  Training Accuracy  Validation Accuracy\n",
            "0          20                1.0             0.738241\n",
            "1          40                1.0             0.791411\n",
            "2          60                1.0             0.842536\n",
            "3          80                1.0             0.889571\n",
            "4         100                1.0             0.893661\n"
          ]
        },
        {
          "output_type": "display_data",
          "data": {
            "text/plain": [
              "<Figure size 640x480 with 1 Axes>"
            ],
            "image/png": "[encoded data removed]"
          },
          "metadata": {}
        }
      ]
    },
    {
      "cell_type": "markdown",
      "source": [
        "# ***KNN***"
      ],
      "metadata": {
        "id": "8lU_wmB_f5hs"
      }
    },
    {
      "cell_type": "code",
      "source": [
        "from sklearn.neighbors import KNeighborsClassifier\n",
        "\n",
        "# Train KNN classifier\n",
        "knn_classifier = KNeighborsClassifier(n_neighbors=5)  # You can change the number of neighbors (n_neighbors)\n",
        "knn_classifier.fit(X_train, train_emoticon_Y)\n",
        "\n",
        "# Predict classes for validation data\n",
        "valid_predictions = knn_classifier.predict(X_valid)\n",
        "train_predictions = knn_classifier.predict(X_train)\n",
        "\n",
        "# Calculate validation accuracy\n",
        "valid_accuracy = accuracy_score(valid_emoticon_Y, valid_predictions)\n",
        "print(f\"Validation Accuracy with KNN: {valid_accuracy}\")\n",
        "\n",
        "# Calculate training accuracy\n",
        "train_accuracy = accuracy_score(train_emoticon_Y, train_predictions)\n",
        "print(f\"Train Accuracy with KNN: {train_accuracy:}\")\n",
        "\n",
        "f1 = f1_score(valid_emoticon_Y, valid_predictions, average='weighted')\n",
        "print(f\"F1 Score with KNN Regression: {f1}\")"
      ],
      "metadata": {
        "colab": {
          "base_uri": "https://localhost:8080/"
        },
        "id": "aCubY6-Uf-mg",
        "outputId": "c7d9f831-0fd1-41ed-dbd2-23cf8a2534c0"
      },
      "execution_count": 26,
      "outputs": [
        {
          "output_type": "stream",
          "name": "stdout",
          "text": [
            "Validation Accuracy with KNN: 0.5930470347648262\n",
            "Train Accuracy with KNN: 0.7221751412429378\n",
            "F1 Score with KNN Regression: 0.5931219220757161\n"
          ]
        }
      ]
    },
    {
      "cell_type": "markdown",
      "source": [
        "# ***LwP***"
      ],
      "metadata": {
        "id": "lpKsV6DUgCaP"
      }
    },
    {
      "cell_type": "code",
      "source": [
        "import numpy as np\n",
        "from sklearn.metrics import accuracy_score\n",
        "\n",
        "def compute_class_prototypes(X_train, Y_train):\n",
        "    \"\"\"Compute the mean prototype for each class.\"\"\"\n",
        "    class_0_prototype = X_train[Y_train == 0].mean(axis=0)\n",
        "    class_1_prototype = X_train[Y_train == 1].mean(axis=0)\n",
        "    return class_0_prototype, class_1_prototype\n",
        "\n",
        "def predict_lwp(X_valid, class_0_prototype, class_1_prototype):\n",
        "    \"\"\"Predict labels based on distance to prototypes.\"\"\"\n",
        "    predictions = []\n",
        "    for x in X_valid:\n",
        "        # Compute distances to each prototype\n",
        "        distance_to_class_0 = np.linalg.norm(x - class_0_prototype)\n",
        "        distance_to_class_1 = np.linalg.norm(x - class_1_prototype)\n",
        "\n",
        "        # Assign the class with the closer prototype\n",
        "        if distance_to_class_0 < distance_to_class_1:\n",
        "            predictions.append(0)\n",
        "        else:\n",
        "            predictions.append(1)\n",
        "\n",
        "    return np.array(predictions)\n",
        "\n",
        "# Compute prototypes for the two classes\n",
        "class_0_prototype, class_1_prototype = compute_class_prototypes(X_train, train_emoticon_Y)\n",
        "\n",
        "# Predict on the training data\n",
        "train_predictions = predict_lwp(X_train, class_0_prototype, class_1_prototype)\n",
        "train_accuracy = accuracy_score(train_emoticon_Y, train_predictions)\n",
        "print(f\"Train Accuracy with LWP: {train_accuracy}\")\n",
        "\n",
        "# Predict on the validation data\n",
        "valid_predictions = predict_lwp(X_valid, class_0_prototype, class_1_prototype)\n",
        "valid_accuracy = accuracy_score(valid_emoticon_Y, valid_predictions)\n",
        "print(f\"Validation Accuracy with LWP: {valid_accuracy}\")\n",
        "\n",
        "f1 = f1_score(valid_emoticon_Y, valid_predictions, average='weighted')\n",
        "print(f\"f1 score with LwP Regression: {f1}\")"
      ],
      "metadata": {
        "colab": {
          "base_uri": "https://localhost:8080/"
        },
        "id": "pOoOq3j3gIQ6",
        "outputId": "93ed0859-d383-4632-8816-777d8b2b8d27"
      },
      "execution_count": 27,
      "outputs": [
        {
          "output_type": "stream",
          "name": "stdout",
          "text": [
            "Train Accuracy with LWP: 0.9269774011299435\n",
            "Validation Accuracy with LWP: 0.8241308793456033\n",
            "f1 score with LwP Regression: 0.824172074762702\n"
          ]
        }
      ]
    },
    {
      "cell_type": "markdown",
      "source": [
        "# ***SVM Classifier***"
      ],
      "metadata": {
        "id": "QT7MVoEuecPQ"
      }
    },
    {
      "cell_type": "code",
      "source": [
        "# Train SVM classifier\n",
        "svm_classifier = SVC(kernel='linear')  # You can also experiment with other kernels\n",
        "svm_classifier.fit(X_train, train_emoticon_Y)\n",
        "\n",
        "# Predict classes for validation data\n",
        "valid_predictions = svm_classifier.predict(X_valid)\n",
        "train_predictions = svm_classifier.predict(X_train)\n",
        "\n",
        "# Calculate validation accuracy\n",
        "valid_accuracy = accuracy_score(valid_emoticon_Y, valid_predictions)\n",
        "print(f\"Validation Accuracy with SVM: {valid_accuracy}\")\n",
        "\n",
        "# Calculate validation accuracy\n",
        "train_accuracy = accuracy_score(train_emoticon_Y, train_predictions)\n",
        "print(f\"Train Accuracy with SVM: {train_accuracy}\")\n",
        "\n",
        "f1 = f1_score(valid_emoticon_Y, valid_predictions, average='weighted')\n",
        "print(f\"F1 Score with SVM: {f1}\")\n",
        "\n",
        "n_weights = svm_classifier.coef_.size  # Number of weights\n",
        "n_intercepts = svm_classifier.intercept_.size  # Number of intercepts\n",
        "n_params = n_weights + n_intercepts\n",
        "print(f\"Number of trainable parameters: {n_params}\")"
      ],
      "metadata": {
        "id": "2cOEvqfBC2Vl",
        "colab": {
          "base_uri": "https://localhost:8080/"
        },
        "outputId": "d64860b4-0fe0-4c9a-8195-cd6a3a64d1bc"
      },
      "execution_count": 28,
      "outputs": [
        {
          "output_type": "stream",
          "name": "stdout",
          "text": [
            "Validation Accuracy with SVM: 0.8834355828220859\n",
            "Train Accuracy with SVM: 1.0\n",
            "F1 Score with SVM: 0.8834619101890375\n",
            "Number of trainable parameters: 2939\n"
          ]
        }
      ]
    },
    {
      "cell_type": "code",
      "source": [
        "# Split the training data into different sizes (20%, 40%, 60%, 80%, 100%)\n",
        "train_percentages = [0.2, 0.4, 0.6, 0.8, 1.0]  # Adjust 100% to a very close float value\n",
        "train_accuracies = []\n",
        "valid_accuracies = []\n",
        "\n",
        "# Train SVM classifier with different portions of the training data\n",
        "for percentage in train_percentages:\n",
        "    # Split the training data\n",
        "    print(percentage)\n",
        "    if(percentage == 1.0):\n",
        "        X_train_subset = X_train\n",
        "        Y_train_subset = train_emoticon_Y\n",
        "    else:\n",
        "      X_train_subset, _, Y_train_subset, _ = train_test_split(X_train, train_emoticon_Y, train_size=percentage, random_state=42)\n",
        "\n",
        "    # Train SVM classifier\n",
        "    svm_classifier = SVC(kernel='linear')  # You can experiment with other kernels if needed\n",
        "    svm_classifier.fit(X_train_subset, Y_train_subset)\n",
        "\n",
        "    # Predictions and accuracy on training data\n",
        "    train_predictions = svm_classifier.predict(X_train_subset)\n",
        "    train_accuracy = accuracy_score(Y_train_subset, train_predictions)\n",
        "    train_accuracies.append(train_accuracy)\n",
        "\n",
        "    # Predictions and accuracy on validation data\n",
        "    valid_predictions = svm_classifier.predict(X_valid)\n",
        "    valid_accuracy = accuracy_score(valid_emoticon_Y, valid_predictions)\n",
        "    valid_accuracies.append(valid_accuracy)\n",
        "\n",
        "# Create a DataFrame to print the table\n",
        "data = {\n",
        "    \"Percentage\": [int(p * 100) for p in train_percentages],\n",
        "    \"Training Accuracy\": train_accuracies,\n",
        "    \"Validation Accuracy\": valid_accuracies\n",
        "}\n",
        "\n",
        "accuracy_df = pd.DataFrame(data)\n",
        "print(accuracy_df)\n",
        "\n",
        "# Plot the accuracies with different colors for train and validation accuracy\n",
        "plt.plot([int(p * 100) for p in train_percentages], train_accuracies, label='Training Accuracy', color='green', marker='o')\n",
        "plt.plot([int(p * 100) for p in train_percentages], valid_accuracies, label='Validation Accuracy', color='red', marker='o')\n",
        "\n",
        "# Add labels and title\n",
        "plt.ylim(0.4, 1.02)\n",
        "plt.xlabel('Percentage of Training Data Used')\n",
        "plt.ylabel('Accuracy')\n",
        "plt.title('SVM Accuracy vs. Training Data Size')\n",
        "\n",
        "# Display legend\n",
        "plt.legend()\n",
        "\n",
        "# Add grid for better readability\n",
        "plt.grid(True)\n",
        "\n",
        "# Show the plot\n",
        "plt.show()\n"
      ],
      "metadata": {
        "id": "sktbL7oHEdVq",
        "colab": {
          "base_uri": "https://localhost:8080/",
          "height": 663
        },
        "outputId": "9d79d422-3455-4f51-dbf5-c86164eb013d"
      },
      "execution_count": 29,
      "outputs": [
        {
          "output_type": "stream",
          "name": "stdout",
          "text": [
            "0.2\n",
            "0.4\n",
            "0.6\n",
            "0.8\n",
            "1.0\n",
            "   Percentage  Training Accuracy  Validation Accuracy\n",
            "0          20                1.0             0.736196\n",
            "1          40                1.0             0.785276\n",
            "2          60                1.0             0.820041\n",
            "3          80                1.0             0.865031\n",
            "4         100                1.0             0.883436\n"
          ]
        },
        {
          "output_type": "display_data",
          "data": {
            "text/plain": [
              "<Figure size 640x480 with 1 Axes>"
            ],
            "image/png": "[encoded data removed]"
          },
          "metadata": {}
        }
      ]
    },
    {
      "cell_type": "markdown",
      "source": [
        "# **Embeddings-Based Feature Extraction**"
      ],
      "metadata": {
        "id": "LcqgtIAgGv4b"
      }
    },
    {
      "cell_type": "code",
      "source": [
        "import numpy as np\n",
        "import pandas as pd\n",
        "from tensorflow.keras.preprocessing.sequence import pad_sequences\n",
        "from sklearn.metrics import f1_score, confusion_matrix\n",
        "from tensorflow.keras.models import Sequential\n",
        "from tensorflow.keras.layers import Dense, Embedding, Flatten\n",
        "from sklearn.model_selection import train_test_split\n",
        "import matplotlib.pyplot as plt\n",
        "\n",
        "from sklearn.svm import SVC\n",
        "from sklearn.metrics import accuracy_score,f1_score\n",
        "from sklearn.preprocessing import StandardScaler\n",
        "np.random.seed(123)\n",
        "\n",
        "# Read emoticon dataset\n",
        "train_emoticon_df = pd.read_csv(\"https://raw.githubusercontent.com/psarath22/CS771_M1/main/datasets/train/train_emoticon.csv\")\n",
        "train_emoticon_X = train_emoticon_df['input_emoticon'].tolist()\n",
        "train_emoticon_Y = train_emoticon_df['label'].tolist()\n",
        "\n",
        "valid_emoticon_df = pd.read_csv(\"https://raw.githubusercontent.com/psarath22/CS771_M1/main/datasets/valid/valid_emoticon.csv\")\n",
        "valid_emoticon_X = valid_emoticon_df['input_emoticon'].tolist()\n",
        "valid_emoticon_Y = valid_emoticon_df['label'].tolist()\n",
        "\n",
        "test_emoticon_X = pd.read_csv(\"https://raw.githubusercontent.com/psarath22/CS771_M1/main/datasets/test/test_emoticon.csv\")['input_emoticon'].tolist()\n",
        "\n",
        "# Convert lists to NumPy arrays\n",
        "train_emoticon_X = np.array(train_emoticon_X)\n",
        "valid_emoticon_X = np.array(valid_emoticon_X)\n",
        "test_emoticon_X = np.array(test_emoticon_X)\n",
        "\n",
        "# Ensure labels are NumPy arrays\n",
        "train_emoticon_Y = np.array(train_emoticon_Y)\n",
        "valid_emoticon_Y = np.array(valid_emoticon_Y)\n",
        "\n",
        "# Concatenate all texts to get unique characters\n",
        "all_texts = ''.join(train_emoticon_X.flatten()) + ''.join(valid_emoticon_X.flatten()) + ''.join(test_emoticon_X.flatten())\n",
        "unique_characters = np.unique(list(all_texts))\n",
        "\n",
        "# Create character-to-index mapping\n",
        "char_to_index = {char: idx + 1 for idx, char in enumerate(unique_characters)}  # Index starts from 1 for embedding\n",
        "num_classes = len(unique_characters) + 1  # Include 0 for padding\n",
        "\n",
        "# Convert sequences to integer sequences\n",
        "def convert_to_sequences(sequences):\n",
        "    return [[char_to_index[char] for char in seq] for seq in sequences]\n",
        "\n",
        "# Convert to integer sequences\n",
        "X_train = convert_to_sequences(train_emoticon_X)\n",
        "X_valid = convert_to_sequences(valid_emoticon_X)\n",
        "X_test = convert_to_sequences(test_emoticon_X)\n",
        "\n",
        "# Pad sequences to a fixed length\n",
        "max_len = 13  # Fixed sequence length\n",
        "X_train = pad_sequences(X_train, maxlen=max_len, padding='post')\n",
        "X_valid = pad_sequences(X_valid, maxlen=max_len, padding='post')\n",
        "X_test = pad_sequences(X_test, maxlen=max_len, padding='post')"
      ],
      "metadata": {
        "id": "_BB0Ag-UO4rZ"
      },
      "execution_count": 30,
      "outputs": []
    },
    {
      "cell_type": "markdown",
      "source": [
        "# ***Logistic Regression***"
      ],
      "metadata": {
        "id": "-A8YOMHAHet0"
      }
    },
    {
      "cell_type": "code",
      "source": [
        "from sklearn.linear_model import LogisticRegression\n",
        "\n",
        "# Train Logistic Regression classifier\n",
        "logreg_classifier = LogisticRegression(max_iter=1000)\n",
        "logreg_classifier.fit(X_train, train_emoticon_Y)\n",
        "\n",
        "# Predict classes for validation data\n",
        "valid_predictions = logreg_classifier.predict(X_valid)\n",
        "train_predictions = logreg_classifier.predict(X_train)\n",
        "\n",
        "# Calculate validation accuracy\n",
        "valid_accuracy = accuracy_score(valid_emoticon_Y, valid_predictions)\n",
        "print(f\"Validation Accuracy with Logistic Regression: {valid_accuracy}\")\n",
        "\n",
        "# Calculate training accuracy\n",
        "train_accuracy = accuracy_score(train_emoticon_Y, train_predictions)\n",
        "print(f\"Train Accuracy with Logistic Regression: {train_accuracy}\")\n",
        "\n",
        "f1 = f1_score(valid_emoticon_Y, valid_predictions, average='weighted')\n",
        "print(f\"F1 Score with Logistic Regression: {f1}\")\n",
        "\n",
        "# Calculate the number of trainable parameters\n",
        "n_weights = logreg_classifier.coef_.size  # Number of weights (features)\n",
        "n_intercepts = logreg_classifier.intercept_.size  # Number of intercepts (bias term)\n",
        "\n",
        "n_trainable_parameters = n_weights + n_intercepts\n",
        "print(f\"Number of trainable parameters: {n_trainable_parameters}\")"
      ],
      "metadata": {
        "id": "Q29sSGtOHe8i",
        "colab": {
          "base_uri": "https://localhost:8080/"
        },
        "outputId": "9e13562e-6c0f-4cbe-a727-139a1017a78e"
      },
      "execution_count": 31,
      "outputs": [
        {
          "output_type": "stream",
          "name": "stdout",
          "text": [
            "Validation Accuracy with Logistic Regression: 0.5828220858895705\n",
            "Train Accuracy with Logistic Regression: 0.561864406779661\n",
            "F1 Score with Logistic Regression: 0.5826018562214881\n",
            "Number of trainable parameters: 14\n"
          ]
        }
      ]
    },
    {
      "cell_type": "markdown",
      "source": [
        "# ***KNN***"
      ],
      "metadata": {
        "id": "216uYOCAHfJH"
      }
    },
    {
      "cell_type": "code",
      "source": [
        "from sklearn.neighbors import KNeighborsClassifier\n",
        "\n",
        "# Train KNN classifier\n",
        "knn_classifier = KNeighborsClassifier(n_neighbors=5)  # You can change the number of neighbors (n_neighbors)\n",
        "knn_classifier.fit(X_train, train_emoticon_Y)\n",
        "\n",
        "# Predict classes for validation data\n",
        "valid_predictions = knn_classifier.predict(X_valid)\n",
        "train_predictions = knn_classifier.predict(X_train)\n",
        "\n",
        "# Calculate validation accuracy\n",
        "valid_accuracy = accuracy_score(valid_emoticon_Y, valid_predictions)\n",
        "print(f\"Validation Accuracy with KNN: {valid_accuracy}\")\n",
        "\n",
        "# Calculate training accuracy\n",
        "train_accuracy = accuracy_score(train_emoticon_Y, train_predictions)\n",
        "print(f\"Train Accuracy with KNN: {train_accuracy:}\")\n",
        "\n",
        "f1 = f1_score(valid_emoticon_Y, valid_predictions, average='weighted')\n",
        "print(f\"F1 Score with KNN Regression: {f1}\")"
      ],
      "metadata": {
        "id": "aqPL9iFaHfcd",
        "colab": {
          "base_uri": "https://localhost:8080/"
        },
        "outputId": "e036fffa-8838-40c2-a741-e392500a76a9"
      },
      "execution_count": 32,
      "outputs": [
        {
          "output_type": "stream",
          "name": "stdout",
          "text": [
            "Validation Accuracy with KNN: 0.5276073619631901\n",
            "Train Accuracy with KNN: 0.6937853107344633\n",
            "F1 Score with KNN Regression: 0.5268046355384003\n"
          ]
        }
      ]
    },
    {
      "cell_type": "markdown",
      "source": [
        "# ***LwP***"
      ],
      "metadata": {
        "id": "y7Npin6THfnC"
      }
    },
    {
      "cell_type": "code",
      "source": [
        "import numpy as np\n",
        "from sklearn.metrics import accuracy_score\n",
        "\n",
        "def compute_class_prototypes(X_train, Y_train):\n",
        "    \"\"\"Compute the mean prototype for each class.\"\"\"\n",
        "    class_0_prototype = X_train[Y_train == 0].mean(axis=0)\n",
        "    class_1_prototype = X_train[Y_train == 1].mean(axis=0)\n",
        "    return class_0_prototype, class_1_prototype\n",
        "\n",
        "def predict_lwp(X_valid, class_0_prototype, class_1_prototype):\n",
        "    \"\"\"Predict labels based on distance to prototypes.\"\"\"\n",
        "    predictions = []\n",
        "    for x in X_valid:\n",
        "        # Compute distances to each prototype\n",
        "        distance_to_class_0 = np.linalg.norm(x - class_0_prototype)\n",
        "        distance_to_class_1 = np.linalg.norm(x - class_1_prototype)\n",
        "\n",
        "        # Assign the class with the closer prototype\n",
        "        if distance_to_class_0 < distance_to_class_1:\n",
        "            predictions.append(0)\n",
        "        else:\n",
        "            predictions.append(1)\n",
        "\n",
        "    return np.array(predictions)\n",
        "\n",
        "# Compute prototypes for the two classes\n",
        "class_0_prototype, class_1_prototype = compute_class_prototypes(X_train, train_emoticon_Y)\n",
        "\n",
        "# Predict on the training data\n",
        "train_predictions = predict_lwp(X_train, class_0_prototype, class_1_prototype)\n",
        "train_accuracy = accuracy_score(train_emoticon_Y, train_predictions)\n",
        "print(f\"Train Accuracy with LWP: {train_accuracy}\")\n",
        "\n",
        "# Predict on the validation data\n",
        "valid_predictions = predict_lwp(X_valid, class_0_prototype, class_1_prototype)\n",
        "valid_accuracy = accuracy_score(valid_emoticon_Y, valid_predictions)\n",
        "print(f\"Validation Accuracy with LWP: {valid_accuracy}\")\n",
        "\n",
        "f1 = f1_score(valid_emoticon_Y, valid_predictions, average='weighted')\n",
        "print(f\"f1 score with LwP Regression: {f1}\")"
      ],
      "metadata": {
        "id": "CHvgjqe0Hfxd",
        "colab": {
          "base_uri": "https://localhost:8080/"
        },
        "outputId": "6b85e67c-9154-4227-8bbd-cb878196ee62"
      },
      "execution_count": 33,
      "outputs": [
        {
          "output_type": "stream",
          "name": "stdout",
          "text": [
            "Train Accuracy with LWP: 0.5454802259887006\n",
            "Validation Accuracy with LWP: 0.556237218813906\n",
            "f1 score with LwP Regression: 0.5553157512926353\n"
          ]
        }
      ]
    },
    {
      "cell_type": "markdown",
      "source": [
        "# ***SVM Classifier***"
      ],
      "metadata": {
        "id": "h0EvHAs3I3DG"
      }
    },
    {
      "cell_type": "code",
      "source": [
        "# Initialize the scaler\n",
        "scaler = StandardScaler()\n",
        "\n",
        "# Fit the scaler on the training data and transform the datasets\n",
        "X_train_scaled = scaler.fit_transform(X_train)\n",
        "X_valid_scaled = scaler.transform(X_valid)  # Only transform, no fitting on validation or test sets\n",
        "X_test_scaled = scaler.transform(X_test)\n",
        "\n",
        "# Train SVM classifier\n",
        "svm_classifier = SVC(kernel='linear')  # You can also experiment with other kernels\n",
        "svm_classifier.fit(X_train_scaled, train_emoticon_Y)\n",
        "\n",
        "# Predict classes for validation data\n",
        "valid_predictions = svm_classifier.predict(X_valid_scaled)\n",
        "train_predictions = svm_classifier.predict(X_train_scaled)\n",
        "\n",
        "# Calculate validation accuracy\n",
        "valid_accuracy = accuracy_score(valid_emoticon_Y, valid_predictions)\n",
        "print(f\"Validation Accuracy with SVM: {valid_accuracy}\")\n",
        "\n",
        "# Calculate validation accuracy\n",
        "train_accuracy = accuracy_score(train_emoticon_Y, train_predictions)\n",
        "print(f\"Train Accuracy with SVM: {train_accuracy}\")\n",
        "\n",
        "f1 = f1_score(valid_emoticon_Y, valid_predictions, average='weighted')\n",
        "print(f\"F1 Score with SVM: {f1}\")\n",
        "\n",
        "n_weights = svm_classifier.coef_.size  # Number of weights\n",
        "n_intercepts = svm_classifier.intercept_.size  # Number of intercepts\n",
        "n_params = n_weights + n_intercepts\n",
        "print(f\"Number of trainable parameters: {n_params}\")"
      ],
      "metadata": {
        "id": "l9xlhDf9L_MT",
        "colab": {
          "base_uri": "https://localhost:8080/"
        },
        "outputId": "cf1fe6f7-9873-427d-eb7f-74950f54a4d1"
      },
      "execution_count": 34,
      "outputs": [
        {
          "output_type": "stream",
          "name": "stdout",
          "text": [
            "Validation Accuracy with SVM: 0.5848670756646217\n",
            "Train Accuracy with SVM: 0.5603107344632768\n",
            "F1 Score with SVM: 0.5849122144712842\n",
            "Number of trainable parameters: 14\n"
          ]
        }
      ]
    },
    {
      "cell_type": "markdown",
      "source": [
        "# ***Deep Neural Network***"
      ],
      "metadata": {
        "id": "vy_ehyVSOLnq"
      }
    },
    {
      "cell_type": "code",
      "source": [
        "# Define the model for feature extraction\n",
        "embedding_dimension = 12 # Dimension of the embedding\n",
        "# Define and compile the model\n",
        "model = Sequential()\n",
        "model.add(Embedding(input_dim=num_classes, output_dim=embedding_dimension, input_length=max_len))  # Added input_length\n",
        "model.add(Flatten())\n",
        "model.add(Dense(24, activation='relu'))\n",
        "model.add(Dense(1, activation='sigmoid'))\n",
        "model.compile(optimizer='adam', loss='binary_crossentropy', metrics=['accuracy'])\n",
        "\n",
        "# Fit the model\n",
        "history = model.fit(X_train, train_emoticon_Y, epochs=10, batch_size=32, validation_data=(X_valid, valid_emoticon_Y))\n",
        "\n",
        "# Evaluate the model on training and validation data\n",
        "train_loss, train_accuracy = model.evaluate(X_train, train_emoticon_Y, verbose=0)\n",
        "valid_loss, valid_accuracy = model.evaluate(X_valid, valid_emoticon_Y, verbose=0)\n",
        "\n",
        "# Predictions and calculate F1 score and confusion matrix\n",
        "valid_predictions = (model.predict(X_valid) > 0.5).astype(\"int32\")\n",
        "f1 = f1_score(valid_emoticon_Y, valid_predictions)\n",
        "\n",
        "# Print accuracies and F1 score\n",
        "model.summary()\n",
        "\n",
        "print(f\"Training Accuracy: {train_accuracy:.4f}\")\n",
        "print(f\"Validation Accuracy: {valid_accuracy:.4f}\")\n",
        "print(f\"F1 Score: {f1:.4f}\")"
      ],
      "metadata": {
        "id": "rhsEWUslQbpZ",
        "colab": {
          "base_uri": "https://localhost:8080/"
        },
        "outputId": "c1356362-a5b7-4eca-b2d2-e085dd7358f1"
      },
      "execution_count": 35,
      "outputs": [
        {
          "output_type": "stream",
          "name": "stdout",
          "text": [
            "Epoch 1/10\n",
            "222/222 [==============================] - 1s 3ms/step - loss: 0.6513 - accuracy: 0.6787 - val_loss: 0.4322 - val_accuracy: 0.9223\n",
            "Epoch 2/10\n",
            "222/222 [==============================] - 0s 2ms/step - loss: 0.2220 - accuracy: 0.9463 - val_loss: 0.1300 - val_accuracy: 0.9632\n",
            "Epoch 3/10\n",
            "222/222 [==============================] - 0s 2ms/step - loss: 0.1050 - accuracy: 0.9719 - val_loss: 0.0933 - val_accuracy: 0.9693\n",
            "Epoch 4/10\n",
            "222/222 [==============================] - 0s 2ms/step - loss: 0.0763 - accuracy: 0.9804 - val_loss: 0.0721 - val_accuracy: 0.9816\n",
            "Epoch 5/10\n",
            "222/222 [==============================] - 0s 2ms/step - loss: 0.0618 - accuracy: 0.9842 - val_loss: 0.0599 - val_accuracy: 0.9857\n",
            "Epoch 6/10\n",
            "222/222 [==============================] - 0s 2ms/step - loss: 0.0521 - accuracy: 0.9862 - val_loss: 0.0516 - val_accuracy: 0.9898\n",
            "Epoch 7/10\n",
            "222/222 [==============================] - 0s 2ms/step - loss: 0.0442 - accuracy: 0.9881 - val_loss: 0.0493 - val_accuracy: 0.9836\n",
            "Epoch 8/10\n",
            "222/222 [==============================] - 0s 2ms/step - loss: 0.0381 - accuracy: 0.9910 - val_loss: 0.0446 - val_accuracy: 0.9939\n",
            "Epoch 9/10\n",
            "222/222 [==============================] - 0s 2ms/step - loss: 0.0340 - accuracy: 0.9925 - val_loss: 0.0384 - val_accuracy: 0.9918\n",
            "Epoch 10/10\n",
            "222/222 [==============================] - 0s 2ms/step - loss: 0.0281 - accuracy: 0.9939 - val_loss: 0.0403 - val_accuracy: 0.9918\n",
            "16/16 [==============================] - 0s 1ms/step\n",
            "Model: \"sequential_12\"\n",
            "_________________________________________________________________\n",
            " Layer (type)                Output Shape              Param #   \n",
            "=================================================================\n",
            " embedding_12 (Embedding)    (None, 13, 12)            2724      \n",
            "                                                                 \n",
            " flatten_12 (Flatten)        (None, 156)               0         \n",
            "                                                                 \n",
            " dense_24 (Dense)            (None, 24)                3768      \n",
            "                                                                 \n",
            " dense_25 (Dense)            (None, 1)                 25        \n",
            "                                                                 \n",
            "=================================================================\n",
            "Total params: 6517 (25.46 KB)\n",
            "Trainable params: 6517 (25.46 KB)\n",
            "Non-trainable params: 0 (0.00 Byte)\n",
            "_________________________________________________________________\n",
            "Training Accuracy: 0.9972\n",
            "Validation Accuracy: 0.9918\n",
            "F1 Score: 0.9916\n"
          ]
        }
      ]
    },
    {
      "cell_type": "code",
      "source": [
        "# Split the training data into different sizes (20%, 40%, 60%, 80%, 100%)\n",
        "train_percentages = [0.2, 0.4, 0.6, 0.8, 1.0]\n",
        "train_accuracies = []\n",
        "valid_accuracies = []\n",
        "\n",
        "# Analyze model performance with different training set sizes\n",
        "for percentage in train_percentages:\n",
        "    print(f\"Training on {percentage * 100}% of the data\")\n",
        "    if percentage == 1.0:\n",
        "        X_train_subset = X_train\n",
        "        Y_train_subset = train_emoticon_Y\n",
        "    else:\n",
        "        X_train_subset, _, Y_train_subset, _ = train_test_split(X_train, train_emoticon_Y, train_size=percentage, random_state=42)\n",
        "\n",
        "    # Define and compile the model\n",
        "    model = Sequential()\n",
        "    model.add(Embedding(input_dim=num_classes, output_dim=embedding_dimension, input_length=max_len))  # Added input_length\n",
        "    model.add(Flatten())\n",
        "    model.add(Dense(24, activation='relu'))\n",
        "    model.add(Dense(1, activation='sigmoid'))\n",
        "    model.compile(optimizer='adam', loss='binary_crossentropy', metrics=['accuracy'])\n",
        "\n",
        "    # Fit the model\n",
        "    model.fit(X_train_subset, Y_train_subset, epochs=10, batch_size=32, validation_data=(X_valid, valid_emoticon_Y), verbose=0)\n",
        "\n",
        "    # Evaluate the model on training and validation data\n",
        "    train_loss, train_accuracy = model.evaluate(X_train_subset, Y_train_subset, verbose=0)\n",
        "    valid_loss, valid_accuracy = model.evaluate(X_valid, valid_emoticon_Y, verbose=0)\n",
        "\n",
        "    # Store accuracies\n",
        "    train_accuracies.append(train_accuracy)\n",
        "    valid_accuracies.append(valid_accuracy)\n",
        "\n",
        "# Create a DataFrame to print the table\n",
        "data = {\n",
        "    \"Percentage\": [int(p * 100) for p in train_percentages],\n",
        "    \"Training Accuracy\": train_accuracies,\n",
        "    \"Validation Accuracy\": valid_accuracies\n",
        "}\n",
        "\n",
        "accuracy_df = pd.DataFrame(data)\n",
        "print(accuracy_df)\n",
        "\n",
        "# Plot the accuracies\n",
        "plt.plot([int(p * 100) for p in train_percentages], train_accuracies, label='Training Accuracy', color='green', marker='o')\n",
        "plt.plot([int(p * 100) for p in train_percentages], valid_accuracies, label='Validation Accuracy', color='red', marker='o')\n",
        "\n",
        "# Add labels and title\n",
        "plt.ylim(0.4, 1.02)\n",
        "plt.xlabel('Percentage of Training Data Used')\n",
        "plt.ylabel('Accuracy')\n",
        "plt.title('Model Accuracy vs. Training Data Size')\n",
        "plt.legend()\n",
        "plt.grid(True)\n",
        "plt.show()\n"
      ],
      "metadata": {
        "id": "qThfiqdMQhta",
        "colab": {
          "base_uri": "https://localhost:8080/",
          "height": 663
        },
        "outputId": "75a4de76-125d-4bc1-e703-5f0f3f814686"
      },
      "execution_count": 36,
      "outputs": [
        {
          "output_type": "stream",
          "name": "stdout",
          "text": [
            "Training on 20.0% of the data\n",
            "Training on 40.0% of the data\n",
            "Training on 60.0% of the data\n",
            "Training on 80.0% of the data\n",
            "Training on 100.0% of the data\n",
            "   Percentage  Training Accuracy  Validation Accuracy\n",
            "0          20           0.995057             0.899795\n",
            "1          40           0.999294             0.944785\n",
            "2          60           0.999058             0.959100\n",
            "3          80           0.993468             0.965235\n",
            "4         100           0.998588             0.979550\n"
          ]
        },
        {
          "output_type": "display_data",
          "data": {
            "text/plain": [
              "<Figure size 640x480 with 1 Axes>"
            ],
            "image/png": "[encoded data removed]"
          },
          "metadata": {}
        }
      ]
    },
    {
      "cell_type": "code",
      "source": [
        "# Make predictions on the test set\n",
        "test_predictions = (model.predict(X_test) > 0.5).astype(\"int32\").flatten()\n",
        "\n",
        "# Print test predictions\n",
        "print(\"Test Predictions:\", test_predictions)"
      ],
      "metadata": {
        "id": "YUIjz1AQQl6w",
        "colab": {
          "base_uri": "https://localhost:8080/"
        },
        "outputId": "38651dd7-927f-48b4-fb88-7dbff39ba8a4"
      },
      "execution_count": 37,
      "outputs": [
        {
          "output_type": "stream",
          "name": "stdout",
          "text": [
            "70/70 [==============================] - 0s 1ms/step\n",
            "Test Predictions: [1 1 0 ... 1 1 0]\n"
          ]
        }
      ]
    },
    {
      "cell_type": "code",
      "source": [],
      "metadata": {
        "id": "z2DsGjMMFTDT"
      },
      "execution_count": null,
      "outputs": []
    }
  ]
}