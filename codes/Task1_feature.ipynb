{
  "nbformat": 4,
  "nbformat_minor": 0,
  "metadata": {
    "colab": {
      "provenance": [],
      "gpuType": "V28"
    },
    "kernelspec": {
      "name": "python3",
      "display_name": "Python 3"
    },
    "language_info": {
      "name": "python"
    },
    "accelerator": "TPU"
  },
  "cells": [
    {
      "cell_type": "markdown",
      "source": [
        "# **Flattened Feature Set**"
      ],
      "metadata": {
        "id": "neiOhgZwYK7S"
      }
    },
    {
      "cell_type": "code",
      "source": [
        "import numpy as np\n",
        "import pandas as pd\n",
        "import matplotlib.pyplot as plt\n",
        "from sklearn.metrics import accuracy_score, f1_score\n",
        "from sklearn.model_selection import train_test_split\n",
        "from sklearn.preprocessing import StandardScaler\n",
        "from sklearn.svm import SVC\n",
        "from sklearn.linear_model import LogisticRegression\n",
        "import requests\n",
        "\n",
        "\n",
        "# URL of the raw .npz file\n",
        "url_train = \"https://github.com/psarath22/CS771_M1/raw/main/datasets/train/train_feature.npz\"\n",
        "url_valid = \"https://github.com/psarath22/CS771_M1/raw/main/datasets/valid/valid_feature.npz\"\n",
        "url_test = \"https://github.com/psarath22/CS771_M1/raw/main/datasets/test/test_feature.npz\"\n",
        "# Download the file\n",
        "response1 = requests.get(url_train)\n",
        "response2= requests.get(url_valid)\n",
        "response3 = requests.get(url_test)\n",
        "\n",
        "# Save the content to a file\n",
        "with open('train_feature.npz', 'wb') as f:\n",
        "    f.write(response1.content)\n",
        "    print(\"Downloading TrainData completed!\")\n",
        "\n",
        "# Save the content to a file\n",
        "with open('valid_feature.npz', 'wb') as f:\n",
        "    f.write(response2.content)\n",
        "    print(\"Downloading validData completed!\")\n",
        "\n",
        "# Save the content to a file\n",
        "with open('test_feature.npz', 'wb') as f:\n",
        "    f.write(response3.content)\n",
        "    print(\"Downloading TestData completed!\")\n",
        "\n",
        "\n",
        "# read feat dataset\n",
        "train_feat = np.load(\"train_feature.npz\", allow_pickle=True)\n",
        "train_feat_X = train_feat['features']\n",
        "train_feat_Y = train_feat['label']\n",
        "\n",
        "test_feat_X = np.load(\"test_feature.npz\", allow_pickle=True)['features']\n",
        "\n",
        "valid_feat = np.load(\"valid_feature.npz\", allow_pickle=True)\n",
        "valid_feat_X = valid_feat['features']\n",
        "valid_feat_Y = valid_feat['label']\n",
        "\n",
        "\n",
        "print(f\"Train dataset size: \")\n",
        "print(f\"train_feat_X: {len(train_feat_X)} train_feat_Y: {len(train_feat_Y)}\")\n",
        "\n",
        "print()\n",
        "print(\"Valid dataset size: \")\n",
        "print(f\"valid_feat_X: {len(valid_feat_X)} valid_feat_Y: {len(valid_feat_Y)}\")\n",
        "\n",
        "print()\n",
        "print(\"Test dataset size: \")\n",
        "print(f\"test_feat_X: {len(test_feat_X)}\")\n"
      ],
      "metadata": {
        "colab": {
          "base_uri": "https://localhost:8080/"
        },
        "id": "SVyZpsysYVJw",
        "outputId": "89919b14-b527-4467-9560-8116fef2e429"
      },
      "execution_count": 89,
      "outputs": [
        {
          "output_type": "stream",
          "name": "stdout",
          "text": [
            "Downloading TrainData completed!\n",
            "Downloading validData completed!\n",
            "Downloading TestData completed!\n",
            "Train dataset size: \n",
            "train_feat_X: 7080 train_feat_Y: 7080\n",
            "\n",
            "Valid dataset size: \n",
            "valid_feat_X: 489 valid_feat_Y: 489\n",
            "\n",
            "Test dataset size: \n",
            "test_feat_X: 2232\n"
          ]
        }
      ]
    },
    {
      "cell_type": "code",
      "source": [
        "# Create the training and validation  dataset\n",
        "\n",
        "X_train = np.array([feat for feat in train_feat_X])\n",
        "print(X_train.shape)\n",
        "X_valid = np.array([feat for feat in valid_feat_X])\n",
        "print(X_valid.shape)\n",
        "X_test = np.array([feat for feat in test_feat_X])\n",
        "print(X_test.shape)\n",
        "\n",
        "X_train = np.array([feat.flatten() for feat in X_train])\n",
        "print(X_train.shape)\n",
        "X_valid = np.array([feat.flatten() for feat in X_valid])\n",
        "print(X_valid.shape)\n",
        "X_test = np.array([feat.flatten() for feat in X_test])\n",
        "print(X_test.shape)"
      ],
      "metadata": {
        "colab": {
          "base_uri": "https://localhost:8080/"
        },
        "id": "3Ja4S9G6bxFh",
        "outputId": "22f7a437-389b-4a21-f230-94691820e50a"
      },
      "execution_count": 90,
      "outputs": [
        {
          "output_type": "stream",
          "name": "stdout",
          "text": [
            "(7080, 13, 768)\n",
            "(489, 13, 768)\n",
            "(2232, 13, 768)\n",
            "(7080, 9984)\n",
            "(489, 9984)\n",
            "(2232, 9984)\n"
          ]
        }
      ]
    },
    {
      "cell_type": "markdown",
      "source": [
        "# ***Logistic Regression***"
      ],
      "metadata": {
        "id": "yScJuycqb0tw"
      }
    },
    {
      "cell_type": "code",
      "source": [
        "# Train Logistic Regression classifier\n",
        "logreg_classifier = LogisticRegression(max_iter=1000)\n",
        "logreg_classifier.fit(X_train, train_feat_Y)\n",
        "\n",
        "# Predict classes for validation data\n",
        "valid_predictions = logreg_classifier.predict(X_valid)\n",
        "train_predictions = logreg_classifier.predict(X_train)\n",
        "\n",
        "# Calculate validation accuracy\n",
        "valid_accuracy = accuracy_score(valid_feat_Y, valid_predictions)\n",
        "print(f\"Validation Accuracy with Logistic Regression: {valid_accuracy}\")\n",
        "\n",
        "# Calculate training accuracy\n",
        "train_accuracy = accuracy_score(train_feat_Y, train_predictions)\n",
        "print(f\"Train Accuracy with Logistic Regression: {train_accuracy}\")\n",
        "\n",
        "f1 = f1_score(valid_feat_Y, valid_predictions, average='weighted')\n",
        "print(f\"f1 score with logistic Regression: {f1}\")\n",
        "\n",
        "# Calculate the number of trainable parameters\n",
        "n_weights = logreg_classifier.coef_.size  # Number of weights (features)\n",
        "n_intercepts = logreg_classifier.intercept_.size  # Number of intercepts (bias term)\n",
        "\n",
        "n_trainable_parameters = n_weights + n_intercepts\n",
        "print(f\"Number of trainable parameters: {n_trainable_parameters}\")"
      ],
      "metadata": {
        "colab": {
          "base_uri": "https://localhost:8080/"
        },
        "id": "Gl_iNxdUb4ZU",
        "outputId": "a73e0aa4-23ae-4bb1-b047-77c64aa9811f"
      },
      "execution_count": 91,
      "outputs": [
        {
          "output_type": "stream",
          "name": "stdout",
          "text": [
            "Validation Accuracy with Logistic Regression: 0.9856850715746421\n",
            "Train Accuracy with Logistic Regression: 0.9951977401129943\n",
            "f1 score with logistic Regression: 0.9856841127114566\n",
            "Number of trainable parameters: 9985\n"
          ]
        }
      ]
    },
    {
      "cell_type": "code",
      "source": [
        "# Split the training data into different sizes (20%, 40%, 60%, 80%, 100%)\n",
        "train_percentages = [0.2, 0.4, 0.6, 0.8, 1.0]  # Adjust 100% to a very close float value\n",
        "train_accuracies = []\n",
        "valid_accuracies = []\n",
        "\n",
        "# Logistic classifier with different portions of the training data\n",
        "for percentage in train_percentages:\n",
        "    # Split the training data\n",
        "    print(percentage)\n",
        "    if(percentage == 1.0):\n",
        "        X_train_subset = X_train\n",
        "        Y_train_subset = train_feat_Y\n",
        "    else:\n",
        "      X_train_subset, _, Y_train_subset, _ = train_test_split(X_train, train_feat_Y, train_size=percentage, random_state=42)\n",
        "\n",
        "    # Train Logistic Regression classifier\n",
        "    logreg_classifier = LogisticRegression(max_iter=1000)\n",
        "    logreg_classifier.fit(X_train_subset, Y_train_subset)\n",
        "\n",
        "    # Predictions and accuracy on training data\n",
        "    train_predictions = logreg_classifier.predict(X_train_subset)\n",
        "    train_accuracy = accuracy_score(Y_train_subset, train_predictions)\n",
        "    train_accuracies.append(train_accuracy)\n",
        "\n",
        "    # Predictions and accuracy on validation data\n",
        "    valid_predictions = logreg_classifier.predict(X_valid)\n",
        "    valid_accuracy = accuracy_score(valid_feat_Y, valid_predictions)\n",
        "    valid_accuracies.append(valid_accuracy)\n",
        "# Create a DataFrame to print the table\n",
        "data = {\n",
        "    \"Percentage\": [int(p * 100) for p in train_percentages],\n",
        "    \"Training Accuracy\": train_accuracies,\n",
        "    \"Validation Accuracy\": valid_accuracies\n",
        "}\n",
        "\n",
        "accuracy_df = pd.DataFrame(data)\n",
        "print(accuracy_df)\n",
        "\n",
        "# Plot the accuracies with different colors for train and validation accuracy\n",
        "plt.plot([int(p * 100) for p in train_percentages], train_accuracies, label='Training Accuracy', color='green', marker='o')\n",
        "plt.plot([int(p * 100) for p in train_percentages], valid_accuracies, label='Validation Accuracy', color='red', marker='o')\n",
        "\n",
        "# Add labels and title\n",
        "plt.ylim(0.4, 1.02)\n",
        "plt.xlabel('Percentage of Training Data Used')\n",
        "plt.ylabel('Accuracy')\n",
        "plt.title('Logistic Accuracy vs. Training Data Size')\n",
        "\n",
        "# Display legend\n",
        "plt.legend()\n",
        "\n",
        "# Add grid for better readability\n",
        "plt.grid(True)\n",
        "\n",
        "# Show the plot\n",
        "plt.show()"
      ],
      "metadata": {
        "colab": {
          "base_uri": "https://localhost:8080/",
          "height": 663
        },
        "id": "hvSkzRszb4gZ",
        "outputId": "8fb222dd-863f-4955-c94f-11021612186d"
      },
      "execution_count": 92,
      "outputs": [
        {
          "output_type": "stream",
          "name": "stdout",
          "text": [
            "0.2\n",
            "0.4\n",
            "0.6\n",
            "0.8\n",
            "1.0\n",
            "   Percentage  Training Accuracy  Validation Accuracy\n",
            "0          20           0.997881             0.934560\n",
            "1          40           0.995763             0.969325\n",
            "2          60           0.996234             0.975460\n",
            "3          80           0.994350             0.985685\n",
            "4         100           0.995198             0.985685\n"
          ]
        },
        {
          "output_type": "display_data",
          "data": {
            "text/plain": [
              "<Figure size 640x480 with 1 Axes>"
            ],
            "image/png": "[encoded data removed]"
          },
          "metadata": {}
        }
      ]
    },
    {
      "cell_type": "markdown",
      "source": [
        "# ***KNN***"
      ],
      "metadata": {
        "id": "z1gdwnAkb_Mf"
      }
    },
    {
      "cell_type": "code",
      "source": [
        "from sklearn.neighbors import KNeighborsClassifier\n",
        "\n",
        "# Train KNN classifier\n",
        "knn_classifier = KNeighborsClassifier(n_neighbors=5)  # You can change the number of neighbors (n_neighbors)\n",
        "knn_classifier.fit(X_train, train_feat_Y)\n",
        "\n",
        "# Predict classes for validation data\n",
        "valid_predictions = knn_classifier.predict(X_valid)\n",
        "train_predictions = knn_classifier.predict(X_train)\n",
        "\n",
        "# Calculate validation accuracy\n",
        "valid_accuracy = accuracy_score(valid_feat_Y, valid_predictions)\n",
        "print(f\"Validation Accuracy with KNN: {valid_accuracy}\")\n",
        "\n",
        "# Calculate training accuracy\n",
        "train_accuracy = accuracy_score(train_feat_Y, train_predictions)\n",
        "print(f\"Train Accuracy with KNN: {train_accuracy}\")\n",
        "\n",
        "f1 = f1_score(valid_feat_Y, valid_predictions, average='weighted')\n",
        "print(f\"f1 score with KNN Regression: {f1}\")"
      ],
      "metadata": {
        "colab": {
          "base_uri": "https://localhost:8080/"
        },
        "id": "QawjuhZ5cEiC",
        "outputId": "a2dc4a8e-919f-4e0a-d735-020a1163675c"
      },
      "execution_count": 93,
      "outputs": [
        {
          "output_type": "stream",
          "name": "stdout",
          "text": [
            "Validation Accuracy with KNN: 0.869120654396728\n",
            "Train Accuracy with KNN: 0.9330508474576271\n",
            "f1 score with KNN Regression: 0.869120654396728\n"
          ]
        }
      ]
    },
    {
      "cell_type": "markdown",
      "source": [
        "# ***LwP***"
      ],
      "metadata": {
        "id": "77YmGkHAcFUM"
      }
    },
    {
      "cell_type": "code",
      "source": [
        "import numpy as np\n",
        "from sklearn.metrics import accuracy_score\n",
        "\n",
        "def compute_class_prototypes(X_train, Y_train):\n",
        "    \"\"\"Compute the mean prototype for each class.\"\"\"\n",
        "    class_0_prototype = X_train[Y_train == 0].mean(axis=0)\n",
        "    class_1_prototype = X_train[Y_train == 1].mean(axis=0)\n",
        "    return class_0_prototype, class_1_prototype\n",
        "\n",
        "def predict_lwp(X_valid, class_0_prototype, class_1_prototype):\n",
        "    \"\"\"Predict labels based on distance to prototypes.\"\"\"\n",
        "    predictions = []\n",
        "    for x in X_valid:\n",
        "        # Compute distances to each prototype\n",
        "        distance_to_class_0 = np.linalg.norm(x - class_0_prototype)\n",
        "        distance_to_class_1 = np.linalg.norm(x - class_1_prototype)\n",
        "\n",
        "        # Assign the class with the closer prototype\n",
        "        if distance_to_class_0 < distance_to_class_1:\n",
        "            predictions.append(0)\n",
        "        else:\n",
        "            predictions.append(1)\n",
        "\n",
        "    return np.array(predictions)\n",
        "\n",
        "# Compute prototypes for the two classes\n",
        "class_0_prototype, class_1_prototype = compute_class_prototypes(X_train, train_feat_Y)\n",
        "\n",
        "# Predict on the training data\n",
        "train_predictions = predict_lwp(X_train, class_0_prototype, class_1_prototype)\n",
        "train_accuracy = accuracy_score(train_feat_Y, train_predictions)\n",
        "print(f\"Train Accuracy with LWP: {train_accuracy}\")\n",
        "\n",
        "# Predict on the validation data\n",
        "valid_predictions = predict_lwp(X_valid, class_0_prototype, class_1_prototype)\n",
        "valid_accuracy = accuracy_score(valid_feat_Y, valid_predictions)\n",
        "print(f\"Validation Accuracy with LWP: {valid_accuracy}\")\n",
        "\n",
        "f1 = f1_score(valid_feat_Y, valid_predictions, average='weighted')\n",
        "print(f\"f1 score with LwP Regression: {f1}\")"
      ],
      "metadata": {
        "colab": {
          "base_uri": "https://localhost:8080/"
        },
        "id": "KmNAQAWUcKe1",
        "outputId": "dc151bb4-09f1-4999-f80c-d59fc86ab95f"
      },
      "execution_count": 94,
      "outputs": [
        {
          "output_type": "stream",
          "name": "stdout",
          "text": [
            "Train Accuracy with LWP: 0.9536723163841808\n",
            "Validation Accuracy with LWP: 0.9366053169734151\n",
            "f1 score with LwP Regression: 0.9366201674159853\n"
          ]
        }
      ]
    },
    {
      "cell_type": "markdown",
      "source": [
        "# ***SVM Classifier***"
      ],
      "metadata": {
        "id": "zQ-d1bM1cJfh"
      }
    },
    {
      "cell_type": "code",
      "source": [
        "# Train SVM classifier\n",
        "svm_classifier = SVC(kernel='linear')  # You can also experiment with other kernels\n",
        "svm_classifier.fit(X_train, train_feat_Y)\n",
        "\n",
        "# Predict classes for validation data\n",
        "valid_predictions = svm_classifier.predict(X_valid)\n",
        "train_predictions = svm_classifier.predict(X_train)\n",
        "\n",
        "# Calculate validation accuracy\n",
        "valid_accuracy = accuracy_score(valid_feat_Y, valid_predictions)\n",
        "print(f\"Validation Accuracy with SVM: {valid_accuracy}\")\n",
        "\n",
        "# Calculate validation accuracy\n",
        "train_accuracy = accuracy_score(train_feat_Y, train_predictions)\n",
        "print(f\"Train Accuracy with SVM: {train_accuracy}\")\n",
        "\n",
        "f1 = f1_score(valid_feat_Y, valid_predictions, average='weighted')\n",
        "print(f\"f1 score with SVM: {f1}\")\n",
        "\n",
        "n_weights = svm_classifier.coef_.size  # Number of weights\n",
        "n_intercepts = svm_classifier.intercept_.size  # Number of intercepts\n",
        "n_params = n_weights + n_intercepts\n",
        "print(f\"Number of trainable parameters: {n_params}\")\n"
      ],
      "metadata": {
        "colab": {
          "base_uri": "https://localhost:8080/"
        },
        "id": "9cQRCVsScUDn",
        "outputId": "4c793074-7dfc-43eb-ff04-1b0bdd2da880"
      },
      "execution_count": 95,
      "outputs": [
        {
          "output_type": "stream",
          "name": "stdout",
          "text": [
            "Validation Accuracy with SVM: 0.9856850715746421\n",
            "Train Accuracy with SVM: 0.9925141242937853\n",
            "f1 score with SVM: 0.9856841127114566\n",
            "Number of trainable parameters: 9985\n"
          ]
        }
      ]
    },
    {
      "cell_type": "code",
      "source": [
        "# Split the training data into different sizes (20%, 40%, 60%, 80%, 100%)\n",
        "train_percentages = [0.2, 0.4, 0.6, 0.8, 1.0]  # Adjust 100% to a very close float value\n",
        "train_accuracies = []\n",
        "valid_accuracies = []\n",
        "\n",
        "# Train SVM classifier with different portions of the training data\n",
        "for percentage in train_percentages:\n",
        "    # Split the training data\n",
        "    print(percentage)\n",
        "    if(percentage == 1.0):\n",
        "        X_train_subset = X_train\n",
        "        Y_train_subset = train_feat_Y\n",
        "    else:\n",
        "      X_train_subset, _, Y_train_subset, _ = train_test_split(X_train, train_feat_Y, train_size=percentage, random_state=42)\n",
        "\n",
        "    # Train SVM classifier\n",
        "    svm_classifier = SVC(kernel='linear')  # You can experiment with other kernels if needed\n",
        "    svm_classifier.fit(X_train_subset, Y_train_subset)\n",
        "\n",
        "    # Predictions and accuracy on training data\n",
        "    train_predictions = svm_classifier.predict(X_train_subset)\n",
        "    train_accuracy = accuracy_score(Y_train_subset, train_predictions)\n",
        "    train_accuracies.append(train_accuracy)\n",
        "\n",
        "    # Predictions and accuracy on validation data\n",
        "    valid_predictions = svm_classifier.predict(X_valid)\n",
        "    valid_accuracy = accuracy_score(valid_feat_Y, valid_predictions)\n",
        "    valid_accuracies.append(valid_accuracy)\n",
        "\n",
        "# Create a DataFrame to print the table\n",
        "data = {\n",
        "    \"Percentage\": [int(p * 100) for p in train_percentages],\n",
        "    \"Training Accuracy\": train_accuracies,\n",
        "    \"Validation Accuracy\": valid_accuracies\n",
        "}\n",
        "\n",
        "accuracy_df = pd.DataFrame(data)\n",
        "print(accuracy_df)\n",
        "\n",
        "# Plot the accuracies with different colors for train and validation accuracy\n",
        "plt.plot([int(p * 100) for p in train_percentages], train_accuracies, label='Training Accuracy', color='green', marker='o')\n",
        "plt.plot([int(p * 100) for p in train_percentages], valid_accuracies, label='Validation Accuracy', color='red', marker='o')\n",
        "\n",
        "# Add labels and title\n",
        "plt.ylim(0.4, 1.02)\n",
        "plt.xlabel('Percentage of Training Data Used')\n",
        "plt.ylabel('Accuracy')\n",
        "plt.title('SVM Accuracy vs. Training Data Size')\n",
        "\n",
        "# Display legend\n",
        "plt.legend()\n",
        "\n",
        "# Add grid for better readability\n",
        "plt.grid(True)\n",
        "\n",
        "# Show the plot\n",
        "plt.show()"
      ],
      "metadata": {
        "colab": {
          "base_uri": "https://localhost:8080/",
          "height": 663
        },
        "id": "WdExW1S1cWRx",
        "outputId": "59d9ba3b-7eb7-4b1e-e0a7-eec4f6f22c99"
      },
      "execution_count": 96,
      "outputs": [
        {
          "output_type": "stream",
          "name": "stdout",
          "text": [
            "0.2\n",
            "0.4\n",
            "0.6\n",
            "0.8\n",
            "1.0\n",
            "   Percentage  Training Accuracy  Validation Accuracy\n",
            "0          20           0.996469             0.942740\n",
            "1          40           0.993644             0.957055\n",
            "2          60           0.990348             0.971370\n",
            "3          80           0.991702             0.985685\n",
            "4         100           0.992514             0.985685\n"
          ]
        },
        {
          "output_type": "display_data",
          "data": {
            "text/plain": [
              "<Figure size 640x480 with 1 Axes>"
            ],
            "image/png": "[encoded data removed]"
          },
          "metadata": {}
        }
      ]
    },
    {
      "cell_type": "markdown",
      "source": [
        "# **With Principal Component Analysis (PCA) Feature Extraction**"
      ],
      "metadata": {
        "id": "uzpEtJnZRpcG"
      }
    },
    {
      "cell_type": "code",
      "execution_count": 97,
      "metadata": {
        "id": "K0s-O_DdNzEi",
        "colab": {
          "base_uri": "https://localhost:8080/"
        },
        "outputId": "03b012bb-5a08-4b86-8544-8199dda28c7d"
      },
      "outputs": [
        {
          "output_type": "stream",
          "name": "stdout",
          "text": [
            "Downloading TrainData completed!\n",
            "Downloading validData completed!\n",
            "Downloading TestData completed!\n",
            "Train dataset size: \n",
            "train_feat_X: 7080 train_feat_Y: 7080\n",
            "\n",
            "Valid dataset size: \n",
            "valid_feat_X: 489 valid_feat_Y: 489\n",
            "\n",
            "Test dataset size: \n",
            "test_feat_X: 2232\n"
          ]
        }
      ],
      "source": [
        "import numpy as np\n",
        "import pandas as pd\n",
        "import matplotlib.pyplot as plt\n",
        "from sklearn.metrics import accuracy_score, f1_score\n",
        "from sklearn.model_selection import train_test_split\n",
        "from sklearn.preprocessing import StandardScaler\n",
        "from sklearn.svm import SVC\n",
        "from sklearn.linear_model import LogisticRegression\n",
        "import requests\n",
        "np.random.seed(0)\n",
        "\n",
        "# URL of the raw .npz file\n",
        "url_train = \"https://github.com/psarath22/CS771_M1/raw/main/datasets/train/train_feature.npz\"\n",
        "url_valid = \"https://github.com/psarath22/CS771_M1/raw/main/datasets/valid/valid_feature.npz\"\n",
        "url_test = \"https://github.com/psarath22/CS771_M1/raw/main/datasets/test/test_feature.npz\"\n",
        "# Download the file\n",
        "response1 = requests.get(url_train)\n",
        "response2= requests.get(url_valid)\n",
        "response3 = requests.get(url_test)\n",
        "\n",
        "# Save the content to a file\n",
        "with open('train_feature.npz', 'wb') as f:\n",
        "    f.write(response1.content)\n",
        "    print(\"Downloading TrainData completed!\")\n",
        "\n",
        "# Save the content to a file\n",
        "with open('valid_feature.npz', 'wb') as f:\n",
        "    f.write(response2.content)\n",
        "    print(\"Downloading validData completed!\")\n",
        "\n",
        "# Save the content to a file\n",
        "with open('test_feature.npz', 'wb') as f:\n",
        "    f.write(response3.content)\n",
        "    print(\"Downloading TestData completed!\")\n",
        "\n",
        "\n",
        "# read feat dataset\n",
        "train_feat = np.load(\"train_feature.npz\", allow_pickle=True)\n",
        "train_feat_X = train_feat['features']\n",
        "train_feat_Y = train_feat['label']\n",
        "\n",
        "test_feat_X = np.load(\"test_feature.npz\", allow_pickle=True)['features']\n",
        "\n",
        "valid_feat = np.load(\"valid_feature.npz\", allow_pickle=True)\n",
        "valid_feat_X = valid_feat['features']\n",
        "valid_feat_Y = valid_feat['label']\n",
        "\n",
        "\n",
        "print(f\"Train dataset size: \")\n",
        "print(f\"train_feat_X: {len(train_feat_X)} train_feat_Y: {len(train_feat_Y)}\")\n",
        "\n",
        "print()\n",
        "print(\"Valid dataset size: \")\n",
        "print(f\"valid_feat_X: {len(valid_feat_X)} valid_feat_Y: {len(valid_feat_Y)}\")\n",
        "\n",
        "print()\n",
        "print(\"Test dataset size: \")\n",
        "print(f\"test_feat_X: {len(test_feat_X)}\")\n"
      ]
    },
    {
      "cell_type": "code",
      "source": [
        "# Create the training and validation  dataset\n",
        "\n",
        "X_train = np.array([feat for feat in train_feat_X])\n",
        "print(X_train.shape)\n",
        "X_valid = np.array([feat for feat in valid_feat_X])\n",
        "print(X_valid.shape)\n",
        "X_test = np.array([feat for feat in test_feat_X])\n",
        "print(X_test.shape)\n",
        "\n",
        "X_train = np.array([feat.flatten() for feat in X_train])\n",
        "X_valid = np.array([feat.flatten() for feat in X_valid])\n",
        "X_test = np.array([feat.flatten() for feat in X_test])\n",
        "\n",
        "from sklearn.decomposition import PCA\n",
        "n_components = 150\n",
        "pca = PCA(n_components=n_components)\n",
        "X_train = pca.fit_transform(X_train)\n",
        "X_valid = pca.transform(X_valid)\n",
        "X_test = pca.transform(X_test)\n",
        "print(X_train.shape)\n",
        "print(X_valid.shape)\n",
        "print(X_test.shape)"
      ],
      "metadata": {
        "id": "KQRsnx__PuQc",
        "colab": {
          "base_uri": "https://localhost:8080/"
        },
        "outputId": "3fe6e5c3-7311-4b9d-eb9a-d7173c35c83e"
      },
      "execution_count": 98,
      "outputs": [
        {
          "output_type": "stream",
          "name": "stdout",
          "text": [
            "(7080, 13, 768)\n",
            "(489, 13, 768)\n",
            "(2232, 13, 768)\n",
            "(7080, 150)\n",
            "(489, 150)\n",
            "(2232, 150)\n"
          ]
        }
      ]
    },
    {
      "cell_type": "markdown",
      "source": [
        "# ***Logistic Regression***"
      ],
      "metadata": {
        "id": "6sOoCdSFQfH7"
      }
    },
    {
      "cell_type": "code",
      "source": [
        "# Train Logistic Regression classifier\n",
        "logreg_classifier = LogisticRegression(max_iter=1000)\n",
        "logreg_classifier.fit(X_train, train_feat_Y)\n",
        "\n",
        "# Predict classes for validation data\n",
        "valid_predictions = logreg_classifier.predict(X_valid)\n",
        "train_predictions = logreg_classifier.predict(X_train)\n",
        "\n",
        "# Calculate validation accuracy\n",
        "valid_accuracy = accuracy_score(valid_feat_Y, valid_predictions)\n",
        "print(f\"Validation Accuracy with Logistic Regression: {valid_accuracy}\")\n",
        "\n",
        "# Calculate training accuracy\n",
        "train_accuracy = accuracy_score(train_feat_Y, train_predictions)\n",
        "print(f\"Train Accuracy with Logistic Regression: {train_accuracy}\")\n",
        "\n",
        "f1 = f1_score(valid_feat_Y, valid_predictions, average='weighted')\n",
        "print(f\"f1 score with logistic Regression: {f1}\")\n",
        "\n",
        "# Calculate the number of trainable parameters\n",
        "n_weights = logreg_classifier.coef_.size  # Number of weights (features)\n",
        "n_intercepts = logreg_classifier.intercept_.size  # Number of intercepts (bias term)\n",
        "\n",
        "n_trainable_parameters = n_weights + n_intercepts\n",
        "print(f\"Number of trainable parameters: {n_trainable_parameters}\")\n"
      ],
      "metadata": {
        "colab": {
          "base_uri": "https://localhost:8080/"
        },
        "id": "qxhlrWR7PBr6",
        "outputId": "2531b288-cb76-40ef-8f86-c72aafdd74c3"
      },
      "execution_count": 99,
      "outputs": [
        {
          "output_type": "stream",
          "name": "stdout",
          "text": [
            "Validation Accuracy with Logistic Regression: 0.9877300613496932\n",
            "Train Accuracy with Logistic Regression: 0.9853107344632769\n",
            "f1 score with logistic Regression: 0.9877300613496932\n",
            "Number of trainable parameters: 151\n"
          ]
        }
      ]
    },
    {
      "cell_type": "code",
      "source": [
        "# Split the training data into different sizes (20%, 40%, 60%, 80%, 100%)\n",
        "train_percentages = [0.2, 0.4, 0.6, 0.8, 1.0]  # Adjust 100% to a very close float value\n",
        "train_accuracies = []\n",
        "valid_accuracies = []\n",
        "\n",
        "# Logistic classifier with different portions of the training data\n",
        "for percentage in train_percentages:\n",
        "    # Split the training data\n",
        "    print(percentage)\n",
        "    if(percentage == 1.0):\n",
        "        X_train_subset = X_train\n",
        "        Y_train_subset = train_feat_Y\n",
        "    else:\n",
        "      X_train_subset, _, Y_train_subset, _ = train_test_split(X_train, train_feat_Y, train_size=percentage, random_state=42)\n",
        "\n",
        "    # Train Logistic Regression classifier\n",
        "    logreg_classifier = LogisticRegression(max_iter=1000)\n",
        "    logreg_classifier.fit(X_train_subset, Y_train_subset)\n",
        "\n",
        "    # Predictions and accuracy on training data\n",
        "    train_predictions = logreg_classifier.predict(X_train_subset)\n",
        "    train_accuracy = accuracy_score(Y_train_subset, train_predictions)\n",
        "    train_accuracies.append(train_accuracy)\n",
        "\n",
        "    # Predictions and accuracy on validation data\n",
        "    valid_predictions = logreg_classifier.predict(X_valid)\n",
        "    valid_accuracy = accuracy_score(valid_feat_Y, valid_predictions)\n",
        "    valid_accuracies.append(valid_accuracy)\n",
        "# Create a DataFrame to print the table\n",
        "data = {\n",
        "    \"Percentage\": [int(p * 100) for p in train_percentages],\n",
        "    \"Training Accuracy\": train_accuracies,\n",
        "    \"Validation Accuracy\": valid_accuracies\n",
        "}\n",
        "\n",
        "accuracy_df = pd.DataFrame(data)\n",
        "print(accuracy_df)\n",
        "\n",
        "# Plot the accuracies with different colors for train and validation accuracy\n",
        "plt.plot([int(p * 100) for p in train_percentages], train_accuracies, label='Training Accuracy', color='green', marker='o')\n",
        "plt.plot([int(p * 100) for p in train_percentages], valid_accuracies, label='Validation Accuracy', color='red', marker='o')\n",
        "\n",
        "# Add labels and title\n",
        "plt.ylim(0.4, 1.02)\n",
        "plt.xlabel('Percentage of Training Data Used')\n",
        "plt.ylabel('Accuracy')\n",
        "plt.title('Logistic Accuracy vs. Training Data Size')\n",
        "\n",
        "# Display legend\n",
        "plt.legend()\n",
        "\n",
        "# Add grid for better readability\n",
        "plt.grid(True)\n",
        "\n",
        "# Show the plot\n",
        "plt.show()"
      ],
      "metadata": {
        "colab": {
          "base_uri": "https://localhost:8080/",
          "height": 663
        },
        "id": "pzjYY_cJbBRn",
        "outputId": "ce55e8f7-90aa-4293-dfeb-92dbd37e3a1a"
      },
      "execution_count": 100,
      "outputs": [
        {
          "output_type": "stream",
          "name": "stdout",
          "text": [
            "0.2\n",
            "0.4\n",
            "0.6\n",
            "0.8\n",
            "1.0\n",
            "   Percentage  Training Accuracy  Validation Accuracy\n",
            "0          20           0.993644             0.946830\n",
            "1          40           0.988347             0.967280\n",
            "2          60           0.987053             0.985685\n",
            "3          80           0.986052             0.985685\n",
            "4         100           0.985311             0.987730\n"
          ]
        },
        {
          "output_type": "display_data",
          "data": {
            "text/plain": [
              "<Figure size 640x480 with 1 Axes>"
            ],
            "image/png": "[encoded data removed]"
          },
          "metadata": {}
        }
      ]
    },
    {
      "cell_type": "markdown",
      "source": [
        "# ***KNN***"
      ],
      "metadata": {
        "id": "FQdLefHDQva3"
      }
    },
    {
      "cell_type": "code",
      "source": [
        "from sklearn.neighbors import KNeighborsClassifier\n",
        "\n",
        "# Train KNN classifier\n",
        "knn_classifier = KNeighborsClassifier(n_neighbors=5)  # You can change the number of neighbors (n_neighbors)\n",
        "knn_classifier.fit(X_train, train_feat_Y)\n",
        "\n",
        "# Predict classes for validation data\n",
        "valid_predictions = knn_classifier.predict(X_valid)\n",
        "train_predictions = knn_classifier.predict(X_train)\n",
        "\n",
        "# Calculate validation accuracy\n",
        "valid_accuracy = accuracy_score(valid_feat_Y, valid_predictions)\n",
        "print(f\"Validation Accuracy with KNN: {valid_accuracy}\")\n",
        "\n",
        "# Calculate training accuracy\n",
        "train_accuracy = accuracy_score(train_feat_Y, train_predictions)\n",
        "print(f\"Train Accuracy with KNN: {train_accuracy}\")\n",
        "\n",
        "f1 = f1_score(valid_feat_Y, valid_predictions, average='weighted')\n",
        "print(f\"f1 score with KNN Regression: {f1}\")"
      ],
      "metadata": {
        "colab": {
          "base_uri": "https://localhost:8080/"
        },
        "id": "f8oWSG58QYuV",
        "outputId": "222aac04-eec2-4686-dc75-e9b4dc8464d5"
      },
      "execution_count": 101,
      "outputs": [
        {
          "output_type": "stream",
          "name": "stdout",
          "text": [
            "Validation Accuracy with KNN: 0.869120654396728\n",
            "Train Accuracy with KNN: 0.93545197740113\n",
            "f1 score with KNN Regression: 0.8691447493390149\n"
          ]
        }
      ]
    },
    {
      "cell_type": "markdown",
      "source": [
        "# ***LwP***"
      ],
      "metadata": {
        "id": "qLqw-0wnQ5DA"
      }
    },
    {
      "cell_type": "code",
      "source": [
        "import numpy as np\n",
        "from sklearn.metrics import accuracy_score\n",
        "\n",
        "def compute_class_prototypes(X_train, Y_train):\n",
        "    \"\"\"Compute the mean prototype for each class.\"\"\"\n",
        "    class_0_prototype = X_train[Y_train == 0].mean(axis=0)\n",
        "    class_1_prototype = X_train[Y_train == 1].mean(axis=0)\n",
        "    return class_0_prototype, class_1_prototype\n",
        "\n",
        "def predict_lwp(X_valid, class_0_prototype, class_1_prototype):\n",
        "    \"\"\"Predict labels based on distance to prototypes.\"\"\"\n",
        "    predictions = []\n",
        "    for x in X_valid:\n",
        "        # Compute distances to each prototype\n",
        "        distance_to_class_0 = np.linalg.norm(x - class_0_prototype)\n",
        "        distance_to_class_1 = np.linalg.norm(x - class_1_prototype)\n",
        "\n",
        "        # Assign the class with the closer prototype\n",
        "        if distance_to_class_0 < distance_to_class_1:\n",
        "            predictions.append(0)\n",
        "        else:\n",
        "            predictions.append(1)\n",
        "\n",
        "    return np.array(predictions)\n",
        "\n",
        "# Compute prototypes for the two classes\n",
        "class_0_prototype, class_1_prototype = compute_class_prototypes(X_train, train_feat_Y)\n",
        "\n",
        "# Predict on the training data\n",
        "train_predictions = predict_lwp(X_train, class_0_prototype, class_1_prototype)\n",
        "train_accuracy = accuracy_score(train_feat_Y, train_predictions)\n",
        "print(f\"Train Accuracy with LWP: {train_accuracy}\")\n",
        "\n",
        "# Predict on the validation data\n",
        "valid_predictions = predict_lwp(X_valid, class_0_prototype, class_1_prototype)\n",
        "valid_accuracy = accuracy_score(valid_feat_Y, valid_predictions)\n",
        "print(f\"Validation Accuracy with LWP: {valid_accuracy}\")\n",
        "\n",
        "f1 = f1_score(valid_feat_Y, valid_predictions, average='weighted')\n",
        "print(f\"f1 score with LwP Regression: {f1}\")"
      ],
      "metadata": {
        "id": "iAEx1WQzQxMW",
        "colab": {
          "base_uri": "https://localhost:8080/"
        },
        "outputId": "8679dad5-fde5-4b2b-de31-759cb50b3ee4"
      },
      "execution_count": 102,
      "outputs": [
        {
          "output_type": "stream",
          "name": "stdout",
          "text": [
            "Train Accuracy with LWP: 0.9525423728813559\n",
            "Validation Accuracy with LWP: 0.9325153374233128\n",
            "f1 score with LwP Regression: 0.932531145958952\n"
          ]
        }
      ]
    },
    {
      "cell_type": "markdown",
      "source": [
        "# ***SVM Classifier***"
      ],
      "metadata": {
        "id": "a4dYboO4Rd1k"
      }
    },
    {
      "cell_type": "code",
      "source": [
        "# Train SVM classifier\n",
        "svm_classifier = SVC(kernel='linear')  # You can also experiment with other kernels\n",
        "svm_classifier.fit(X_train, train_feat_Y)\n",
        "\n",
        "# Predict classes for validation data\n",
        "valid_predictions = svm_classifier.predict(X_valid)\n",
        "train_predictions = svm_classifier.predict(X_train)\n",
        "\n",
        "# Calculate validation accuracy\n",
        "valid_accuracy = accuracy_score(valid_feat_Y, valid_predictions)\n",
        "print(f\"Validation Accuracy with SVM: {valid_accuracy}\")\n",
        "\n",
        "# Calculate validation accuracy\n",
        "train_accuracy = accuracy_score(train_feat_Y, train_predictions)\n",
        "print(f\"Train Accuracy with SVM: {train_accuracy}\")\n",
        "\n",
        "f1 = f1_score(valid_feat_Y, valid_predictions, average='weighted')\n",
        "print(f\"f1 score with SVM: {f1}\")\n",
        "\n",
        "n_weights = svm_classifier.coef_.size  # Number of weights\n",
        "n_intercepts = svm_classifier.intercept_.size  # Number of intercepts\n",
        "n_params = n_weights + n_intercepts\n",
        "print(f\"Number of trainable parameters: {n_params}\")"
      ],
      "metadata": {
        "id": "TBEVmq26Rfeq",
        "colab": {
          "base_uri": "https://localhost:8080/"
        },
        "outputId": "c73fd947-1a51-42c3-814b-5a2b5071e462"
      },
      "execution_count": 103,
      "outputs": [
        {
          "output_type": "stream",
          "name": "stdout",
          "text": [
            "Validation Accuracy with SVM: 0.9877300613496932\n",
            "Train Accuracy with SVM: 0.9830508474576272\n",
            "f1 score with SVM: 0.9877300613496932\n",
            "Number of trainable parameters: 151\n"
          ]
        }
      ]
    },
    {
      "cell_type": "code",
      "source": [
        "# Split the training data into different sizes (20%, 40%, 60%, 80%, 100%)\n",
        "train_percentages = [0.2, 0.4, 0.6, 0.8, 1.0]  # Adjust 100% to a very close float value\n",
        "train_accuracies = []\n",
        "valid_accuracies = []\n",
        "\n",
        "# Train SVM classifier with different portions of the training data\n",
        "for percentage in train_percentages:\n",
        "    # Split the training data\n",
        "    print(percentage)\n",
        "    if(percentage == 1.0):\n",
        "        X_train_subset = X_train\n",
        "        Y_train_subset = train_feat_Y\n",
        "    else:\n",
        "      X_train_subset, _, Y_train_subset, _ = train_test_split(X_train, train_feat_Y, train_size=percentage, random_state=42)\n",
        "\n",
        "    # Train SVM classifier\n",
        "    svm_classifier = SVC(kernel='linear')  # You can experiment with other kernels if needed\n",
        "    svm_classifier.fit(X_train_subset, Y_train_subset)\n",
        "\n",
        "    # Predictions and accuracy on training data\n",
        "    train_predictions = svm_classifier.predict(X_train_subset)\n",
        "    train_accuracy = accuracy_score(Y_train_subset, train_predictions)\n",
        "    train_accuracies.append(train_accuracy)\n",
        "\n",
        "    # Predictions and accuracy on validation data\n",
        "    valid_predictions = svm_classifier.predict(X_valid)\n",
        "    valid_accuracy = accuracy_score(valid_feat_Y, valid_predictions)\n",
        "    valid_accuracies.append(valid_accuracy)\n",
        "\n",
        "# Create a DataFrame to print the table\n",
        "data = {\n",
        "    \"Percentage\": [int(p * 100) for p in train_percentages],\n",
        "    \"Training Accuracy\": train_accuracies,\n",
        "    \"Validation Accuracy\": valid_accuracies\n",
        "}\n",
        "\n",
        "accuracy_df = pd.DataFrame(data)\n",
        "print(accuracy_df)\n",
        "\n",
        "# Plot the accuracies with different colors for train and validation accuracy\n",
        "plt.plot([int(p * 100) for p in train_percentages], train_accuracies, label='Training Accuracy', color='green', marker='o')\n",
        "plt.plot([int(p * 100) for p in train_percentages], valid_accuracies, label='Validation Accuracy', color='red', marker='o')\n",
        "\n",
        "# Add labels and title\n",
        "plt.ylim(0.4, 1.02)\n",
        "plt.xlabel('Percentage of Training Data Used')\n",
        "plt.ylabel('Accuracy')\n",
        "plt.title('SVM Accuracy vs. Training Data Size')\n",
        "\n",
        "# Display legend\n",
        "plt.legend()\n",
        "\n",
        "# Add grid for better readability\n",
        "plt.grid(True)\n",
        "\n",
        "# Show the plot\n",
        "plt.show()"
      ],
      "metadata": {
        "id": "sx3qPgrwRj0L",
        "colab": {
          "base_uri": "https://localhost:8080/",
          "height": 663
        },
        "outputId": "7d25918b-db5c-4059-c08c-8c35e8331d1e"
      },
      "execution_count": 104,
      "outputs": [
        {
          "output_type": "stream",
          "name": "stdout",
          "text": [
            "0.2\n",
            "0.4\n",
            "0.6\n",
            "0.8\n",
            "1.0\n",
            "   Percentage  Training Accuracy  Validation Accuracy\n",
            "0          20           0.990819              0.94274\n",
            "1          40           0.985169              0.97546\n",
            "2          60           0.984228              0.97955\n",
            "3          80           0.984816              0.98364\n",
            "4         100           0.983051              0.98773\n"
          ]
        },
        {
          "output_type": "display_data",
          "data": {
            "text/plain": [
              "<Figure size 640x480 with 1 Axes>"
            ],
            "image/png": "[encoded data removed]"
          },
          "metadata": {}
        }
      ]
    },
    {
      "cell_type": "markdown",
      "source": [
        "# ***Deep Neural Network***"
      ],
      "metadata": {
        "id": "OxJ73CcpdekF"
      }
    },
    {
      "cell_type": "code",
      "source": [
        "from sklearn.metrics import f1_score, confusion_matrix\n",
        "from tensorflow.keras.models import Sequential\n",
        "from tensorflow.keras.layers import Dense, Embedding, Flatten"
      ],
      "metadata": {
        "id": "zl6JWQW_92L7"
      },
      "execution_count": 105,
      "outputs": []
    },
    {
      "cell_type": "code",
      "source": [
        "# Define and compile the model\n",
        "model = Sequential()\n",
        "# Input layer: Since the PCA output has n_components features\n",
        "model.add(Dense(32, activation='relu', input_dim=n_components))  # First hidden layer with 32 neurons\n",
        "model.add(Dense(24, activation='relu'))  # Second hidden layer with 24 neurons\n",
        "model.add(Dense(1, activation='sigmoid'))  # Output layer for binary classification\n",
        "\n",
        "model.compile(optimizer='adam', loss='binary_crossentropy', metrics=['accuracy'])\n",
        "\n",
        "# Fit the model\n",
        "history = model.fit(X_train, train_feat_Y, epochs=10, batch_size=32, validation_data=(X_valid, valid_feat_Y))\n",
        "\n",
        "# Evaluate the model on training and validation data\n",
        "train_loss, train_accuracy = model.evaluate(X_train, train_feat_Y, verbose=0)\n",
        "valid_loss, valid_accuracy = model.evaluate(X_valid, valid_feat_Y, verbose=0)\n",
        "\n",
        "# Predictions and calculate F1 score and confusion matrix\n",
        "valid_predictions = (model.predict(X_valid) > 0.5).astype(\"int32\")\n",
        "f1 = f1_score(valid_feat_Y, valid_predictions)\n",
        "\n",
        "# Print accuracies and F1 score\n",
        "model.summary()\n",
        "\n",
        "print(f\"Training Accuracy: {train_accuracy:.4f}\")\n",
        "print(f\"Validation Accuracy: {valid_accuracy:.4f}\")\n",
        "print(f\"F1 Score: {f1:.4f}\")\n",
        ""
      ],
      "metadata": {
        "id": "urkeVRM6g-Rw",
        "colab": {
          "base_uri": "https://localhost:8080/"
        },
        "outputId": "1f1a73d1-1733-4d66-dd41-7ec9dc46ad3f"
      },
      "execution_count": 106,
      "outputs": [
        {
          "output_type": "stream",
          "name": "stdout",
          "text": [
            "Epoch 1/10\n",
            "222/222 [==============================] - 1s 3ms/step - loss: 0.4581 - accuracy: 0.8209 - val_loss: 0.1715 - val_accuracy: 0.9489\n",
            "Epoch 2/10\n",
            "222/222 [==============================] - 0s 2ms/step - loss: 0.1116 - accuracy: 0.9650 - val_loss: 0.0823 - val_accuracy: 0.9693\n",
            "Epoch 3/10\n",
            "222/222 [==============================] - 0s 2ms/step - loss: 0.0609 - accuracy: 0.9801 - val_loss: 0.0600 - val_accuracy: 0.9796\n",
            "Epoch 4/10\n",
            "222/222 [==============================] - 0s 2ms/step - loss: 0.0414 - accuracy: 0.9873 - val_loss: 0.0496 - val_accuracy: 0.9836\n",
            "Epoch 5/10\n",
            "222/222 [==============================] - 0s 2ms/step - loss: 0.0285 - accuracy: 0.9936 - val_loss: 0.0439 - val_accuracy: 0.9857\n",
            "Epoch 6/10\n",
            "222/222 [==============================] - 0s 2ms/step - loss: 0.0208 - accuracy: 0.9962 - val_loss: 0.0393 - val_accuracy: 0.9877\n",
            "Epoch 7/10\n",
            "222/222 [==============================] - 0s 2ms/step - loss: 0.0139 - accuracy: 0.9982 - val_loss: 0.0362 - val_accuracy: 0.9836\n",
            "Epoch 8/10\n",
            "222/222 [==============================] - 0s 2ms/step - loss: 0.0099 - accuracy: 0.9987 - val_loss: 0.0321 - val_accuracy: 0.9918\n",
            "Epoch 9/10\n",
            "222/222 [==============================] - 0s 2ms/step - loss: 0.0066 - accuracy: 0.9994 - val_loss: 0.0339 - val_accuracy: 0.9836\n",
            "Epoch 10/10\n",
            "222/222 [==============================] - 0s 2ms/step - loss: 0.0051 - accuracy: 0.9997 - val_loss: 0.0390 - val_accuracy: 0.9877\n",
            "16/16 [==============================] - 0s 1ms/step\n",
            "Model: \"sequential_18\"\n",
            "_________________________________________________________________\n",
            " Layer (type)                Output Shape              Param #   \n",
            "=================================================================\n",
            " dense_69 (Dense)            (None, 32)                4832      \n",
            "                                                                 \n",
            " dense_70 (Dense)            (None, 24)                792       \n",
            "                                                                 \n",
            " dense_71 (Dense)            (None, 1)                 25        \n",
            "                                                                 \n",
            "=================================================================\n",
            "Total params: 5649 (22.07 KB)\n",
            "Trainable params: 5649 (22.07 KB)\n",
            "Non-trainable params: 0 (0.00 Byte)\n",
            "_________________________________________________________________\n",
            "Training Accuracy: 0.9999\n",
            "Validation Accuracy: 0.9877\n",
            "F1 Score: 0.9874\n"
          ]
        }
      ]
    },
    {
      "cell_type": "code",
      "source": [
        "# Split the training data into different sizes (20%, 40%, 60%, 80%, 100%)\n",
        "train_percentages = [0.2, 0.4, 0.6, 0.8, 1.0]\n",
        "train_accuracies = []\n",
        "valid_accuracies = []\n",
        "\n",
        "# Analyze model performance with different training set sizes\n",
        "for percentage in train_percentages:\n",
        "    print(f\"Training on {percentage * 100}% of the data\")\n",
        "    if percentage == 1.0:\n",
        "        X_train_subset = X_train\n",
        "        Y_train_subset = train_feat_Y\n",
        "    else:\n",
        "        X_train_subset, _, Y_train_subset, _ = train_test_split(X_train, train_feat_Y, train_size=percentage, random_state=42)\n",
        "\n",
        "    # Define and compile the model\n",
        "    model = Sequential()\n",
        "    # Input layer: Since the PCA output has n_components features\n",
        "    model.add(Dense(32, activation='relu', input_dim=n_components))  # First hidden layer with 32 neurons\n",
        "    model.add(Dense(24, activation='relu'))  # Second hidden layer with 24 neurons\n",
        "    model.add(Dense(1, activation='sigmoid'))  # Output layer for binary classification\n",
        "    model.compile(optimizer='adam', loss='binary_crossentropy', metrics=['accuracy'])\n",
        "    # Fit the model\n",
        "    model.fit(X_train_subset, Y_train_subset, epochs=10, batch_size=32, validation_data=(X_valid, valid_feat_Y), verbose=0)\n",
        "\n",
        "    # Evaluate the model on training and validation data\n",
        "    train_loss, train_accuracy = model.evaluate(X_train_subset, Y_train_subset, verbose=0)\n",
        "    valid_loss, valid_accuracy = model.evaluate(X_valid, valid_feat_Y, verbose=0)\n",
        "\n",
        "    # Store accuracies\n",
        "    train_accuracies.append(train_accuracy)\n",
        "    valid_accuracies.append(valid_accuracy)\n",
        "\n",
        "# Create a DataFrame to print the table\n",
        "data = {\n",
        "    \"Percentage\": [int(p * 100) for p in train_percentages],\n",
        "    \"Training Accuracy\": train_accuracies,\n",
        "    \"Validation Accuracy\": valid_accuracies\n",
        "}\n",
        "\n",
        "accuracy_df = pd.DataFrame(data)\n",
        "print(accuracy_df)\n",
        "\n",
        "# Plot the accuracies\n",
        "plt.plot([int(p * 100) for p in train_percentages], train_accuracies, label='Training Accuracy', color='green', marker='o')\n",
        "plt.plot([int(p * 100) for p in train_percentages], valid_accuracies, label='Validation Accuracy', color='red', marker='o')\n",
        "\n",
        "# Add labels and title\n",
        "plt.ylim(0.4, 1.02)\n",
        "plt.xlabel('Percentage of Training Data Used')\n",
        "plt.ylabel('Accuracy')\n",
        "plt.title('DNN Model Accuracy vs. Training Data Size')\n",
        "plt.legend()\n",
        "plt.grid(True)\n",
        "plt.show()\n"
      ],
      "metadata": {
        "id": "iHgmJTdHg-UC",
        "colab": {
          "base_uri": "https://localhost:8080/",
          "height": 663
        },
        "outputId": "70ac263a-2dd8-49ef-bb03-d07d12f7cb65"
      },
      "execution_count": 107,
      "outputs": [
        {
          "output_type": "stream",
          "name": "stdout",
          "text": [
            "Training on 20.0% of the data\n",
            "Training on 40.0% of the data\n",
            "Training on 60.0% of the data\n",
            "Training on 80.0% of the data\n",
            "Training on 100.0% of the data\n",
            "   Percentage  Training Accuracy  Validation Accuracy\n",
            "0          20           1.000000             0.942740\n",
            "1          40           1.000000             0.971370\n",
            "2          60           0.999765             0.973415\n",
            "3          80           1.000000             0.981595\n",
            "4         100           0.999718             0.977505\n"
          ]
        },
        {
          "output_type": "display_data",
          "data": {
            "text/plain": [
              "<Figure size 640x480 with 1 Axes>"
            ],
            "image/png": "[encoded data removed]"
          },
          "metadata": {}
        }
      ]
    },
    {
      "cell_type": "code",
      "source": [
        "model.summary()"
      ],
      "metadata": {
        "id": "RJKKkjMYg-XV",
        "colab": {
          "base_uri": "https://localhost:8080/"
        },
        "outputId": "6200b554-8f3f-43cb-d870-41a6e1c698a8"
      },
      "execution_count": 108,
      "outputs": [
        {
          "output_type": "stream",
          "name": "stdout",
          "text": [
            "Model: \"sequential_23\"\n",
            "_________________________________________________________________\n",
            " Layer (type)                Output Shape              Param #   \n",
            "=================================================================\n",
            " dense_84 (Dense)            (None, 32)                4832      \n",
            "                                                                 \n",
            " dense_85 (Dense)            (None, 24)                792       \n",
            "                                                                 \n",
            " dense_86 (Dense)            (None, 1)                 25        \n",
            "                                                                 \n",
            "=================================================================\n",
            "Total params: 5649 (22.07 KB)\n",
            "Trainable params: 5649 (22.07 KB)\n",
            "Non-trainable params: 0 (0.00 Byte)\n",
            "_________________________________________________________________\n"
          ]
        }
      ]
    },
    {
      "cell_type": "code",
      "source": [],
      "metadata": {
        "id": "0DMrm3cDFdK-"
      },
      "execution_count": 108,
      "outputs": []
    }
  ]
}