{
  "nbformat": 4,
  "nbformat_minor": 0,
  "metadata": {
    "colab": {
      "provenance": [],
      "gpuType": "V28"
    },
    "kernelspec": {
      "name": "python3",
      "display_name": "Python 3"
    },
    "language_info": {
      "name": "python"
    },
    "accelerator": "TPU"
  },
  "cells": [
    {
      "cell_type": "markdown",
      "source": [
        "# **Flattened Feature Set**"
      ],
      "metadata": {
        "id": "neiOhgZwYK7S"
      }
    },
    {
      "cell_type": "code",
      "source": [
        "import numpy as np\n",
        "import pandas as pd\n",
        "import matplotlib.pyplot as plt\n",
        "from sklearn.metrics import accuracy_score, f1_score\n",
        "from sklearn.model_selection import train_test_split\n",
        "from sklearn.preprocessing import StandardScaler\n",
        "from sklearn.svm import SVC\n",
        "from sklearn.linear_model import LogisticRegression\n",
        "import requests\n",
        "\n",
        "\n",
        "# URL of the raw .npz file\n",
        "url_train = \"https://github.com/psarath22/CS771_M1/raw/main/datasets/train/train_feature.npz\"\n",
        "url_valid = \"https://github.com/psarath22/CS771_M1/raw/main/datasets/valid/valid_feature.npz\"\n",
        "url_test = \"https://github.com/psarath22/CS771_M1/raw/main/datasets/test/test_feature.npz\"\n",
        "# Download the file\n",
        "response1 = requests.get(url_train)\n",
        "response2= requests.get(url_valid)\n",
        "response3 = requests.get(url_test)\n",
        "\n",
        "# Save the content to a file\n",
        "with open('train_feature.npz', 'wb') as f:\n",
        "    f.write(response1.content)\n",
        "    print(\"Downloading TrainData completed!\")\n",
        "\n",
        "# Save the content to a file\n",
        "with open('valid_feature.npz', 'wb') as f:\n",
        "    f.write(response2.content)\n",
        "    print(\"Downloading validData completed!\")\n",
        "\n",
        "# Save the content to a file\n",
        "with open('test_feature.npz', 'wb') as f:\n",
        "    f.write(response3.content)\n",
        "    print(\"Downloading TestData completed!\")\n",
        "\n",
        "\n",
        "# read feat dataset\n",
        "train_feat = np.load(\"train_feature.npz\", allow_pickle=True)\n",
        "train_feat_X = train_feat['features']\n",
        "train_feat_Y = train_feat['label']\n",
        "\n",
        "test_feat_X = np.load(\"test_feature.npz\", allow_pickle=True)['features']\n",
        "\n",
        "valid_feat = np.load(\"valid_feature.npz\", allow_pickle=True)\n",
        "valid_feat_X = valid_feat['features']\n",
        "valid_feat_Y = valid_feat['label']\n",
        "\n",
        "\n",
        "print(f\"Train dataset size: \")\n",
        "print(f\"train_feat_X: {len(train_feat_X)} train_feat_Y: {len(train_feat_Y)}\")\n",
        "\n",
        "print()\n",
        "print(\"Valid dataset size: \")\n",
        "print(f\"valid_feat_X: {len(valid_feat_X)} valid_feat_Y: {len(valid_feat_Y)}\")\n",
        "\n",
        "print()\n",
        "print(\"Test dataset size: \")\n",
        "print(f\"test_feat_X: {len(test_feat_X)}\")\n"
      ],
      "metadata": {
        "colab": {
          "base_uri": "https://localhost:8080/"
        },
        "id": "SVyZpsysYVJw",
        "outputId": "dc3f82d0-01e3-4d33-e704-4cab44c38a98"
      },
      "execution_count": 94,
      "outputs": [
        {
          "output_type": "stream",
          "name": "stdout",
          "text": [
            "Downloading TrainData completed!\n",
            "Downloading validData completed!\n",
            "Downloading TestData completed!\n",
            "Train dataset size: \n",
            "train_feat_X: 7080 train_feat_Y: 7080\n",
            "\n",
            "Valid dataset size: \n",
            "valid_feat_X: 489 valid_feat_Y: 489\n",
            "\n",
            "Test dataset size: \n",
            "test_feat_X: 2232\n"
          ]
        }
      ]
    },
    {
      "cell_type": "code",
      "source": [
        "# Create the training and validation  dataset\n",
        "\n",
        "X_train = np.array([feat for feat in train_feat_X])\n",
        "print(X_train.shape)\n",
        "X_valid = np.array([feat for feat in valid_feat_X])\n",
        "print(X_valid.shape)\n",
        "X_test = np.array([feat for feat in test_feat_X])\n",
        "print(X_test.shape)\n",
        "\n",
        "X_train = np.array([feat.flatten() for feat in X_train])\n",
        "print(X_train.shape)\n",
        "X_valid = np.array([feat.flatten() for feat in X_valid])\n",
        "print(X_valid.shape)\n",
        "X_test = np.array([feat.flatten() for feat in X_test])\n",
        "print(X_test.shape)"
      ],
      "metadata": {
        "colab": {
          "base_uri": "https://localhost:8080/"
        },
        "id": "3Ja4S9G6bxFh",
        "outputId": "3c05a0e0-c30d-44ac-8f2d-89a3811d152b"
      },
      "execution_count": 95,
      "outputs": [
        {
          "output_type": "stream",
          "name": "stdout",
          "text": [
            "(7080, 13, 768)\n",
            "(489, 13, 768)\n",
            "(2232, 13, 768)\n",
            "(7080, 9984)\n",
            "(489, 9984)\n",
            "(2232, 9984)\n"
          ]
        }
      ]
    },
    {
      "cell_type": "markdown",
      "source": [
        "# ***Logistic Regression***"
      ],
      "metadata": {
        "id": "yScJuycqb0tw"
      }
    },
    {
      "cell_type": "code",
      "source": [
        "# Train Logistic Regression classifier\n",
        "logreg_classifier = LogisticRegression(max_iter=1000)\n",
        "logreg_classifier.fit(X_train, train_feat_Y)\n",
        "\n",
        "# Predict classes for validation data\n",
        "valid_predictions = logreg_classifier.predict(X_valid)\n",
        "train_predictions = logreg_classifier.predict(X_train)\n",
        "\n",
        "# Calculate validation accuracy\n",
        "valid_accuracy = accuracy_score(valid_feat_Y, valid_predictions)\n",
        "print(f\"Validation Accuracy with Logistic Regression: {valid_accuracy}\")\n",
        "\n",
        "# Calculate training accuracy\n",
        "train_accuracy = accuracy_score(train_feat_Y, train_predictions)\n",
        "print(f\"Train Accuracy with Logistic Regression: {train_accuracy}\")\n",
        "\n",
        "f1 = f1_score(valid_feat_Y, valid_predictions, average='weighted')\n",
        "print(f\"f1 score with logistic Regression: {f1}\")\n",
        "\n",
        "# Calculate the number of trainable parameters\n",
        "n_weights = logreg_classifier.coef_.size  # Number of weights (features)\n",
        "n_intercepts = logreg_classifier.intercept_.size  # Number of intercepts (bias term)\n",
        "\n",
        "n_trainable_parameters = n_weights + n_intercepts\n",
        "print(f\"Number of trainable parameters: {n_trainable_parameters}\")"
      ],
      "metadata": {
        "colab": {
          "base_uri": "https://localhost:8080/"
        },
        "id": "Gl_iNxdUb4ZU",
        "outputId": "75a56d08-3973-4496-d5f9-f6c9f3463728"
      },
      "execution_count": 96,
      "outputs": [
        {
          "output_type": "stream",
          "name": "stdout",
          "text": [
            "Validation Accuracy with Logistic Regression: 0.9856850715746421\n",
            "Train Accuracy with Logistic Regression: 0.9951977401129943\n",
            "f1 score with logistic Regression: 0.9856841127114566\n",
            "Number of trainable parameters: 9985\n"
          ]
        }
      ]
    },
    {
      "cell_type": "code",
      "source": [
        "# Split the training data into different sizes (20%, 40%, 60%, 80%, 100%)\n",
        "train_percentages = [0.2, 0.4, 0.6, 0.8, 1.0]  # Adjust 100% to a very close float value\n",
        "train_accuracies = []\n",
        "valid_accuracies = []\n",
        "\n",
        "# Logistic classifier with different portions of the training data\n",
        "for percentage in train_percentages:\n",
        "    # Split the training data\n",
        "    print(percentage)\n",
        "    if(percentage == 1.0):\n",
        "        X_train_subset = X_train\n",
        "        Y_train_subset = train_feat_Y\n",
        "    else:\n",
        "      X_train_subset, _, Y_train_subset, _ = train_test_split(X_train, train_feat_Y, train_size=percentage, random_state=42)\n",
        "\n",
        "    # Train Logistic Regression classifier\n",
        "    logreg_classifier = LogisticRegression(max_iter=1000)\n",
        "    logreg_classifier.fit(X_train_subset, Y_train_subset)\n",
        "\n",
        "    # Predictions and accuracy on training data\n",
        "    train_predictions = logreg_classifier.predict(X_train_subset)\n",
        "    train_accuracy = accuracy_score(Y_train_subset, train_predictions)\n",
        "    train_accuracies.append(train_accuracy)\n",
        "\n",
        "    # Predictions and accuracy on validation data\n",
        "    valid_predictions = logreg_classifier.predict(X_valid)\n",
        "    valid_accuracy = accuracy_score(valid_feat_Y, valid_predictions)\n",
        "    valid_accuracies.append(valid_accuracy)\n",
        "# Create a DataFrame to print the table\n",
        "data = {\n",
        "    \"Percentage\": [int(p * 100) for p in train_percentages],\n",
        "    \"Training Accuracy\": train_accuracies,\n",
        "    \"Validation Accuracy\": valid_accuracies\n",
        "}\n",
        "\n",
        "accuracy_df = pd.DataFrame(data)\n",
        "print(accuracy_df)\n",
        "\n",
        "# Plot the accuracies with different colors for train and validation accuracy\n",
        "plt.plot([int(p * 100) for p in train_percentages], train_accuracies, label='Training Accuracy', color='green', marker='o')\n",
        "plt.plot([int(p * 100) for p in train_percentages], valid_accuracies, label='Validation Accuracy', color='red', marker='o')\n",
        "\n",
        "# Add labels and title\n",
        "plt.ylim(0.4, 1.02)\n",
        "plt.xlabel('Percentage of Training Data Used')\n",
        "plt.ylabel('Accuracy')\n",
        "plt.title('Logistic Accuracy vs. Training Data Size')\n",
        "\n",
        "# Display legend\n",
        "plt.legend()\n",
        "\n",
        "# Add grid for better readability\n",
        "plt.grid(True)\n",
        "\n",
        "# Show the plot\n",
        "plt.show()"
      ],
      "metadata": {
        "colab": {
          "base_uri": "https://localhost:8080/",
          "height": 663
        },
        "id": "hvSkzRszb4gZ",
        "outputId": "9a9b59bd-57ee-43a3-cbcc-205924d6a33e"
      },
      "execution_count": 97,
      "outputs": [
        {
          "output_type": "stream",
          "name": "stdout",
          "text": [
            "0.2\n",
            "0.4\n",
            "0.6\n",
            "0.8\n",
            "1.0\n",
            "   Percentage  Training Accuracy  Validation Accuracy\n",
            "0          20           0.997881             0.934560\n",
            "1          40           0.995763             0.969325\n",
            "2          60           0.996234             0.975460\n",
            "3          80           0.994350             0.985685\n",
            "4         100           0.995198             0.985685\n"
          ]
        },
        {
          "output_type": "display_data",
          "data": {
            "text/plain": [
              "<Figure size 640x480 with 1 Axes>"
            ],
            "image/png": "[encoded data removed]"
          },
          "metadata": {}
        }
      ]
    },
    {
      "cell_type": "markdown",
      "source": [
        "# ***KNN***"
      ],
      "metadata": {
        "id": "z1gdwnAkb_Mf"
      }
    },
    {
      "cell_type": "code",
      "source": [
        "from sklearn.neighbors import KNeighborsClassifier\n",
        "\n",
        "# Train KNN classifier\n",
        "knn_classifier = KNeighborsClassifier(n_neighbors=5)  # You can change the number of neighbors (n_neighbors)\n",
        "knn_classifier.fit(X_train, train_feat_Y)\n",
        "\n",
        "# Predict classes for validation data\n",
        "valid_predictions = knn_classifier.predict(X_valid)\n",
        "train_predictions = knn_classifier.predict(X_train)\n",
        "\n",
        "# Calculate validation accuracy\n",
        "valid_accuracy = accuracy_score(valid_feat_Y, valid_predictions)\n",
        "print(f\"Validation Accuracy with KNN: {valid_accuracy}\")\n",
        "\n",
        "# Calculate training accuracy\n",
        "train_accuracy = accuracy_score(train_feat_Y, train_predictions)\n",
        "print(f\"Train Accuracy with KNN: {train_accuracy}\")\n",
        "\n",
        "f1 = f1_score(valid_feat_Y, valid_predictions, average='weighted')\n",
        "print(f\"f1 score with KNN Regression: {f1}\")"
      ],
      "metadata": {
        "colab": {
          "base_uri": "https://localhost:8080/"
        },
        "id": "QawjuhZ5cEiC",
        "outputId": "a9cb8685-7029-4008-8195-c316ebe0e721"
      },
      "execution_count": 98,
      "outputs": [
        {
          "output_type": "stream",
          "name": "stdout",
          "text": [
            "Validation Accuracy with KNN: 0.869120654396728\n",
            "Train Accuracy with KNN: 0.9330508474576271\n",
            "f1 score with KNN Regression: 0.869120654396728\n"
          ]
        }
      ]
    },
    {
      "cell_type": "markdown",
      "source": [
        "# ***LwP***"
      ],
      "metadata": {
        "id": "77YmGkHAcFUM"
      }
    },
    {
      "cell_type": "code",
      "source": [
        "import numpy as np\n",
        "from sklearn.metrics import accuracy_score\n",
        "\n",
        "def compute_class_prototypes(X_train, Y_train):\n",
        "    \"\"\"Compute the mean prototype for each class.\"\"\"\n",
        "    class_0_prototype = X_train[Y_train == 0].mean(axis=0)\n",
        "    class_1_prototype = X_train[Y_train == 1].mean(axis=0)\n",
        "    return class_0_prototype, class_1_prototype\n",
        "\n",
        "def predict_lwp(X_valid, class_0_prototype, class_1_prototype):\n",
        "    \"\"\"Predict labels based on distance to prototypes.\"\"\"\n",
        "    predictions = []\n",
        "    for x in X_valid:\n",
        "        # Compute distances to each prototype\n",
        "        distance_to_class_0 = np.linalg.norm(x - class_0_prototype)\n",
        "        distance_to_class_1 = np.linalg.norm(x - class_1_prototype)\n",
        "\n",
        "        # Assign the class with the closer prototype\n",
        "        if distance_to_class_0 < distance_to_class_1:\n",
        "            predictions.append(0)\n",
        "        else:\n",
        "            predictions.append(1)\n",
        "\n",
        "    return np.array(predictions)\n",
        "\n",
        "# Compute prototypes for the two classes\n",
        "class_0_prototype, class_1_prototype = compute_class_prototypes(X_train, train_feat_Y)\n",
        "\n",
        "# Predict on the training data\n",
        "train_predictions = predict_lwp(X_train, class_0_prototype, class_1_prototype)\n",
        "train_accuracy = accuracy_score(train_feat_Y, train_predictions)\n",
        "print(f\"Train Accuracy with LWP: {train_accuracy}\")\n",
        "\n",
        "# Predict on the validation data\n",
        "valid_predictions = predict_lwp(X_valid, class_0_prototype, class_1_prototype)\n",
        "valid_accuracy = accuracy_score(valid_feat_Y, valid_predictions)\n",
        "print(f\"Validation Accuracy with LWP: {valid_accuracy}\")\n",
        "\n",
        "f1 = f1_score(valid_feat_Y, valid_predictions, average='weighted')\n",
        "print(f\"f1 score with LwP Regression: {f1}\")"
      ],
      "metadata": {
        "colab": {
          "base_uri": "https://localhost:8080/"
        },
        "id": "KmNAQAWUcKe1",
        "outputId": "723d1117-fb3c-408b-c978-161e999adddc"
      },
      "execution_count": 99,
      "outputs": [
        {
          "output_type": "stream",
          "name": "stdout",
          "text": [
            "Train Accuracy with LWP: 0.9536723163841808\n",
            "Validation Accuracy with LWP: 0.9366053169734151\n",
            "f1 score with LwP Regression: 0.9366201674159853\n"
          ]
        }
      ]
    },
    {
      "cell_type": "markdown",
      "source": [
        "# ***SVM Classifier***"
      ],
      "metadata": {
        "id": "zQ-d1bM1cJfh"
      }
    },
    {
      "cell_type": "code",
      "source": [
        "# Train SVM classifier\n",
        "svm_classifier = SVC(kernel='linear')  # You can also experiment with other kernels\n",
        "svm_classifier.fit(X_train, train_feat_Y)\n",
        "\n",
        "# Predict classes for validation data\n",
        "valid_predictions = svm_classifier.predict(X_valid)\n",
        "train_predictions = svm_classifier.predict(X_train)\n",
        "\n",
        "# Calculate validation accuracy\n",
        "valid_accuracy = accuracy_score(valid_feat_Y, valid_predictions)\n",
        "print(f\"Validation Accuracy with SVM: {valid_accuracy}\")\n",
        "\n",
        "# Calculate validation accuracy\n",
        "train_accuracy = accuracy_score(train_feat_Y, train_predictions)\n",
        "print(f\"Train Accuracy with SVM: {train_accuracy}\")\n",
        "\n",
        "f1 = f1_score(valid_feat_Y, valid_predictions, average='weighted')\n",
        "print(f\"f1 score with SVM: {f1}\")\n",
        "\n",
        "n_weights = svm_classifier.coef_.size  # Number of weights\n",
        "n_intercepts = svm_classifier.intercept_.size  # Number of intercepts\n",
        "n_params = n_weights + n_intercepts\n",
        "print(f\"Number of trainable parameters: {n_params}\")\n",
        ""
      ],
      "metadata": {
        "colab": {
          "base_uri": "https://localhost:8080/"
        },
        "id": "9cQRCVsScUDn",
        "outputId": "9d39018e-b9ee-4485-8466-3d688ecc0f6f"
      },
      "execution_count": 100,
      "outputs": [
        {
          "output_type": "stream",
          "name": "stdout",
          "text": [
            "Validation Accuracy with SVM: 0.9856850715746421\n",
            "Train Accuracy with SVM: 0.9925141242937853\n",
            "f1 score with SVM: 0.9856841127114566\n",
            "Number of trainable parameters: 9985\n"
          ]
        }
      ]
    },
    {
      "cell_type": "code",
      "source": [
        "# Split the training data into different sizes (20%, 40%, 60%, 80%, 100%)\n",
        "train_percentages = [0.2, 0.4, 0.6, 0.8, 1.0]  # Adjust 100% to a very close float value\n",
        "train_accuracies = []\n",
        "valid_accuracies = []\n",
        "\n",
        "# Train SVM classifier with different portions of the training data\n",
        "for percentage in train_percentages:\n",
        "    # Split the training data\n",
        "    print(percentage)\n",
        "    if(percentage == 1.0):\n",
        "        X_train_subset = X_train\n",
        "        Y_train_subset = train_feat_Y\n",
        "    else:\n",
        "      X_train_subset, _, Y_train_subset, _ = train_test_split(X_train, train_feat_Y, train_size=percentage, random_state=42)\n",
        "\n",
        "    # Train SVM classifier\n",
        "    svm_classifier = SVC(kernel='linear')  # You can experiment with other kernels if needed\n",
        "    svm_classifier.fit(X_train_subset, Y_train_subset)\n",
        "\n",
        "    # Predictions and accuracy on training data\n",
        "    train_predictions = svm_classifier.predict(X_train_subset)\n",
        "    train_accuracy = accuracy_score(Y_train_subset, train_predictions)\n",
        "    train_accuracies.append(train_accuracy)\n",
        "\n",
        "    # Predictions and accuracy on validation data\n",
        "    valid_predictions = svm_classifier.predict(X_valid)\n",
        "    valid_accuracy = accuracy_score(valid_feat_Y, valid_predictions)\n",
        "    valid_accuracies.append(valid_accuracy)\n",
        "\n",
        "# Create a DataFrame to print the table\n",
        "data = {\n",
        "    \"Percentage\": [int(p * 100) for p in train_percentages],\n",
        "    \"Training Accuracy\": train_accuracies,\n",
        "    \"Validation Accuracy\": valid_accuracies\n",
        "}\n",
        "\n",
        "accuracy_df = pd.DataFrame(data)\n",
        "print(accuracy_df)\n",
        "\n",
        "# Plot the accuracies with different colors for train and validation accuracy\n",
        "plt.plot([int(p * 100) for p in train_percentages], train_accuracies, label='Training Accuracy', color='green', marker='o')\n",
        "plt.plot([int(p * 100) for p in train_percentages], valid_accuracies, label='Validation Accuracy', color='red', marker='o')\n",
        "\n",
        "# Add labels and title\n",
        "plt.ylim(0.4, 1.02)\n",
        "plt.xlabel('Percentage of Training Data Used')\n",
        "plt.ylabel('Accuracy')\n",
        "plt.title('SVM Accuracy vs. Training Data Size')\n",
        "\n",
        "# Display legend\n",
        "plt.legend()\n",
        "\n",
        "# Add grid for better readability\n",
        "plt.grid(True)\n",
        "\n",
        "# Show the plot\n",
        "plt.show()"
      ],
      "metadata": {
        "colab": {
          "base_uri": "https://localhost:8080/",
          "height": 663
        },
        "id": "WdExW1S1cWRx",
        "outputId": "8ee5e61e-e41f-45d7-feeb-757ff1a7e9ea"
      },
      "execution_count": 101,
      "outputs": [
        {
          "output_type": "stream",
          "name": "stdout",
          "text": [
            "0.2\n",
            "0.4\n",
            "0.6\n",
            "0.8\n",
            "1.0\n",
            "   Percentage  Training Accuracy  Validation Accuracy\n",
            "0          20           0.996469             0.942740\n",
            "1          40           0.993644             0.957055\n",
            "2          60           0.990348             0.971370\n",
            "3          80           0.991702             0.985685\n",
            "4         100           0.992514             0.985685\n"
          ]
        },
        {
          "output_type": "display_data",
          "data": {
            "text/plain": [
              "<Figure size 640x480 with 1 Axes>"
            ],
            "image/png": "[encoded data removed]"
          },
          "metadata": {}
        }
      ]
    },
    {
      "cell_type": "markdown",
      "source": [
        "# **With Principal Component Analysis (PCA) Feature Extraction**"
      ],
      "metadata": {
        "id": "uzpEtJnZRpcG"
      }
    },
    {
      "cell_type": "code",
      "execution_count": 102,
      "metadata": {
        "id": "K0s-O_DdNzEi",
        "colab": {
          "base_uri": "https://localhost:8080/"
        },
        "outputId": "4271cf79-14d4-42f5-c58b-dd277fe48160"
      },
      "outputs": [
        {
          "output_type": "stream",
          "name": "stdout",
          "text": [
            "Downloading TrainData completed!\n",
            "Downloading validData completed!\n",
            "Downloading TestData completed!\n",
            "Train dataset size: \n",
            "train_feat_X: 7080 train_feat_Y: 7080\n",
            "\n",
            "Valid dataset size: \n",
            "valid_feat_X: 489 valid_feat_Y: 489\n",
            "\n",
            "Test dataset size: \n",
            "test_feat_X: 2232\n"
          ]
        }
      ],
      "source": [
        "import numpy as np\n",
        "import pandas as pd\n",
        "import matplotlib.pyplot as plt\n",
        "from sklearn.metrics import accuracy_score, f1_score\n",
        "from sklearn.model_selection import train_test_split\n",
        "from sklearn.preprocessing import StandardScaler\n",
        "from sklearn.svm import SVC\n",
        "from sklearn.linear_model import LogisticRegression\n",
        "import requests\n",
        "\n",
        "\n",
        "# URL of the raw .npz file\n",
        "url_train = \"https://github.com/psarath22/CS771_M1/raw/main/datasets/train/train_feature.npz\"\n",
        "url_valid = \"https://github.com/psarath22/CS771_M1/raw/main/datasets/valid/valid_feature.npz\"\n",
        "url_test = \"https://github.com/psarath22/CS771_M1/raw/main/datasets/test/test_feature.npz\"\n",
        "# Download the file\n",
        "response1 = requests.get(url_train)\n",
        "response2= requests.get(url_valid)\n",
        "response3 = requests.get(url_test)\n",
        "\n",
        "# Save the content to a file\n",
        "with open('train_feature.npz', 'wb') as f:\n",
        "    f.write(response1.content)\n",
        "    print(\"Downloading TrainData completed!\")\n",
        "\n",
        "# Save the content to a file\n",
        "with open('valid_feature.npz', 'wb') as f:\n",
        "    f.write(response2.content)\n",
        "    print(\"Downloading validData completed!\")\n",
        "\n",
        "# Save the content to a file\n",
        "with open('test_feature.npz', 'wb') as f:\n",
        "    f.write(response3.content)\n",
        "    print(\"Downloading TestData completed!\")\n",
        "\n",
        "\n",
        "# read feat dataset\n",
        "train_feat = np.load(\"train_feature.npz\", allow_pickle=True)\n",
        "train_feat_X = train_feat['features']\n",
        "train_feat_Y = train_feat['label']\n",
        "\n",
        "test_feat_X = np.load(\"test_feature.npz\", allow_pickle=True)['features']\n",
        "\n",
        "valid_feat = np.load(\"valid_feature.npz\", allow_pickle=True)\n",
        "valid_feat_X = valid_feat['features']\n",
        "valid_feat_Y = valid_feat['label']\n",
        "\n",
        "\n",
        "print(f\"Train dataset size: \")\n",
        "print(f\"train_feat_X: {len(train_feat_X)} train_feat_Y: {len(train_feat_Y)}\")\n",
        "\n",
        "print()\n",
        "print(\"Valid dataset size: \")\n",
        "print(f\"valid_feat_X: {len(valid_feat_X)} valid_feat_Y: {len(valid_feat_Y)}\")\n",
        "\n",
        "print()\n",
        "print(\"Test dataset size: \")\n",
        "print(f\"test_feat_X: {len(test_feat_X)}\")\n"
      ]
    },
    {
      "cell_type": "code",
      "source": [
        "# Create the training and validation  dataset\n",
        "\n",
        "X_train = np.array([feat for feat in train_feat_X])\n",
        "print(X_train.shape)\n",
        "X_valid = np.array([feat for feat in valid_feat_X])\n",
        "print(X_valid.shape)\n",
        "X_test = np.array([feat for feat in test_feat_X])\n",
        "print(X_test.shape)\n",
        "\n",
        "X_train = np.array([feat.flatten() for feat in X_train])\n",
        "X_valid = np.array([feat.flatten() for feat in X_valid])\n",
        "X_test = np.array([feat.flatten() for feat in X_test])\n",
        "\n",
        "from sklearn.decomposition import PCA\n",
        "n_components = 200\n",
        "pca = PCA(n_components=n_components)\n",
        "X_train = pca.fit_transform(X_train)\n",
        "X_valid = pca.transform(X_valid)\n",
        "X_test = pca.transform(X_test)\n",
        "print(X_train.shape)\n",
        "print(X_valid.shape)\n",
        "print(X_test.shape)"
      ],
      "metadata": {
        "id": "KQRsnx__PuQc",
        "colab": {
          "base_uri": "https://localhost:8080/"
        },
        "outputId": "0d03f004-f251-44ff-e8cb-d968a05bb014"
      },
      "execution_count": 103,
      "outputs": [
        {
          "output_type": "stream",
          "name": "stdout",
          "text": [
            "(7080, 13, 768)\n",
            "(489, 13, 768)\n",
            "(2232, 13, 768)\n",
            "(7080, 200)\n",
            "(489, 200)\n",
            "(2232, 200)\n"
          ]
        }
      ]
    },
    {
      "cell_type": "markdown",
      "source": [
        "# ***Logistic Regression***"
      ],
      "metadata": {
        "id": "6sOoCdSFQfH7"
      }
    },
    {
      "cell_type": "code",
      "source": [
        "# Train Logistic Regression classifier\n",
        "logreg_classifier = LogisticRegression(max_iter=1000)\n",
        "logreg_classifier.fit(X_train, train_feat_Y)\n",
        "\n",
        "# Predict classes for validation data\n",
        "valid_predictions = logreg_classifier.predict(X_valid)\n",
        "train_predictions = logreg_classifier.predict(X_train)\n",
        "\n",
        "# Calculate validation accuracy\n",
        "valid_accuracy = accuracy_score(valid_feat_Y, valid_predictions)\n",
        "print(f\"Validation Accuracy with Logistic Regression: {valid_accuracy}\")\n",
        "\n",
        "# Calculate training accuracy\n",
        "train_accuracy = accuracy_score(train_feat_Y, train_predictions)\n",
        "print(f\"Train Accuracy with Logistic Regression: {train_accuracy}\")\n",
        "\n",
        "f1 = f1_score(valid_feat_Y, valid_predictions, average='weighted')\n",
        "print(f\"f1 score with logistic Regression: {f1}\")\n",
        "\n",
        "# Calculate the number of trainable parameters\n",
        "n_weights = logreg_classifier.coef_.size  # Number of weights (features)\n",
        "n_intercepts = logreg_classifier.intercept_.size  # Number of intercepts (bias term)\n",
        "\n",
        "n_trainable_parameters = n_weights + n_intercepts\n",
        "print(f\"Number of trainable parameters: {n_trainable_parameters}\")\n"
      ],
      "metadata": {
        "colab": {
          "base_uri": "https://localhost:8080/"
        },
        "id": "qxhlrWR7PBr6",
        "outputId": "07fec3f8-f36a-42e4-9fbb-b65ee6d7f090"
      },
      "execution_count": 104,
      "outputs": [
        {
          "output_type": "stream",
          "name": "stdout",
          "text": [
            "Validation Accuracy with Logistic Regression: 0.9795501022494888\n",
            "Train Accuracy with Logistic Regression: 0.9896892655367232\n",
            "f1 score with logistic Regression: 0.9795523273714443\n",
            "Number of trainable parameters: 201\n"
          ]
        }
      ]
    },
    {
      "cell_type": "code",
      "source": [
        "# Split the training data into different sizes (20%, 40%, 60%, 80%, 100%)\n",
        "train_percentages = [0.2, 0.4, 0.6, 0.8, 1.0]  # Adjust 100% to a very close float value\n",
        "train_accuracies = []\n",
        "valid_accuracies = []\n",
        "\n",
        "# Logistic classifier with different portions of the training data\n",
        "for percentage in train_percentages:\n",
        "    # Split the training data\n",
        "    print(percentage)\n",
        "    if(percentage == 1.0):\n",
        "        X_train_subset = X_train\n",
        "        Y_train_subset = train_feat_Y\n",
        "    else:\n",
        "      X_train_subset, _, Y_train_subset, _ = train_test_split(X_train, train_feat_Y, train_size=percentage, random_state=42)\n",
        "\n",
        "    # Train Logistic Regression classifier\n",
        "    logreg_classifier = LogisticRegression(max_iter=1000)\n",
        "    logreg_classifier.fit(X_train_subset, Y_train_subset)\n",
        "\n",
        "    # Predictions and accuracy on training data\n",
        "    train_predictions = logreg_classifier.predict(X_train_subset)\n",
        "    train_accuracy = accuracy_score(Y_train_subset, train_predictions)\n",
        "    train_accuracies.append(train_accuracy)\n",
        "\n",
        "    # Predictions and accuracy on validation data\n",
        "    valid_predictions = logreg_classifier.predict(X_valid)\n",
        "    valid_accuracy = accuracy_score(valid_feat_Y, valid_predictions)\n",
        "    valid_accuracies.append(valid_accuracy)\n",
        "# Create a DataFrame to print the table\n",
        "data = {\n",
        "    \"Percentage\": [int(p * 100) for p in train_percentages],\n",
        "    \"Training Accuracy\": train_accuracies,\n",
        "    \"Validation Accuracy\": valid_accuracies\n",
        "}\n",
        "\n",
        "accuracy_df = pd.DataFrame(data)\n",
        "print(accuracy_df)\n",
        "\n",
        "# Plot the accuracies with different colors for train and validation accuracy\n",
        "plt.plot([int(p * 100) for p in train_percentages], train_accuracies, label='Training Accuracy', color='green', marker='o')\n",
        "plt.plot([int(p * 100) for p in train_percentages], valid_accuracies, label='Validation Accuracy', color='red', marker='o')\n",
        "\n",
        "# Add labels and title\n",
        "plt.ylim(0.4, 1.02)\n",
        "plt.xlabel('Percentage of Training Data Used')\n",
        "plt.ylabel('Accuracy')\n",
        "plt.title('Logistic Accuracy vs. Training Data Size')\n",
        "\n",
        "# Display legend\n",
        "plt.legend()\n",
        "\n",
        "# Add grid for better readability\n",
        "plt.grid(True)\n",
        "\n",
        "# Show the plot\n",
        "plt.show()"
      ],
      "metadata": {
        "colab": {
          "base_uri": "https://localhost:8080/",
          "height": 663
        },
        "id": "pzjYY_cJbBRn",
        "outputId": "28556be8-45c9-4503-e444-ec4131689fbb"
      },
      "execution_count": 105,
      "outputs": [
        {
          "output_type": "stream",
          "name": "stdout",
          "text": [
            "0.2\n",
            "0.4\n",
            "0.6\n",
            "0.8\n",
            "1.0\n",
            "   Percentage  Training Accuracy  Validation Accuracy\n",
            "0          20           0.997175             0.944785\n",
            "1          40           0.992585             0.969325\n",
            "2          60           0.991761             0.979550\n",
            "3          80           0.990466             0.979550\n",
            "4         100           0.989689             0.979550\n"
          ]
        },
        {
          "output_type": "display_data",
          "data": {
            "text/plain": [
              "<Figure size 640x480 with 1 Axes>"
            ],
            "image/png": "[encoded data removed]"
          },
          "metadata": {}
        }
      ]
    },
    {
      "cell_type": "markdown",
      "source": [
        "# ***KNN***"
      ],
      "metadata": {
        "id": "FQdLefHDQva3"
      }
    },
    {
      "cell_type": "code",
      "source": [
        "from sklearn.neighbors import KNeighborsClassifier\n",
        "\n",
        "# Train KNN classifier\n",
        "knn_classifier = KNeighborsClassifier(n_neighbors=5)  # You can change the number of neighbors (n_neighbors)\n",
        "knn_classifier.fit(X_train, train_feat_Y)\n",
        "\n",
        "# Predict classes for validation data\n",
        "valid_predictions = knn_classifier.predict(X_valid)\n",
        "train_predictions = knn_classifier.predict(X_train)\n",
        "\n",
        "# Calculate validation accuracy\n",
        "valid_accuracy = accuracy_score(valid_feat_Y, valid_predictions)\n",
        "print(f\"Validation Accuracy with KNN: {valid_accuracy}\")\n",
        "\n",
        "# Calculate training accuracy\n",
        "train_accuracy = accuracy_score(train_feat_Y, train_predictions)\n",
        "print(f\"Train Accuracy with KNN: {train_accuracy}\")\n",
        "\n",
        "f1 = f1_score(valid_feat_Y, valid_predictions, average='weighted')\n",
        "print(f\"f1 score with KNN Regression: {f1}\")"
      ],
      "metadata": {
        "colab": {
          "base_uri": "https://localhost:8080/"
        },
        "id": "f8oWSG58QYuV",
        "outputId": "22b2c705-2b73-41ad-8691-7c80139c4990"
      },
      "execution_count": 106,
      "outputs": [
        {
          "output_type": "stream",
          "name": "stdout",
          "text": [
            "Validation Accuracy with KNN: 0.8670756646216768\n",
            "Train Accuracy with KNN: 0.931497175141243\n",
            "f1 score with KNN Regression: 0.8670667608920972\n"
          ]
        }
      ]
    },
    {
      "cell_type": "markdown",
      "source": [
        "# ***LwP***"
      ],
      "metadata": {
        "id": "qLqw-0wnQ5DA"
      }
    },
    {
      "cell_type": "code",
      "source": [
        "import numpy as np\n",
        "from sklearn.metrics import accuracy_score\n",
        "\n",
        "def compute_class_prototypes(X_train, Y_train):\n",
        "    \"\"\"Compute the mean prototype for each class.\"\"\"\n",
        "    class_0_prototype = X_train[Y_train == 0].mean(axis=0)\n",
        "    class_1_prototype = X_train[Y_train == 1].mean(axis=0)\n",
        "    return class_0_prototype, class_1_prototype\n",
        "\n",
        "def predict_lwp(X_valid, class_0_prototype, class_1_prototype):\n",
        "    \"\"\"Predict labels based on distance to prototypes.\"\"\"\n",
        "    predictions = []\n",
        "    for x in X_valid:\n",
        "        # Compute distances to each prototype\n",
        "        distance_to_class_0 = np.linalg.norm(x - class_0_prototype)\n",
        "        distance_to_class_1 = np.linalg.norm(x - class_1_prototype)\n",
        "\n",
        "        # Assign the class with the closer prototype\n",
        "        if distance_to_class_0 < distance_to_class_1:\n",
        "            predictions.append(0)\n",
        "        else:\n",
        "            predictions.append(1)\n",
        "\n",
        "    return np.array(predictions)\n",
        "\n",
        "# Compute prototypes for the two classes\n",
        "class_0_prototype, class_1_prototype = compute_class_prototypes(X_train, train_feat_Y)\n",
        "\n",
        "# Predict on the training data\n",
        "train_predictions = predict_lwp(X_train, class_0_prototype, class_1_prototype)\n",
        "train_accuracy = accuracy_score(train_feat_Y, train_predictions)\n",
        "print(f\"Train Accuracy with LWP: {train_accuracy}\")\n",
        "\n",
        "# Predict on the validation data\n",
        "valid_predictions = predict_lwp(X_valid, class_0_prototype, class_1_prototype)\n",
        "valid_accuracy = accuracy_score(valid_feat_Y, valid_predictions)\n",
        "print(f\"Validation Accuracy with LWP: {valid_accuracy}\")\n",
        "\n",
        "f1 = f1_score(valid_feat_Y, valid_predictions, average='weighted')\n",
        "print(f\"f1 score with LwP Regression: {f1}\")"
      ],
      "metadata": {
        "id": "iAEx1WQzQxMW",
        "colab": {
          "base_uri": "https://localhost:8080/"
        },
        "outputId": "61264010-7e78-428f-fa1d-c8ae343dcfbe"
      },
      "execution_count": 107,
      "outputs": [
        {
          "output_type": "stream",
          "name": "stdout",
          "text": [
            "Train Accuracy with LWP: 0.9533898305084746\n",
            "Validation Accuracy with LWP: 0.9366053169734151\n",
            "f1 score with LwP Regression: 0.9366201674159853\n"
          ]
        }
      ]
    },
    {
      "cell_type": "markdown",
      "source": [
        "# ***SVM Classifier***"
      ],
      "metadata": {
        "id": "a4dYboO4Rd1k"
      }
    },
    {
      "cell_type": "code",
      "source": [
        "# Train SVM classifier\n",
        "svm_classifier = SVC(kernel='linear')  # You can also experiment with other kernels\n",
        "svm_classifier.fit(X_train, train_feat_Y)\n",
        "\n",
        "# Predict classes for validation data\n",
        "valid_predictions = svm_classifier.predict(X_valid)\n",
        "train_predictions = svm_classifier.predict(X_train)\n",
        "\n",
        "# Calculate validation accuracy\n",
        "valid_accuracy = accuracy_score(valid_feat_Y, valid_predictions)\n",
        "print(f\"Validation Accuracy with SVM: {valid_accuracy}\")\n",
        "\n",
        "# Calculate validation accuracy\n",
        "train_accuracy = accuracy_score(train_feat_Y, train_predictions)\n",
        "print(f\"Train Accuracy with SVM: {train_accuracy}\")\n",
        "\n",
        "f1 = f1_score(valid_feat_Y, valid_predictions, average='weighted')\n",
        "print(f\"f1 score with SVM: {f1}\")\n",
        "\n",
        "n_weights = svm_classifier.coef_.size  # Number of weights\n",
        "n_intercepts = svm_classifier.intercept_.size  # Number of intercepts\n",
        "n_params = n_weights + n_intercepts\n",
        "print(f\"Number of trainable parameters: {n_params}\")"
      ],
      "metadata": {
        "id": "TBEVmq26Rfeq",
        "colab": {
          "base_uri": "https://localhost:8080/"
        },
        "outputId": "fbfbaa6d-bf3b-49b0-8ca0-fb8c211a3b53"
      },
      "execution_count": 108,
      "outputs": [
        {
          "output_type": "stream",
          "name": "stdout",
          "text": [
            "Validation Accuracy with SVM: 0.9795501022494888\n",
            "Train Accuracy with SVM: 0.9864406779661017\n",
            "f1 score with SVM: 0.9795501022494888\n",
            "Number of trainable parameters: 201\n"
          ]
        }
      ]
    },
    {
      "cell_type": "code",
      "source": [
        "# Split the training data into different sizes (20%, 40%, 60%, 80%, 100%)\n",
        "train_percentages = [0.2, 0.4, 0.6, 0.8, 1.0]  # Adjust 100% to a very close float value\n",
        "train_accuracies = []\n",
        "valid_accuracies = []\n",
        "\n",
        "# Train SVM classifier with different portions of the training data\n",
        "for percentage in train_percentages:\n",
        "    # Split the training data\n",
        "    print(percentage)\n",
        "    if(percentage == 1.0):\n",
        "        X_train_subset = X_train\n",
        "        Y_train_subset = train_feat_Y\n",
        "    else:\n",
        "      X_train_subset, _, Y_train_subset, _ = train_test_split(X_train, train_feat_Y, train_size=percentage, random_state=42)\n",
        "\n",
        "    # Train SVM classifier\n",
        "    svm_classifier = SVC(kernel='linear')  # You can experiment with other kernels if needed\n",
        "    svm_classifier.fit(X_train_subset, Y_train_subset)\n",
        "\n",
        "    # Predictions and accuracy on training data\n",
        "    train_predictions = svm_classifier.predict(X_train_subset)\n",
        "    train_accuracy = accuracy_score(Y_train_subset, train_predictions)\n",
        "    train_accuracies.append(train_accuracy)\n",
        "\n",
        "    # Predictions and accuracy on validation data\n",
        "    valid_predictions = svm_classifier.predict(X_valid)\n",
        "    valid_accuracy = accuracy_score(valid_feat_Y, valid_predictions)\n",
        "    valid_accuracies.append(valid_accuracy)\n",
        "\n",
        "# Create a DataFrame to print the table\n",
        "data = {\n",
        "    \"Percentage\": [int(p * 100) for p in train_percentages],\n",
        "    \"Training Accuracy\": train_accuracies,\n",
        "    \"Validation Accuracy\": valid_accuracies\n",
        "}\n",
        "\n",
        "accuracy_df = pd.DataFrame(data)\n",
        "print(accuracy_df)\n",
        "\n",
        "# Plot the accuracies with different colors for train and validation accuracy\n",
        "plt.plot([int(p * 100) for p in train_percentages], train_accuracies, label='Training Accuracy', color='green', marker='o')\n",
        "plt.plot([int(p * 100) for p in train_percentages], valid_accuracies, label='Validation Accuracy', color='red', marker='o')\n",
        "\n",
        "# Add labels and title\n",
        "plt.ylim(0.4, 1.02)\n",
        "plt.xlabel('Percentage of Training Data Used')\n",
        "plt.ylabel('Accuracy')\n",
        "plt.title('SVM Accuracy vs. Training Data Size')\n",
        "\n",
        "# Display legend\n",
        "plt.legend()\n",
        "\n",
        "# Add grid for better readability\n",
        "plt.grid(True)\n",
        "\n",
        "# Show the plot\n",
        "plt.show()"
      ],
      "metadata": {
        "id": "sx3qPgrwRj0L",
        "colab": {
          "base_uri": "https://localhost:8080/",
          "height": 663
        },
        "outputId": "7159cc45-9b5e-44f1-9160-6239a660bdd5"
      },
      "execution_count": 109,
      "outputs": [
        {
          "output_type": "stream",
          "name": "stdout",
          "text": [
            "0.2\n",
            "0.4\n",
            "0.6\n",
            "0.8\n",
            "1.0\n",
            "   Percentage  Training Accuracy  Validation Accuracy\n",
            "0          20           0.995056             0.936605\n",
            "1          40           0.988701             0.973415\n",
            "2          60           0.989407             0.979550\n",
            "3          80           0.988524             0.981595\n",
            "4         100           0.986441             0.979550\n"
          ]
        },
        {
          "output_type": "display_data",
          "data": {
            "text/plain": [
              "<Figure size 640x480 with 1 Axes>"
            ],
            "image/png": "[encoded data removed]"
          },
          "metadata": {}
        }
      ]
    },
    {
      "cell_type": "markdown",
      "source": [
        "# ***Deep Neural Network***"
      ],
      "metadata": {
        "id": "OxJ73CcpdekF"
      }
    },
    {
      "cell_type": "code",
      "source": [],
      "metadata": {
        "id": "urkeVRM6g-Rw"
      },
      "execution_count": null,
      "outputs": []
    },
    {
      "cell_type": "code",
      "source": [],
      "metadata": {
        "id": "iHgmJTdHg-UC"
      },
      "execution_count": null,
      "outputs": []
    },
    {
      "cell_type": "code",
      "source": [],
      "metadata": {
        "id": "RJKKkjMYg-XV"
      },
      "execution_count": null,
      "outputs": []
    }
  ]
}