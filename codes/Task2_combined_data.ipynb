{
  "nbformat": 4,
  "nbformat_minor": 0,
  "metadata": {
    "colab": {
      "provenance": []
    },
    "kernelspec": {
      "name": "python3",
      "display_name": "Python 3"
    },
    "language_info": {
      "name": "python"
    }
  },
  "cells": [
    {
      "cell_type": "code",
      "execution_count": 1,
      "metadata": {
        "id": "fUSJgul9eRfz"
      },
      "outputs": [],
      "source": [
        "import numpy as np\n",
        "import pandas as pd\n",
        "import matplotlib.pyplot as plt\n",
        "from sklearn.svm import SVC\n",
        "from sklearn.metrics import accuracy_score,f1_score\n",
        "from sklearn.model_selection import train_test_split\n",
        "from sklearn.preprocessing import StandardScaler\n",
        "from sklearn.linear_model import LogisticRegression\n",
        "import requests\n",
        "np.random.seed(0)\n"
      ]
    },
    {
      "cell_type": "markdown",
      "source": [
        "# **Preparation of Emoticon Data**\n",
        "\n",
        "---\n",
        "\n"
      ],
      "metadata": {
        "id": "NzziTvWniCPC"
      }
    },
    {
      "cell_type": "code",
      "source": [
        "# read emoticon dataset\n",
        "train_emoticon_df = pd.read_csv(\"https://raw.githubusercontent.com/psarath22/CS771_M1/main/datasets/train/train_emoticon.csv\")\n",
        "train_emoticon_X = train_emoticon_df['input_emoticon'].tolist()\n",
        "train_emoticon_Y = train_emoticon_df['label'].tolist()\n",
        "\n",
        "valid_emoticon_df = pd.read_csv(\"https://raw.githubusercontent.com/psarath22/CS771_M1/main/datasets/valid/valid_emoticon.csv\")\n",
        "valid_emoticon_X = valid_emoticon_df['input_emoticon'].tolist()\n",
        "valid_emoticon_Y = valid_emoticon_df['label'].tolist()\n",
        "\n",
        "test_emoticon_X = pd.read_csv(\"https://raw.githubusercontent.com/psarath22/CS771_M1/main/datasets/test/test_emoticon.csv\")['input_emoticon'].tolist()\n",
        "\n",
        "print(f\"Train dataset size: \")\n",
        "print(f\"train_emoticon_X: {len(train_emoticon_X)} train_emoticon_Y: {len(train_emoticon_Y)}\")\n",
        "\n",
        "print()\n",
        "print(\"Valid dataset size: \")\n",
        "print(f\"valid_emoticon_X: {len(valid_emoticon_X)} valid_emoticon_Y: {len(valid_emoticon_Y)}\")\n",
        "\n",
        "print()\n",
        "print(\"Test dataset size: \")\n",
        "print(f\"test_emoticon_X: {len(test_emoticon_X)}\")"
      ],
      "metadata": {
        "colab": {
          "base_uri": "https://localhost:8080/"
        },
        "id": "4s-9eJIuu11S",
        "outputId": "7b1beeed-6078-4425-e33e-4ae78afebe34"
      },
      "execution_count": 2,
      "outputs": [
        {
          "output_type": "stream",
          "name": "stdout",
          "text": [
            "Train dataset size: \n",
            "train_emoticon_X: 7080 train_emoticon_Y: 7080\n",
            "\n",
            "Valid dataset size: \n",
            "valid_emoticon_X: 489 valid_emoticon_Y: 489\n",
            "\n",
            "Test dataset size: \n",
            "test_emoticon_X: 2232\n"
          ]
        }
      ]
    },
    {
      "cell_type": "code",
      "source": [
        "# Convert list to NumPy array\n",
        "train_emoticon_X = np.array(train_emoticon_X)\n",
        "valid_emoticon_X = np.array(valid_emoticon_X)\n",
        "test_emoticon_X = np.array(test_emoticon_X)\n",
        "\n",
        "train_emoticon_Y = np.array(train_emoticon_Y)\n",
        "valid_emoticon_Y = np.array(valid_emoticon_Y)\n",
        "\n",
        "print(type(train_emoticon_X))\n",
        "print(type(train_emoticon_X[0]))\n",
        "\n",
        "# Concatenate all lists into one\n",
        "all_texts = ''.join(train_emoticon_X.flatten()) + ''.join(valid_emoticon_X.flatten()) + ''.join(test_emoticon_X.flatten())\n",
        "\n",
        "# Get unique characters\n",
        "unique_characters = np.unique(list(all_texts))\n",
        "print(unique_characters)\n",
        "# Create a mapping from characters to indices\n",
        "char_to_index = {char: idx for idx, char in enumerate(unique_characters)}\n",
        "print(unique_characters.shape)\n",
        "print(len(char_to_index))"
      ],
      "metadata": {
        "colab": {
          "base_uri": "https://localhost:8080/"
        },
        "id": "le2t00mgu49p",
        "outputId": "933063f0-5d54-492c-e69b-3c1f4c040947"
      },
      "execution_count": 3,
      "outputs": [
        {
          "output_type": "stream",
          "name": "stdout",
          "text": [
            "<class 'numpy.ndarray'>\n",
            "<class 'numpy.str_'>\n",
            "['😀' '😁' '😂' '😃' '😄' '😅' '😆' '😇' '😈' '😉' '😊' '😋' '😌' '😍' '😎' '😏' '😐' '😑'\n",
            " '😒' '😓' '😔' '😕' '😖' '😗' '😘' '😙' '😚' '😛' '😜' '😝' '😞' '😟' '😠' '😡' '😢' '😣'\n",
            " '😤' '😥' '😦' '😧' '😨' '😩' '😪' '😫' '😬' '😭' '😮' '😯' '😰' '😱' '😲' '😳' '😴' '😵'\n",
            " '😶' '😷' '😸' '😹' '😺' '😻' '😼' '😽' '😾' '😿' '🙀' '🙁' '🙂' '🙃' '🙄' '🙅' '🙆' '🙇'\n",
            " '🙈' '🙉' '🙊' '🙋' '🙌' '🙍' '🙎' '🙏' '🙐' '🙑' '🙒' '🙓' '🙔' '🙕' '🙖' '🙗' '🙘' '🙙'\n",
            " '🙚' '🙛' '🙜' '🙝' '🙞' '🙟' '🙠' '🙡' '🙢' '🙣' '🙤' '🙥' '🙦' '🙧' '🙨' '🙩' '🙪' '🙫'\n",
            " '🙬' '🙭' '🙮' '🙯' '🙰' '🙱' '🙲' '🙳' '🙴' '🙵' '🙶' '🙷' '🙸' '🙹' '🙺' '🙻' '🙼' '🙽'\n",
            " '🙾' '🙿' '🚀' '🚁' '🚂' '🚃' '🚄' '🚅' '🚆' '🚇' '🚈' '🚉' '🚊' '🚋' '🚌' '🚍' '🚎' '🚏'\n",
            " '🚐' '🚑' '🚒' '🚓' '🚔' '🚕' '🚖' '🚗' '🚘' '🚙' '🚚' '🚛' '🚜' '🚝' '🚞' '🚟' '🚠' '🚡'\n",
            " '🚢' '🚣' '🚤' '🚥' '🚦' '🚧' '🚨' '🚩' '🚪' '🚫' '🚬' '🚭' '🚮' '🚯' '🚰' '🚱' '🚲' '🚳'\n",
            " '🚴' '🚵' '🚶' '🚷' '🚸' '🚹' '🚺' '🚻' '🚼' '🚽' '🚾' '🚿' '🛀' '🛁' '🛂' '🛃' '🛄' '🛅'\n",
            " '🛆' '🛇' '🛈' '🛉' '🛊' '🛋' '🛌' '🛍' '🛎' '🛏' '🛐' '🛑' '🛒' '🛓' '🛔' '🛕' '🛖' '🛗'\n",
            " '\\U0001f6d8' '\\U0001f6d9' '\\U0001f6da' '\\U0001f6db' '\\U0001f6dc'\n",
            " '\\U0001f6dd' '\\U0001f6de' '\\U0001f6df' '🛠' '🛡']\n",
            "(226,)\n",
            "226\n"
          ]
        }
      ]
    },
    {
      "cell_type": "code",
      "source": [
        "# Function to convert input emoticons to a 13x226 matrix\n",
        "def one_hot_count_matrix(emoticon, max_len=13, num_classes=226):\n",
        "    # Initialize a matrix of zeros\n",
        "    matrix = np.zeros((max_len, num_classes))\n",
        "    # Iterate through the characters in the emoticon\n",
        "    for i, char in enumerate(emoticon):\n",
        "        if char in char_to_index:  # Check if char exists in the mapping\n",
        "            matrix[i, char_to_index[char]] = 1  # One-hot encoding\n",
        "        else:\n",
        "            print(f\"Character '{char}' not found in char_to_index.\")  # Optional: log missing characters\n",
        "    return matrix.flatten()  # Flatten to a vector for SVM input\n",
        "\n",
        "# Create the training and validation datasets\n",
        "train_emoticon_X = np.array([one_hot_count_matrix(emoticon) for emoticon in train_emoticon_X])\n",
        "valid_emoticon_X = np.array([one_hot_count_matrix(emoticon) for emoticon in valid_emoticon_X])\n",
        "test_emoticon_X = np.array([one_hot_count_matrix(emoticon) for emoticon in test_emoticon_X])\n",
        "\n",
        "print(train_emoticon_X.shape)\n",
        "print(valid_emoticon_X.shape)\n",
        "print(test_emoticon_X.shape)"
      ],
      "metadata": {
        "id": "zJVsxrl_u5D0",
        "colab": {
          "base_uri": "https://localhost:8080/"
        },
        "outputId": "e441675d-db7d-4738-b8fd-9f9228d9af46"
      },
      "execution_count": 4,
      "outputs": [
        {
          "output_type": "stream",
          "name": "stdout",
          "text": [
            "(7080, 2938)\n",
            "(489, 2938)\n",
            "(2232, 2938)\n"
          ]
        }
      ]
    },
    {
      "cell_type": "markdown",
      "source": [
        "# **Preparation of Feature Data**"
      ],
      "metadata": {
        "id": "P89A9YUSvRkS"
      }
    },
    {
      "cell_type": "code",
      "source": [
        "# URL of the raw .npz file\n",
        "url_train = \"https://github.com/psarath22/CS771_M1/raw/main/datasets/train/train_feature.npz\"\n",
        "url_valid = \"https://github.com/psarath22/CS771_M1/raw/main/datasets/valid/valid_feature.npz\"\n",
        "url_test = \"https://github.com/psarath22/CS771_M1/raw/main/datasets/test/test_feature.npz\"\n",
        "# Download the file\n",
        "response1 = requests.get(url_train)\n",
        "response2= requests.get(url_valid)\n",
        "response3 = requests.get(url_test)\n",
        "\n",
        "# Save the content to a file\n",
        "with open('train_feature.npz', 'wb') as f:\n",
        "    f.write(response1.content)\n",
        "    print(\"Downloading TrainData completed!\")\n",
        "\n",
        "# Save the content to a file\n",
        "with open('valid_feature.npz', 'wb') as f:\n",
        "    f.write(response2.content)\n",
        "    print(\"Downloading validData completed!\")\n",
        "\n",
        "# Save the content to a file\n",
        "with open('test_feature.npz', 'wb') as f:\n",
        "    f.write(response3.content)\n",
        "    print(\"Downloading TestData completed!\")\n",
        "\n",
        "\n",
        "# read feat dataset\n",
        "train_feat = np.load(\"train_feature.npz\", allow_pickle=True)\n",
        "train_feat_X = train_feat['features']\n",
        "train_feat_Y = train_feat['label']\n",
        "\n",
        "test_feat_X = np.load(\"test_feature.npz\", allow_pickle=True)['features']\n",
        "\n",
        "valid_feat = np.load(\"valid_feature.npz\", allow_pickle=True)\n",
        "valid_feat_X = valid_feat['features']\n",
        "valid_feat_Y = valid_feat['label']\n",
        "\n",
        "\n",
        "print(f\"Train dataset size: \")\n",
        "print(f\"train_feat_X: {len(train_feat_X)} train_feat_Y: {len(train_feat_Y)}\")\n",
        "\n",
        "print()\n",
        "print(\"Valid dataset size: \")\n",
        "print(f\"valid_feat_X: {len(valid_feat_X)} valid_feat_Y: {len(valid_feat_Y)}\")\n",
        "\n",
        "print()\n",
        "print(\"Test dataset size: \")\n",
        "print(f\"test_feat_X: {len(test_feat_X)}\")\n"
      ],
      "metadata": {
        "id": "3mgpneJfvW5e",
        "colab": {
          "base_uri": "https://localhost:8080/"
        },
        "outputId": "6fb607b6-eb05-4ab1-a222-5edc3a1eae11"
      },
      "execution_count": 5,
      "outputs": [
        {
          "output_type": "stream",
          "name": "stdout",
          "text": [
            "Downloading TrainData completed!\n",
            "Downloading validData completed!\n",
            "Downloading TestData completed!\n",
            "Train dataset size: \n",
            "train_feat_X: 7080 train_feat_Y: 7080\n",
            "\n",
            "Valid dataset size: \n",
            "valid_feat_X: 489 valid_feat_Y: 489\n",
            "\n",
            "Test dataset size: \n",
            "test_feat_X: 2232\n"
          ]
        }
      ]
    },
    {
      "cell_type": "code",
      "source": [
        "\n",
        "# Create the training and validation  dataset\n",
        "\n",
        "train_feat_X = np.array([feat for feat in train_feat_X])\n",
        "valid_feat_X = np.array([feat for feat in valid_feat_X])\n",
        "test_feat_X = np.array([feat for feat in test_feat_X])\n",
        "\n",
        "train_feat_X = np.array([feat.flatten() for feat in train_feat_X])\n",
        "valid_feat_X = np.array([feat.flatten() for feat in valid_feat_X])\n",
        "test_feat_X = np.array([feat.flatten() for feat in test_feat_X])\n",
        "\n",
        "from sklearn.decomposition import PCA\n",
        "n_components = 150\n",
        "pca = PCA(n_components=n_components)\n",
        "train_feat_X = pca.fit_transform(train_feat_X)\n",
        "valid_feat_X = pca.transform(valid_feat_X)\n",
        "test_feat_X = pca.transform(test_feat_X)\n",
        "print(train_feat_X.shape)\n",
        "print(valid_feat_X.shape)\n",
        "print(test_feat_X.shape)"
      ],
      "metadata": {
        "colab": {
          "base_uri": "https://localhost:8080/"
        },
        "id": "YWVLMtUcvomY",
        "outputId": "19869182-baa7-476b-c11d-1b9dfdb9e52b"
      },
      "execution_count": 6,
      "outputs": [
        {
          "output_type": "stream",
          "name": "stdout",
          "text": [
            "(7080, 150)\n",
            "(489, 150)\n",
            "(2232, 150)\n"
          ]
        }
      ]
    },
    {
      "cell_type": "markdown",
      "source": [
        "# **preparation of Sequence Dataset**"
      ],
      "metadata": {
        "id": "n7pkGedavg1L"
      }
    },
    {
      "cell_type": "code",
      "source": [
        "# read text sequence dataset\n",
        "train_seq_df = pd.read_csv('https://raw.githubusercontent.com/psarath22/CS771_M1/main/datasets/train/train_text_seq.csv')\n",
        "train_seq_X = train_seq_df['input_str'].tolist()\n",
        "train_seq_Y = train_seq_df['label'].tolist()\n",
        "\n",
        "test_seq_X = pd.read_csv(\"https://raw.githubusercontent.com/psarath22/CS771_M1/main/datasets/test/test_text_seq.csv\")['input_str'].tolist()\n",
        "\n",
        "# read text sequence dataset\n",
        "valid_seq_df = pd.read_csv(\"https://raw.githubusercontent.com/psarath22/CS771_M1/main/datasets/valid/valid_text_seq.csv\")\n",
        "valid_seq_X = valid_seq_df['input_str'].tolist()\n",
        "valid_seq_Y = valid_seq_df['label'].tolist()\n",
        "\n",
        "\n",
        "# Convert list to NumPy array\n",
        "train_seq_X = np.array(train_seq_X)\n",
        "valid_seq_X = np.array(valid_seq_X)\n",
        "test_seq_X = np.array(test_seq_X)\n",
        "\n",
        "# Convert labels to numpy arrays\n",
        "train_seq_Y = np.array(train_seq_Y)\n",
        "valid_seq_Y = np.array(valid_seq_Y)"
      ],
      "metadata": {
        "id": "tzsaiiG2vl2J"
      },
      "execution_count": 7,
      "outputs": []
    },
    {
      "cell_type": "code",
      "source": [
        "\n",
        "# Get unique characters for two digits\n",
        "unique_characters = [f\"{i:02d}\" for i in range(100)]  # ['00', '01', ..., '99']\n",
        "num_classes = len(unique_characters)  # 100 classes\n",
        "\n",
        "# Create a mapping from characters to indices\n",
        "char_to_index = {char: idx for idx, char in enumerate(unique_characters)}\n",
        "\n",
        "# Function to convert input seqs to a 49x100 matrix using overlapping pairs\n",
        "def one_hot_count_matrix(seq, max_len=50):\n",
        "    # Initialize a matrix of zeros\n",
        "    matrix = np.zeros((max_len - 1, num_classes))  # 49x100 matrix for overlapping pairs\n",
        "    # Extract overlapping pairs and update the matrix\n",
        "    for i in range(0, max_len - 1):  # Loop from seq[0:2] to seq[48:50]\n",
        "        char_pair = seq[i:i + 2]  # Get overlapping pairs of characters\n",
        "        if char_pair in char_to_index:\n",
        "            index = char_to_index[char_pair]\n",
        "            matrix[i, index] = 1  # One-hot encoding\n",
        "    return matrix.flatten()  # Flatten to a vector for SVM input\n",
        "\n",
        "# Create the training and validation datasets\n",
        "train_seq_X = np.array([one_hot_count_matrix(seq) for seq in train_seq_X])\n",
        "valid_seq_X = np.array([one_hot_count_matrix(seq) for seq in valid_seq_X])\n",
        "test_seq_X = np.array([one_hot_count_matrix(seq) for seq in test_seq_X])\n",
        "\n",
        "print(train_seq_X.shape)  # Expected shape: (N_train, 4900)\n",
        "print(valid_seq_X.shape)  # Expected shape: (N_valid, 4900)\n",
        "print(test_seq_X.shape)  # Expected shape: (N_test, 4900)\n"
      ],
      "metadata": {
        "colab": {
          "base_uri": "https://localhost:8080/"
        },
        "id": "tFG3PP0iyMLV",
        "outputId": "15aa801e-fdb7-42df-c3d8-5be68972233a"
      },
      "execution_count": 8,
      "outputs": [
        {
          "output_type": "stream",
          "name": "stdout",
          "text": [
            "(7080, 4900)\n",
            "(489, 4900)\n",
            "(2232, 4900)\n"
          ]
        }
      ]
    },
    {
      "cell_type": "markdown",
      "source": [
        "# **Final Data Set**"
      ],
      "metadata": {
        "id": "QSdVcXmT22-T"
      }
    },
    {
      "cell_type": "code",
      "source": [
        "X_train = np.concatenate((train_emoticon_X, train_feat_X, train_seq_X), axis=1)\n",
        "X_valid = np.concatenate((valid_emoticon_X, valid_feat_X, valid_seq_X), axis=1)\n",
        "X_test = np.concatenate((test_emoticon_X, test_feat_X, test_seq_X), axis=1)\n",
        "\n",
        "print(X_train.shape)\n",
        "print(X_valid.shape)\n",
        "print(X_test.shape)\n",
        "\n",
        "Y_train = train_emoticon_Y\n",
        "Y_valid = valid_emoticon_Y\n",
        "\n",
        "num_features = 2938 + 150 + 4900\n",
        "print(f\"no.of features : {num_features}\")\n",
        "\n",
        "from sklearn.decomposition import PCA\n",
        "n_components = 300\n",
        "pca = PCA(n_components=n_components)\n",
        "X_train = pca.fit_transform(X_train)\n",
        "X_valid = pca.transform(X_valid)\n",
        "X_test = pca.transform(X_test)\n",
        "print(X_train.shape)\n",
        "print(X_valid.shape)\n",
        "print(X_test.shape)\n",
        "\n",
        "print(f\"reduced no.of features : {n_components}\")"
      ],
      "metadata": {
        "id": "GrAH-NFa22p3",
        "colab": {
          "base_uri": "https://localhost:8080/"
        },
        "outputId": "90998790-baba-48ae-b46a-828162744d42"
      },
      "execution_count": 9,
      "outputs": [
        {
          "output_type": "stream",
          "name": "stdout",
          "text": [
            "(7080, 7988)\n",
            "(489, 7988)\n",
            "(2232, 7988)\n",
            "no.of features : 7988\n",
            "(7080, 300)\n",
            "(489, 300)\n",
            "(2232, 300)\n",
            "reduced no.of features : 300\n"
          ]
        }
      ]
    },
    {
      "cell_type": "markdown",
      "source": [
        "# **Logistic Regression**"
      ],
      "metadata": {
        "id": "sL7xHJlOgOUu"
      }
    },
    {
      "cell_type": "code",
      "source": [
        "from sklearn.linear_model import LogisticRegression\n",
        "\n",
        "# Train Logistic Regression classifier\n",
        "logreg_classifier = LogisticRegression(max_iter=1000)\n",
        "logreg_classifier.fit(X_train, Y_train)\n",
        "\n",
        "# Predict classes for validation data\n",
        "valid_predictions = logreg_classifier.predict(X_valid)\n",
        "train_predictions = logreg_classifier.predict(X_train)\n",
        "\n",
        "# Calculate training accuracy\n",
        "train_accuracy = accuracy_score(Y_train, train_predictions)\n",
        "print(f\"Train Accuracy with Logistic Regression: {train_accuracy}\")\n",
        "\n",
        "# Calculate validation accuracy\n",
        "valid_accuracy = accuracy_score(Y_valid, valid_predictions)\n",
        "print(f\"Validation Accuracy with Logistic Regression: {valid_accuracy}\")\n",
        "\n",
        "f1 = f1_score(Y_valid, valid_predictions, average='weighted')\n",
        "print(f\"F1 Score with Logistic Regression: {f1}\")\n",
        "\n",
        "# Calculate the number of trainable parameters\n",
        "n_weights = logreg_classifier.coef_.size  # Number of weights (features)\n",
        "n_intercepts = logreg_classifier.intercept_.size  # Number of intercepts (bias term)\n",
        "\n",
        "n_trainable_parameters = n_weights + n_intercepts\n",
        "print(f\"Number of trainable parameters: {n_trainable_parameters}\")"
      ],
      "metadata": {
        "colab": {
          "base_uri": "https://localhost:8080/"
        },
        "id": "Ak1HCNZ_gJVv",
        "outputId": "88790fd6-de3e-4995-9ae0-1e67412e915c"
      },
      "execution_count": 10,
      "outputs": [
        {
          "output_type": "stream",
          "name": "stdout",
          "text": [
            "Train Accuracy with Logistic Regression: 0.9867231638418079\n",
            "Validation Accuracy with Logistic Regression: 0.9877300613496932\n",
            "F1 Score with Logistic Regression: 0.9877300613496932\n",
            "Number of trainable parameters: 301\n"
          ]
        }
      ]
    },
    {
      "cell_type": "code",
      "source": [
        "\n",
        "\n",
        "# Split the training data into different sizes (20%, 40%, 60%, 80%, 100%)\n",
        "train_percentages = [0.2, 0.4, 0.6, 0.8, 1.0]  # Adjust 100% to a very close float value\n",
        "train_accuracies = []\n",
        "valid_accuracies = []\n",
        "\n",
        "# Logistic classifier with different portions of the training data\n",
        "for percentage in train_percentages:\n",
        "    # Split the training data\n",
        "    print(percentage)\n",
        "    if(percentage == 1.0):\n",
        "        X_train_subset = X_train\n",
        "        Y_train_subset = Y_train\n",
        "    else:\n",
        "      X_train_subset, _, Y_train_subset, _ = train_test_split(X_train, Y_train, train_size=percentage, random_state=42)\n",
        "\n",
        "    # Train Logistic Regression classifier\n",
        "    logreg_classifier = LogisticRegression(max_iter=1000)\n",
        "    logreg_classifier.fit(X_train_subset, Y_train_subset)\n",
        "\n",
        "    # Predictions and accuracy on training data\n",
        "    train_predictions = logreg_classifier.predict(X_train_subset)\n",
        "    train_accuracy = accuracy_score(Y_train_subset, train_predictions)\n",
        "    train_accuracies.append(train_accuracy)\n",
        "\n",
        "    # Predictions and accuracy on validation data\n",
        "    valid_predictions = logreg_classifier.predict(X_valid)\n",
        "    valid_accuracy = accuracy_score(Y_valid, valid_predictions)\n",
        "    valid_accuracies.append(valid_accuracy)\n",
        "# Create a DataFrame to print the table\n",
        "data = {\n",
        "    \"Percentage\": [int(p * 100) for p in train_percentages],\n",
        "    \"Training Accuracy\": train_accuracies,\n",
        "    \"Validation Accuracy\": valid_accuracies\n",
        "}\n",
        "\n",
        "accuracy_df = pd.DataFrame(data)\n",
        "print(accuracy_df)\n",
        "\n",
        "# Plot the accuracies with different colors for train and validation accuracy\n",
        "plt.plot([int(p * 100) for p in train_percentages], train_accuracies, label='Training Accuracy', color='green', marker='o')\n",
        "plt.plot([int(p * 100) for p in train_percentages], valid_accuracies, label='Validation Accuracy', color='red', marker='o')\n",
        "\n",
        "# Add labels and title\n",
        "plt.ylim(0.4, 1.02)\n",
        "plt.xlabel('Percentage of Training Data Used')\n",
        "plt.ylabel('Accuracy')\n",
        "plt.title('Logistic Accuracy vs. Training Data Size')\n",
        "\n",
        "# Display legend\n",
        "plt.legend()\n",
        "\n",
        "# Add grid for better readability\n",
        "plt.grid(True)\n",
        "\n",
        "# Show the plot\n",
        "plt.show()"
      ],
      "metadata": {
        "id": "sSERlkxKgTSR",
        "colab": {
          "base_uri": "https://localhost:8080/",
          "height": 663
        },
        "outputId": "3fcd09d4-3f90-42a5-8fe7-fd6813676951"
      },
      "execution_count": 11,
      "outputs": [
        {
          "output_type": "stream",
          "name": "stdout",
          "text": [
            "0.2\n",
            "0.4\n",
            "0.6\n",
            "0.8\n",
            "1.0\n",
            "   Percentage  Training Accuracy  Validation Accuracy\n",
            "0          20           0.999294             0.918200\n",
            "1          40           0.995056             0.959100\n",
            "2          60           0.990113             0.971370\n",
            "3          80           0.988171             0.977505\n",
            "4         100           0.986723             0.987730\n"
          ]
        },
        {
          "output_type": "display_data",
          "data": {
            "text/plain": [
              "<Figure size 640x480 with 1 Axes>"
            ],
            "image/png": "[encoded data removed]"
          },
          "metadata": {}
        }
      ]
    },
    {
      "cell_type": "markdown",
      "source": [
        "# **KNN**"
      ],
      "metadata": {
        "id": "Plmw8xvYgjtg"
      }
    },
    {
      "cell_type": "code",
      "source": [
        "from sklearn.neighbors import KNeighborsClassifier\n",
        "\n",
        "# Train KNN classifier\n",
        "knn_classifier = KNeighborsClassifier(n_neighbors=5)  # You can change the number of neighbors (n_neighbors)\n",
        "knn_classifier.fit(X_train, Y_train)\n",
        "\n",
        "# Predict classes for validation data\n",
        "valid_predictions = knn_classifier.predict(X_valid)\n",
        "train_predictions = knn_classifier.predict(X_train)\n",
        "\n",
        "# Calculate training accuracy\n",
        "train_accuracy = accuracy_score(Y_train, train_predictions)\n",
        "print(f\"Train Accuracy with KNN: {train_accuracy:}\")\n",
        "\n",
        "# Calculate validation accuracy\n",
        "valid_accuracy = accuracy_score(Y_valid, valid_predictions)\n",
        "print(f\"Validation Accuracy with KNN: {valid_accuracy}\")\n",
        "\n",
        "f1 = f1_score(Y_valid, valid_predictions, average='weighted')\n",
        "print(f\"F1 Score with KNN Regression: {f1}\")\n"
      ],
      "metadata": {
        "id": "ywNfWMWyghyD",
        "colab": {
          "base_uri": "https://localhost:8080/"
        },
        "outputId": "f4a3c4b8-eccc-4b04-b513-a6e91540d1e8"
      },
      "execution_count": 12,
      "outputs": [
        {
          "output_type": "stream",
          "name": "stdout",
          "text": [
            "Train Accuracy with KNN: 0.7946327683615819\n",
            "Validation Accuracy with KNN: 0.6789366053169734\n",
            "F1 Score with KNN Regression: 0.6786458857745327\n"
          ]
        }
      ]
    },
    {
      "cell_type": "markdown",
      "source": [
        "# **LwP**"
      ],
      "metadata": {
        "id": "4Ws0WyEAgreS"
      }
    },
    {
      "cell_type": "code",
      "source": [
        "# Function to compute class prototypes (LWP model)\n",
        "def compute_class_prototypes(X_train, Y_train):\n",
        "    \"\"\"Compute the mean prototype for each class.\"\"\"\n",
        "    class_0_prototype = X_train[Y_train == 0].mean(axis=0)\n",
        "    class_1_prototype = X_train[Y_train == 1].mean(axis=0)\n",
        "    return class_0_prototype, class_1_prototype\n",
        "\n",
        "# Function to predict based on LWP (distance to prototypes)\n",
        "def predict_lwp(X_valid, class_0_prototype, class_1_prototype):\n",
        "    \"\"\"Predict labels based on distance to prototypes.\"\"\"\n",
        "    predictions = []\n",
        "    for x in X_valid:\n",
        "        # Compute distances to each prototype\n",
        "        distance_to_class_0 = np.linalg.norm(x - class_0_prototype)\n",
        "        distance_to_class_1 = np.linalg.norm(x - class_1_prototype)\n",
        "\n",
        "        # Assign the class with the closer prototype\n",
        "        if distance_to_class_0 < distance_to_class_1:\n",
        "            predictions.append(0)\n",
        "        else:\n",
        "            predictions.append(1)\n",
        "\n",
        "    return np.array(predictions)\n",
        "\n",
        "# Compute prototypes for the two classes\n",
        "class_0_prototype, class_1_prototype = compute_class_prototypes(X_train, Y_train)\n",
        "\n",
        "# Predict on the training data for LWP model\n",
        "train_predictions_lwp = predict_lwp(X_train, class_0_prototype, class_1_prototype)\n",
        "train_accuracy_lwp = accuracy_score(Y_train, train_predictions_lwp)\n",
        "print(f\"Train Accuracy with LWP: {train_accuracy_lwp}\")\n",
        "\n",
        "# Predict on the validation data for LWP model\n",
        "valid_predictions_lwp = predict_lwp(X_valid, class_0_prototype, class_1_prototype)\n",
        "valid_accuracy_lwp = accuracy_score(Y_valid, valid_predictions_lwp)\n",
        "print(f\"Validation Accuracy with LWP: {valid_accuracy_lwp}\")\n",
        "\n",
        "# Calculate F1 score for LWP model\n",
        "f1_lwp = f1_score(Y_valid, valid_predictions_lwp, average='weighted')\n",
        "print(f\"F1 Score with LWP: {f1_lwp}\")\n"
      ],
      "metadata": {
        "id": "jBmcFr6dgiMd",
        "colab": {
          "base_uri": "https://localhost:8080/"
        },
        "outputId": "0c668f23-64a3-4ece-8a80-c3aa1bd38d5e"
      },
      "execution_count": 13,
      "outputs": [
        {
          "output_type": "stream",
          "name": "stdout",
          "text": [
            "Train Accuracy with LWP: 0.9433615819209039\n",
            "Validation Accuracy with LWP: 0.9447852760736196\n",
            "F1 Score with LWP: 0.9447935937362456\n"
          ]
        }
      ]
    },
    {
      "cell_type": "code",
      "source": [
        "# Evaluate LWP model with different percentages of the training data\n",
        "train_percentages = [0.2, 0.4, 0.6, 0.8, 1.0]  # Adjust 100% to a very close float value\n",
        "train_accuracies_lwp = []\n",
        "valid_accuracies_lwp = []\n",
        "\n",
        "# LWP classifier with different portions of the training data\n",
        "for percentage in train_percentages:\n",
        "    # Split the training data\n",
        "    if percentage == 1.0:\n",
        "        X_train_subset = X_train\n",
        "        Y_train_subset = Y_train\n",
        "    else:\n",
        "        X_train_subset, _, Y_train_subset, _ = train_test_split(X_train, Y_train, train_size=percentage, random_state=42)\n",
        "\n",
        "    # Compute prototypes for the subset\n",
        "    class_0_prototype, class_1_prototype = compute_class_prototypes(X_train_subset, Y_train_subset)\n",
        "\n",
        "    # Predictions and accuracy on training data\n",
        "    train_predictions = predict_lwp(X_train_subset, class_0_prototype, class_1_prototype)\n",
        "    train_accuracy = accuracy_score(Y_train_subset, train_predictions)\n",
        "    train_accuracies_lwp.append(train_accuracy)\n",
        "\n",
        "    # Predictions and accuracy on validation data\n",
        "    valid_predictions = predict_lwp(X_valid, class_0_prototype, class_1_prototype)\n",
        "    valid_accuracy = accuracy_score(Y_valid, valid_predictions)\n",
        "    valid_accuracies_lwp.append(valid_accuracy)\n",
        "\n",
        "# Create a DataFrame to display the LWP statistics\n",
        "lwp_data = {\n",
        "    \"Percentage\": [int(p * 100) for p in train_percentages],\n",
        "    \"Training Accuracy (LWP)\": train_accuracies_lwp,\n",
        "    \"Validation Accuracy (LWP)\": valid_accuracies_lwp\n",
        "}\n",
        "\n",
        "lwp_accuracy_df = pd.DataFrame(lwp_data)\n",
        "print(lwp_accuracy_df)\n",
        "\n",
        "# Plot the accuracies for LWP with different percentages of training data\n",
        "plt.plot([int(p * 100) for p in train_percentages], train_accuracies_lwp, label='Training Accuracy (LWP)', color='green', marker='o')\n",
        "plt.plot([int(p * 100) for p in train_percentages], valid_accuracies_lwp, label='Validation Accuracy (LWP)', color='red', marker='o')\n",
        "\n",
        "# Add labels and title\n",
        "plt.ylim(0.4, 1.02)\n",
        "plt.xlabel('Percentage of Training Data Used')\n",
        "plt.ylabel('Accuracy')\n",
        "plt.title('LWP Accuracy vs. Training Data Size')\n",
        "\n",
        "# Display legend\n",
        "plt.legend()\n",
        "\n",
        "# Add grid for better readability\n",
        "plt.grid(True)\n",
        "\n",
        "# Show the plot\n",
        "plt.show()\n"
      ],
      "metadata": {
        "colab": {
          "base_uri": "https://localhost:8080/",
          "height": 576
        },
        "id": "8X2Vn0CEFzDT",
        "outputId": "766db9ec-1bb2-4699-e5c4-87c9cb901cc3"
      },
      "execution_count": 14,
      "outputs": [
        {
          "output_type": "stream",
          "name": "stdout",
          "text": [
            "   Percentage  Training Accuracy (LWP)  Validation Accuracy (LWP)\n",
            "0          20                 0.926554                   0.897751\n",
            "1          40                 0.924082                   0.930470\n",
            "2          60                 0.933616                   0.932515\n",
            "3          80                 0.945798                   0.950920\n",
            "4         100                 0.943362                   0.944785\n"
          ]
        },
        {
          "output_type": "display_data",
          "data": {
            "text/plain": [
              "<Figure size 640x480 with 1 Axes>"
            ],
            "image/png": "[encoded data removed]"
          },
          "metadata": {}
        }
      ]
    },
    {
      "cell_type": "markdown",
      "source": [
        "# **SVM Classifier**"
      ],
      "metadata": {
        "id": "sve8Wjh4gvjn"
      }
    },
    {
      "cell_type": "code",
      "source": [
        "# Train SVM classifier\n",
        "svm_classifier = SVC(kernel='linear')  # You can also experiment with other kernels\n",
        "svm_classifier.fit(X_train, Y_train)\n",
        "\n",
        "# Predict classes for validation data\n",
        "valid_predictions = svm_classifier.predict(X_valid)\n",
        "train_predictions = svm_classifier.predict(X_train)\n",
        "\n",
        "# Calculate validation accuracy\n",
        "train_accuracy = accuracy_score(Y_train, train_predictions)\n",
        "print(f\"Train Accuracy with SVM: {train_accuracy}\")\n",
        "\n",
        "# Calculate validation accuracy\n",
        "valid_accuracy = accuracy_score(Y_valid, valid_predictions)\n",
        "print(f\"Validation Accuracy with SVM: {valid_accuracy}\")\n",
        "\n",
        "f1 = f1_score(Y_valid, valid_predictions, average='weighted')\n",
        "print(f\"F1 Score with SVM: {f1}\")\n",
        "\n",
        "n_weights = svm_classifier.coef_.size  # Number of weights\n",
        "n_intercepts = svm_classifier.intercept_.size  # Number of intercepts\n",
        "n_params = n_weights + n_intercepts\n",
        "print(f\"Number of trainable parameters: {n_params}\")"
      ],
      "metadata": {
        "id": "i06-IKnYgiOm",
        "colab": {
          "base_uri": "https://localhost:8080/"
        },
        "outputId": "48c4cbbf-dabc-4cd0-9a98-fa9497fa5c1b"
      },
      "execution_count": 15,
      "outputs": [
        {
          "output_type": "stream",
          "name": "stdout",
          "text": [
            "Train Accuracy with SVM: 0.9877118644067797\n",
            "Validation Accuracy with SVM: 0.9734151329243353\n",
            "F1 Score with SVM: 0.9734039965487858\n",
            "Number of trainable parameters: 301\n"
          ]
        }
      ]
    },
    {
      "cell_type": "code",
      "source": [
        "# Split the training data into different sizes (20%, 40%, 60%, 80%, 100%)\n",
        "train_percentages = [0.2, 0.4, 0.6, 0.8, 1.0]  # Adjust 100% to a very close float value\n",
        "train_accuracies = []\n",
        "valid_accuracies = []\n",
        "\n",
        "# Train SVM classifier with different portions of the training data\n",
        "for percentage in train_percentages:\n",
        "    # Split the training data\n",
        "    print(percentage)\n",
        "    if(percentage == 1.0):\n",
        "        X_train_subset = X_train\n",
        "        Y_train_subset = Y_train\n",
        "    else:\n",
        "      X_train_subset, _, Y_train_subset, _ = train_test_split(X_train, Y_train, train_size=percentage, random_state=42)\n",
        "\n",
        "    # Train SVM classifier\n",
        "    svm_classifier = SVC(kernel='linear')  # You can experiment with other kernels if needed\n",
        "    svm_classifier.fit(X_train_subset, Y_train_subset)\n",
        "\n",
        "    # Predictions and accuracy on training data\n",
        "    train_predictions = svm_classifier.predict(X_train_subset)\n",
        "    train_accuracy = accuracy_score(Y_train_subset, train_predictions)\n",
        "    train_accuracies.append(train_accuracy)\n",
        "\n",
        "    # Predictions and accuracy on validation data\n",
        "    valid_predictions = svm_classifier.predict(X_valid)\n",
        "    valid_accuracy = accuracy_score(Y_valid, valid_predictions)\n",
        "    valid_accuracies.append(valid_accuracy)\n",
        "\n",
        "# Create a DataFrame to print the table\n",
        "data = {\n",
        "    \"Percentage\": [int(p * 100) for p in train_percentages],\n",
        "    \"Training Accuracy\": train_accuracies,\n",
        "    \"Validation Accuracy\": valid_accuracies\n",
        "}\n",
        "\n",
        "accuracy_df = pd.DataFrame(data)\n",
        "print(accuracy_df)\n",
        "\n",
        "# Plot the accuracies with different colors for train and validation accuracy\n",
        "plt.plot([int(p * 100) for p in train_percentages], train_accuracies, label='Training Accuracy', color='green', marker='o')\n",
        "plt.plot([int(p * 100) for p in train_percentages], valid_accuracies, label='Validation Accuracy', color='red', marker='o')\n",
        "\n",
        "# Add labels and title\n",
        "plt.ylim(0.4, 1.02)\n",
        "plt.xlabel('Percentage of Training Data Used')\n",
        "plt.ylabel('Accuracy')\n",
        "plt.title('SVM Accuracy vs. Training Data Size')\n",
        "\n",
        "# Display legend\n",
        "plt.legend()\n",
        "\n",
        "# Add grid for better readability\n",
        "plt.grid(True)\n",
        "\n",
        "# Show the plot\n",
        "plt.show()"
      ],
      "metadata": {
        "id": "uRaraZbCgiQw",
        "colab": {
          "base_uri": "https://localhost:8080/",
          "height": 663
        },
        "outputId": "798cfadd-7c67-4b3a-a635-ead1a9bb4331"
      },
      "execution_count": 16,
      "outputs": [
        {
          "output_type": "stream",
          "name": "stdout",
          "text": [
            "0.2\n",
            "0.4\n",
            "0.6\n",
            "0.8\n",
            "1.0\n",
            "   Percentage  Training Accuracy  Validation Accuracy\n",
            "0          20           0.999294             0.901840\n",
            "1          40           0.992232             0.946830\n",
            "2          60           0.988230             0.975460\n",
            "3          80           0.988347             0.979550\n",
            "4         100           0.987712             0.973415\n"
          ]
        },
        {
          "output_type": "display_data",
          "data": {
            "text/plain": [
              "<Figure size 640x480 with 1 Axes>"
            ],
            "image/png": "[encoded data removed]"
          },
          "metadata": {}
        }
      ]
    },
    {
      "cell_type": "markdown",
      "source": [
        "# ***Deep Neural Network***"
      ],
      "metadata": {
        "id": "9Bz-gbWlGik0"
      }
    },
    {
      "cell_type": "code",
      "source": [
        "from sklearn.metrics import f1_score, confusion_matrix\n",
        "from tensorflow.keras.models import Sequential\n",
        "from tensorflow.keras.layers import Dense, Input"
      ],
      "metadata": {
        "id": "W0Ode3Hf8R6w"
      },
      "execution_count": 17,
      "outputs": []
    },
    {
      "cell_type": "code",
      "source": [
        "# Define and compile the model\n",
        "model = Sequential()\n",
        "\n",
        "# Input layer using `Input` shape\n",
        "model.add(Input(shape=(n_components,)))  # Explicit input layer\n",
        "\n",
        "# Hidden layer with 32 neurons and sigmoid activation\n",
        "model.add(Dense(32, activation='sigmoid'))\n",
        "\n",
        "# Output layer for binary classification\n",
        "model.add(Dense(1, activation='sigmoid'))\n",
        "\n",
        "# Compile the model with Adam optimizer and binary crossentropy loss\n",
        "model.compile(optimizer='adam', loss='binary_crossentropy', metrics=['accuracy'])\n",
        "\n",
        "# Fit the model\n",
        "history = model.fit(X_train, Y_train, epochs = 30, batch_size=32, validation_data=(X_valid, Y_valid))\n",
        "\n",
        "# Evaluate the model on training and validation data\n",
        "train_loss, train_accuracy = model.evaluate(X_train, Y_train, verbose=0)\n",
        "valid_loss, valid_accuracy = model.evaluate(X_valid, Y_valid, verbose=0)\n",
        "\n",
        "# Predictions and calculate F1 score and confusion matrix\n",
        "valid_predictions = (model.predict(X_valid) > 0.5).astype(\"int32\")\n",
        "f1 = f1_score(Y_valid, valid_predictions)\n",
        "\n",
        "# Print accuracies and F1 score\n",
        "model.summary()\n",
        "\n",
        "print(f\"Training Accuracy: {train_accuracy:.4f}\")\n",
        "print(f\"Validation Accuracy: {valid_accuracy:.4f}\")\n",
        "print(f\"F1 Score: {f1:.4f}\")"
      ],
      "metadata": {
        "colab": {
          "base_uri": "https://localhost:8080/",
          "height": 1000
        },
        "id": "ALjG5e3AHLU6",
        "outputId": "814c8ea5-74a0-407a-9fdd-ceaa10deda75"
      },
      "execution_count": 18,
      "outputs": [
        {
          "output_type": "stream",
          "name": "stdout",
          "text": [
            "Epoch 1/30\n",
            "\u001b[1m222/222\u001b[0m \u001b[32m━━━━━━━━━━━━━━━━━━━━\u001b[0m\u001b[37m\u001b[0m \u001b[1m2s\u001b[0m 3ms/step - accuracy: 0.6620 - loss: 0.6513 - val_accuracy: 0.8364 - val_loss: 0.5366\n",
            "Epoch 2/30\n",
            "\u001b[1m222/222\u001b[0m \u001b[32m━━━━━━━━━━━━━━━━━━━━\u001b[0m\u001b[37m\u001b[0m \u001b[1m1s\u001b[0m 4ms/step - accuracy: 0.8620 - loss: 0.4915 - val_accuracy: 0.8978 - val_loss: 0.3940\n",
            "Epoch 3/30\n",
            "\u001b[1m222/222\u001b[0m \u001b[32m━━━━━━━━━━━━━━━━━━━━\u001b[0m\u001b[37m\u001b[0m \u001b[1m2s\u001b[0m 9ms/step - accuracy: 0.9100 - loss: 0.3535 - val_accuracy: 0.9305 - val_loss: 0.2911\n",
            "Epoch 4/30\n",
            "\u001b[1m222/222\u001b[0m \u001b[32m━━━━━━━━━━━━━━━━━━━━\u001b[0m\u001b[37m\u001b[0m \u001b[1m1s\u001b[0m 3ms/step - accuracy: 0.9429 - loss: 0.2614 - val_accuracy: 0.9530 - val_loss: 0.2231\n",
            "Epoch 5/30\n",
            "\u001b[1m222/222\u001b[0m \u001b[32m━━━━━━━━━━━━━━━━━━━━\u001b[0m\u001b[37m\u001b[0m \u001b[1m1s\u001b[0m 2ms/step - accuracy: 0.9548 - loss: 0.2009 - val_accuracy: 0.9611 - val_loss: 0.1817\n",
            "Epoch 6/30\n",
            "\u001b[1m222/222\u001b[0m \u001b[32m━━━━━━━━━━━━━━━━━━━━\u001b[0m\u001b[37m\u001b[0m \u001b[1m0s\u001b[0m 2ms/step - accuracy: 0.9677 - loss: 0.1640 - val_accuracy: 0.9693 - val_loss: 0.1542\n",
            "Epoch 7/30\n",
            "\u001b[1m222/222\u001b[0m \u001b[32m━━━━━━━━━━━━━━━━━━━━\u001b[0m\u001b[37m\u001b[0m \u001b[1m1s\u001b[0m 2ms/step - accuracy: 0.9748 - loss: 0.1390 - val_accuracy: 0.9673 - val_loss: 0.1349\n",
            "Epoch 8/30\n",
            "\u001b[1m222/222\u001b[0m \u001b[32m━━━━━━━━━━━━━━━━━━━━\u001b[0m\u001b[37m\u001b[0m \u001b[1m1s\u001b[0m 2ms/step - accuracy: 0.9749 - loss: 0.1246 - val_accuracy: 0.9673 - val_loss: 0.1221\n",
            "Epoch 9/30\n",
            "\u001b[1m222/222\u001b[0m \u001b[32m━━━━━━━━━━━━━━━━━━━━\u001b[0m\u001b[37m\u001b[0m \u001b[1m1s\u001b[0m 2ms/step - accuracy: 0.9772 - loss: 0.1088 - val_accuracy: 0.9714 - val_loss: 0.1084\n",
            "Epoch 10/30\n",
            "\u001b[1m222/222\u001b[0m \u001b[32m━━━━━━━━━━━━━━━━━━━━\u001b[0m\u001b[37m\u001b[0m \u001b[1m1s\u001b[0m 2ms/step - accuracy: 0.9761 - loss: 0.0984 - val_accuracy: 0.9714 - val_loss: 0.1010\n",
            "Epoch 11/30\n",
            "\u001b[1m222/222\u001b[0m \u001b[32m━━━━━━━━━━━━━━━━━━━━\u001b[0m\u001b[37m\u001b[0m \u001b[1m1s\u001b[0m 2ms/step - accuracy: 0.9787 - loss: 0.0883 - val_accuracy: 0.9734 - val_loss: 0.0966\n",
            "Epoch 12/30\n",
            "\u001b[1m222/222\u001b[0m \u001b[32m━━━━━━━━━━━━━━━━━━━━\u001b[0m\u001b[37m\u001b[0m \u001b[1m1s\u001b[0m 2ms/step - accuracy: 0.9821 - loss: 0.0847 - val_accuracy: 0.9816 - val_loss: 0.0881\n",
            "Epoch 13/30\n",
            "\u001b[1m222/222\u001b[0m \u001b[32m━━━━━━━━━━━━━━━━━━━━\u001b[0m\u001b[37m\u001b[0m \u001b[1m1s\u001b[0m 2ms/step - accuracy: 0.9796 - loss: 0.0776 - val_accuracy: 0.9816 - val_loss: 0.0834\n",
            "Epoch 14/30\n",
            "\u001b[1m222/222\u001b[0m \u001b[32m━━━━━━━━━━━━━━━━━━━━\u001b[0m\u001b[37m\u001b[0m \u001b[1m1s\u001b[0m 2ms/step - accuracy: 0.9791 - loss: 0.0754 - val_accuracy: 0.9796 - val_loss: 0.0792\n",
            "Epoch 15/30\n",
            "\u001b[1m222/222\u001b[0m \u001b[32m━━━━━━━━━━━━━━━━━━━━\u001b[0m\u001b[37m\u001b[0m \u001b[1m1s\u001b[0m 2ms/step - accuracy: 0.9795 - loss: 0.0740 - val_accuracy: 0.9816 - val_loss: 0.0768\n",
            "Epoch 16/30\n",
            "\u001b[1m222/222\u001b[0m \u001b[32m━━━━━━━━━━━━━━━━━━━━\u001b[0m\u001b[37m\u001b[0m \u001b[1m1s\u001b[0m 2ms/step - accuracy: 0.9805 - loss: 0.0663 - val_accuracy: 0.9775 - val_loss: 0.0750\n",
            "Epoch 17/30\n",
            "\u001b[1m222/222\u001b[0m \u001b[32m━━━━━━━━━━━━━━━━━━━━\u001b[0m\u001b[37m\u001b[0m \u001b[1m1s\u001b[0m 2ms/step - accuracy: 0.9841 - loss: 0.0648 - val_accuracy: 0.9775 - val_loss: 0.0733\n",
            "Epoch 18/30\n",
            "\u001b[1m222/222\u001b[0m \u001b[32m━━━━━━━━━━━━━━━━━━━━\u001b[0m\u001b[37m\u001b[0m \u001b[1m1s\u001b[0m 2ms/step - accuracy: 0.9829 - loss: 0.0603 - val_accuracy: 0.9816 - val_loss: 0.0691\n",
            "Epoch 19/30\n",
            "\u001b[1m222/222\u001b[0m \u001b[32m━━━━━━━━━━━━━━━━━━━━\u001b[0m\u001b[37m\u001b[0m \u001b[1m1s\u001b[0m 2ms/step - accuracy: 0.9832 - loss: 0.0581 - val_accuracy: 0.9816 - val_loss: 0.0690\n",
            "Epoch 20/30\n",
            "\u001b[1m222/222\u001b[0m \u001b[32m━━━━━━━━━━━━━━━━━━━━\u001b[0m\u001b[37m\u001b[0m \u001b[1m1s\u001b[0m 3ms/step - accuracy: 0.9805 - loss: 0.0582 - val_accuracy: 0.9796 - val_loss: 0.0650\n",
            "Epoch 21/30\n",
            "\u001b[1m222/222\u001b[0m \u001b[32m━━━━━━━━━━━━━━━━━━━━\u001b[0m\u001b[37m\u001b[0m \u001b[1m1s\u001b[0m 4ms/step - accuracy: 0.9842 - loss: 0.0559 - val_accuracy: 0.9816 - val_loss: 0.0644\n",
            "Epoch 22/30\n",
            "\u001b[1m222/222\u001b[0m \u001b[32m━━━━━━━━━━━━━━━━━━━━\u001b[0m\u001b[37m\u001b[0m \u001b[1m1s\u001b[0m 4ms/step - accuracy: 0.9830 - loss: 0.0531 - val_accuracy: 0.9816 - val_loss: 0.0643\n",
            "Epoch 23/30\n",
            "\u001b[1m222/222\u001b[0m \u001b[32m━━━━━━━━━━━━━━━━━━━━\u001b[0m\u001b[37m\u001b[0m \u001b[1m1s\u001b[0m 2ms/step - accuracy: 0.9868 - loss: 0.0500 - val_accuracy: 0.9857 - val_loss: 0.0643\n",
            "Epoch 24/30\n",
            "\u001b[1m222/222\u001b[0m \u001b[32m━━━━━━━━━━━━━━━━━━━━\u001b[0m\u001b[37m\u001b[0m \u001b[1m1s\u001b[0m 2ms/step - accuracy: 0.9841 - loss: 0.0498 - val_accuracy: 0.9836 - val_loss: 0.0617\n",
            "Epoch 25/30\n",
            "\u001b[1m222/222\u001b[0m \u001b[32m━━━━━━━━━━━━━━━━━━━━\u001b[0m\u001b[37m\u001b[0m \u001b[1m1s\u001b[0m 2ms/step - accuracy: 0.9838 - loss: 0.0476 - val_accuracy: 0.9877 - val_loss: 0.0593\n",
            "Epoch 26/30\n",
            "\u001b[1m222/222\u001b[0m \u001b[32m━━━━━━━━━━━━━━━━━━━━\u001b[0m\u001b[37m\u001b[0m \u001b[1m1s\u001b[0m 2ms/step - accuracy: 0.9863 - loss: 0.0448 - val_accuracy: 0.9836 - val_loss: 0.0605\n",
            "Epoch 27/30\n",
            "\u001b[1m222/222\u001b[0m \u001b[32m━━━━━━━━━━━━━━━━━━━━\u001b[0m\u001b[37m\u001b[0m \u001b[1m1s\u001b[0m 2ms/step - accuracy: 0.9836 - loss: 0.0487 - val_accuracy: 0.9836 - val_loss: 0.0582\n",
            "Epoch 28/30\n",
            "\u001b[1m222/222\u001b[0m \u001b[32m━━━━━━━━━━━━━━━━━━━━\u001b[0m\u001b[37m\u001b[0m \u001b[1m0s\u001b[0m 2ms/step - accuracy: 0.9874 - loss: 0.0421 - val_accuracy: 0.9796 - val_loss: 0.0582\n",
            "Epoch 29/30\n",
            "\u001b[1m222/222\u001b[0m \u001b[32m━━━━━━━━━━━━━━━━━━━━\u001b[0m\u001b[37m\u001b[0m \u001b[1m1s\u001b[0m 3ms/step - accuracy: 0.9854 - loss: 0.0436 - val_accuracy: 0.9857 - val_loss: 0.0577\n",
            "Epoch 30/30\n",
            "\u001b[1m222/222\u001b[0m \u001b[32m━━━━━━━━━━━━━━━━━━━━\u001b[0m\u001b[37m\u001b[0m \u001b[1m1s\u001b[0m 2ms/step - accuracy: 0.9870 - loss: 0.0433 - val_accuracy: 0.9796 - val_loss: 0.0572\n",
            "\u001b[1m16/16\u001b[0m \u001b[32m━━━━━━━━━━━━━━━━━━━━\u001b[0m\u001b[37m\u001b[0m \u001b[1m0s\u001b[0m 4ms/step\n"
          ]
        },
        {
          "output_type": "display_data",
          "data": {
            "text/plain": [
              "\u001b[1mModel: \"sequential\"\u001b[0m\n"
            ],
            "text/html": [
              "<pre style=\"white-space:pre;overflow-x:auto;line-height:normal;font-family:Menlo,'DejaVu Sans Mono',consolas,'Courier New',monospace\"><span style=\"font-weight: bold\">Model: \"sequential\"</span>\n",
              "</pre>\n"
            ]
          },
          "metadata": {}
        },
        {
          "output_type": "display_data",
          "data": {
            "text/plain": [
              "┏━━━━━━━━━━━━━━━━━━━━━━━━━━━━━━━━━━━━━━┳━━━━━━━━━━━━━━━━━━━━━━━━━━━━━┳━━━━━━━━━━━━━━━━━┓\n",
              "┃\u001b[1m \u001b[0m\u001b[1mLayer (type)                        \u001b[0m\u001b[1m \u001b[0m┃\u001b[1m \u001b[0m\u001b[1mOutput Shape               \u001b[0m\u001b[1m \u001b[0m┃\u001b[1m \u001b[0m\u001b[1m        Param #\u001b[0m\u001b[1m \u001b[0m┃\n",
              "┡━━━━━━━━━━━━━━━━━━━━━━━━━━━━━━━━━━━━━━╇━━━━━━━━━━━━━━━━━━━━━━━━━━━━━╇━━━━━━━━━━━━━━━━━┩\n",
              "│ dense (\u001b[38;5;33mDense\u001b[0m)                        │ (\u001b[38;5;45mNone\u001b[0m, \u001b[38;5;34m32\u001b[0m)                  │           \u001b[38;5;34m9,632\u001b[0m │\n",
              "├──────────────────────────────────────┼─────────────────────────────┼─────────────────┤\n",
              "│ dense_1 (\u001b[38;5;33mDense\u001b[0m)                      │ (\u001b[38;5;45mNone\u001b[0m, \u001b[38;5;34m1\u001b[0m)                   │              \u001b[38;5;34m33\u001b[0m │\n",
              "└──────────────────────────────────────┴─────────────────────────────┴─────────────────┘\n"
            ],
            "text/html": [
              "<pre style=\"white-space:pre;overflow-x:auto;line-height:normal;font-family:Menlo,'DejaVu Sans Mono',consolas,'Courier New',monospace\">┏━━━━━━━━━━━━━━━━━━━━━━━━━━━━━━━━━━━━━━┳━━━━━━━━━━━━━━━━━━━━━━━━━━━━━┳━━━━━━━━━━━━━━━━━┓\n",
              "┃<span style=\"font-weight: bold\"> Layer (type)                         </span>┃<span style=\"font-weight: bold\"> Output Shape                </span>┃<span style=\"font-weight: bold\">         Param # </span>┃\n",
              "┡━━━━━━━━━━━━━━━━━━━━━━━━━━━━━━━━━━━━━━╇━━━━━━━━━━━━━━━━━━━━━━━━━━━━━╇━━━━━━━━━━━━━━━━━┩\n",
              "│ dense (<span style=\"color: #0087ff; text-decoration-color: #0087ff\">Dense</span>)                        │ (<span style=\"color: #00d7ff; text-decoration-color: #00d7ff\">None</span>, <span style=\"color: #00af00; text-decoration-color: #00af00\">32</span>)                  │           <span style=\"color: #00af00; text-decoration-color: #00af00\">9,632</span> │\n",
              "├──────────────────────────────────────┼─────────────────────────────┼─────────────────┤\n",
              "│ dense_1 (<span style=\"color: #0087ff; text-decoration-color: #0087ff\">Dense</span>)                      │ (<span style=\"color: #00d7ff; text-decoration-color: #00d7ff\">None</span>, <span style=\"color: #00af00; text-decoration-color: #00af00\">1</span>)                   │              <span style=\"color: #00af00; text-decoration-color: #00af00\">33</span> │\n",
              "└──────────────────────────────────────┴─────────────────────────────┴─────────────────┘\n",
              "</pre>\n"
            ]
          },
          "metadata": {}
        },
        {
          "output_type": "display_data",
          "data": {
            "text/plain": [
              "\u001b[1m Total params: \u001b[0m\u001b[38;5;34m28,997\u001b[0m (113.27 KB)\n"
            ],
            "text/html": [
              "<pre style=\"white-space:pre;overflow-x:auto;line-height:normal;font-family:Menlo,'DejaVu Sans Mono',consolas,'Courier New',monospace\"><span style=\"font-weight: bold\"> Total params: </span><span style=\"color: #00af00; text-decoration-color: #00af00\">28,997</span> (113.27 KB)\n",
              "</pre>\n"
            ]
          },
          "metadata": {}
        },
        {
          "output_type": "display_data",
          "data": {
            "text/plain": [
              "\u001b[1m Trainable params: \u001b[0m\u001b[38;5;34m9,665\u001b[0m (37.75 KB)\n"
            ],
            "text/html": [
              "<pre style=\"white-space:pre;overflow-x:auto;line-height:normal;font-family:Menlo,'DejaVu Sans Mono',consolas,'Courier New',monospace\"><span style=\"font-weight: bold\"> Trainable params: </span><span style=\"color: #00af00; text-decoration-color: #00af00\">9,665</span> (37.75 KB)\n",
              "</pre>\n"
            ]
          },
          "metadata": {}
        },
        {
          "output_type": "display_data",
          "data": {
            "text/plain": [
              "\u001b[1m Non-trainable params: \u001b[0m\u001b[38;5;34m0\u001b[0m (0.00 B)\n"
            ],
            "text/html": [
              "<pre style=\"white-space:pre;overflow-x:auto;line-height:normal;font-family:Menlo,'DejaVu Sans Mono',consolas,'Courier New',monospace\"><span style=\"font-weight: bold\"> Non-trainable params: </span><span style=\"color: #00af00; text-decoration-color: #00af00\">0</span> (0.00 B)\n",
              "</pre>\n"
            ]
          },
          "metadata": {}
        },
        {
          "output_type": "display_data",
          "data": {
            "text/plain": [
              "\u001b[1m Optimizer params: \u001b[0m\u001b[38;5;34m19,332\u001b[0m (75.52 KB)\n"
            ],
            "text/html": [
              "<pre style=\"white-space:pre;overflow-x:auto;line-height:normal;font-family:Menlo,'DejaVu Sans Mono',consolas,'Courier New',monospace\"><span style=\"font-weight: bold\"> Optimizer params: </span><span style=\"color: #00af00; text-decoration-color: #00af00\">19,332</span> (75.52 KB)\n",
              "</pre>\n"
            ]
          },
          "metadata": {}
        },
        {
          "output_type": "stream",
          "name": "stdout",
          "text": [
            "Training Accuracy: 0.9869\n",
            "Validation Accuracy: 0.9796\n",
            "F1 Score: 0.9791\n"
          ]
        }
      ]
    },
    {
      "cell_type": "code",
      "source": [
        "# Split the training data into different sizes (20%, 40%, 60%, 80%, 100%)\n",
        "train_percentages = [0.2, 0.4, 0.6, 0.8, 1.0]\n",
        "train_accuracies = []\n",
        "valid_accuracies = []\n",
        "\n",
        "# Analyze model performance with different training set sizes\n",
        "for percentage in train_percentages:\n",
        "    print(f\"Training on {percentage * 100}% of the data\")\n",
        "    if percentage == 1.0:\n",
        "        X_train_subset = X_train\n",
        "        Y_train_subset = train_feat_Y\n",
        "    else:\n",
        "        X_train_subset, _, Y_train_subset, _ = train_test_split(X_train, Y_train, train_size=percentage, random_state=42)\n",
        "\n",
        "    # Define and compile the model\n",
        "    model = Sequential()\n",
        "\n",
        "    # Input layer using `Input` shape\n",
        "    model.add(Input(shape=(n_components,)))  # Explicit input layer\n",
        "\n",
        "    # Hidden layer with 32 neurons and sigmoid activation\n",
        "    model.add(Dense(32, activation='sigmoid'))\n",
        "\n",
        "    # Output layer for binary classification\n",
        "    model.add(Dense(1, activation='sigmoid'))\n",
        "\n",
        "    # Compile the model with Adam optimizer and binary crossentropy loss\n",
        "    model.compile(optimizer='adam', loss='binary_crossentropy', metrics=['accuracy'])\n",
        "\n",
        "    # Fit the model\n",
        "    model.fit(X_train_subset, Y_train_subset, epochs=30, batch_size=32, validation_data=(X_valid, Y_valid), verbose=0)\n",
        "\n",
        "    # Evaluate the model on training and validation data\n",
        "    train_loss, train_accuracy = model.evaluate(X_train_subset, Y_train_subset, verbose=0)\n",
        "    valid_loss, valid_accuracy = model.evaluate(X_valid, Y_valid, verbose=0)\n",
        "\n",
        "    # Store accuracies\n",
        "    train_accuracies.append(train_accuracy)\n",
        "    valid_accuracies.append(valid_accuracy)\n",
        "\n",
        "# Create a DataFrame to print the table\n",
        "data = {\n",
        "    \"Percentage\": [int(p * 100) for p in train_percentages],\n",
        "    \"Training Accuracy\": train_accuracies,\n",
        "    \"Validation Accuracy\": valid_accuracies\n",
        "}\n",
        "\n",
        "accuracy_df = pd.DataFrame(data)\n",
        "print(accuracy_df)\n",
        "\n",
        "# Plot the accuracies\n",
        "plt.plot([int(p * 100) for p in train_percentages], train_accuracies, label='Training Accuracy', color='green', marker='o')\n",
        "plt.plot([int(p * 100) for p in train_percentages], valid_accuracies, label='Validation Accuracy', color='red', marker='o')\n",
        "\n",
        "# Add labels and title\n",
        "plt.ylim(0.4, 1.02)\n",
        "plt.xlabel('Percentage of Training Data Used')\n",
        "plt.ylabel('Accuracy')\n",
        "plt.title('DNN Model Accuracy vs. Training Data Size')\n",
        "plt.legend()\n",
        "plt.grid(True)\n",
        "plt.show()"
      ],
      "metadata": {
        "colab": {
          "base_uri": "https://localhost:8080/",
          "height": 663
        },
        "id": "TE5KFau3HM8K",
        "outputId": "17e925f6-fea5-4c12-a4cf-88189b1518a4"
      },
      "execution_count": 19,
      "outputs": [
        {
          "output_type": "stream",
          "name": "stdout",
          "text": [
            "Training on 20.0% of the data\n",
            "Training on 40.0% of the data\n",
            "Training on 60.0% of the data\n",
            "Training on 80.0% of the data\n",
            "Training on 100.0% of the data\n",
            "   Percentage  Training Accuracy  Validation Accuracy\n",
            "0          20           0.990819             0.893661\n",
            "1          40           0.991525             0.959100\n",
            "2          60           0.991055             0.973415\n",
            "3          80           0.989936             0.981595\n",
            "4         100           0.989266             0.981595\n"
          ]
        },
        {
          "output_type": "display_data",
          "data": {
            "text/plain": [
              "<Figure size 640x480 with 1 Axes>"
            ],
            "image/png": "[encoded data removed]"
          },
          "metadata": {}
        }
      ]
    },
    {
      "cell_type": "code",
      "source": [],
      "metadata": {
        "id": "CMUqfvtEHzvW"
      },
      "execution_count": null,
      "outputs": []
    }
  ]
}