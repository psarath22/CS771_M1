{
  "cells": [
    {
      "cell_type": "code",
      "execution_count": 34,
      "metadata": {
        "colab": {
          "base_uri": "https://localhost:8080/"
        },
        "id": "uc79zcvtv1kU",
        "outputId": "53231de6-3a27-4fae-cabb-06db953eee70"
      },
      "outputs": [
        {
          "output_type": "stream",
          "name": "stdout",
          "text": [
            "Train dataset size: \n",
            "train_seq_X: 7080 train_seq_Y: 7080\n",
            "\n",
            "Valid dataset size: \n",
            "valid_seq_X: 489 valid_seq_Y: 489\n",
            "\n",
            "Test dataset size: \n",
            "test_seq_X: 2232\n"
          ]
        }
      ],
      "source": [
        "import numpy as np\n",
        "import pandas as pd\n",
        "import matplotlib.pyplot as plt\n",
        "from sklearn.svm import SVC\n",
        "from sklearn.metrics import accuracy_score,f1_score\n",
        "from sklearn.model_selection import train_test_split\n",
        "\n",
        "# read text sequence dataset\n",
        "train_seq_df = pd.read_csv('https://raw.githubusercontent.com/psarath22/CS771_M1/main/datasets/train/train_text_seq.csv')\n",
        "train_seq_X = train_seq_df['input_str'].tolist()\n",
        "train_seq_Y = train_seq_df['label'].tolist()\n",
        "\n",
        "test_seq_X = pd.read_csv(\"https://raw.githubusercontent.com/psarath22/CS771_M1/main/datasets/test/test_text_seq.csv\")['input_str'].tolist()\n",
        "\n",
        "# read text sequence dataset\n",
        "valid_seq_df = pd.read_csv(\"https://raw.githubusercontent.com/psarath22/CS771_M1/main/datasets/valid/valid_text_seq.csv\")\n",
        "valid_seq_X = valid_seq_df['input_str'].tolist()\n",
        "valid_seq_Y = valid_seq_df['label'].tolist()\n",
        "\n",
        "print(f\"Train dataset size: \")\n",
        "print(f\"train_seq_X: {len(train_seq_X)} train_seq_Y: {len(train_seq_Y)}\")\n",
        "\n",
        "print()\n",
        "print(\"Valid dataset size: \")\n",
        "print(f\"valid_seq_X: {len(valid_seq_X)} valid_seq_Y: {len(valid_seq_Y)}\")\n",
        "\n",
        "print()\n",
        "print(\"Test dataset size: \")\n",
        "print(f\"test_seq_X: {len(test_seq_X)}\")\n"
      ]
    },
    {
      "cell_type": "code",
      "execution_count": 35,
      "metadata": {
        "colab": {
          "base_uri": "https://localhost:8080/"
        },
        "id": "Cwi7wbitw0O-",
        "outputId": "900257fd-adb7-4fb2-91d2-e9743691949c"
      },
      "outputs": [
        {
          "output_type": "stream",
          "name": "stdout",
          "text": [
            "<class 'numpy.ndarray'>\n",
            "<class 'numpy.str_'>\n",
            "Unique characters: ['0' '1' '2' '3' '4' '5' '6' '7' '8' '9']\n",
            "Number of unique characters: 10\n",
            "[0 1]\n"
          ]
        }
      ],
      "source": [
        "# Convert list to NumPy array\n",
        "train_seq_X = np.array(train_seq_X)\n",
        "# Convert list to NumPy array\n",
        "valid_seq_X = np.array(valid_seq_X)\n",
        "\n",
        "# Convert labels to numpy arrays\n",
        "train_seq_Y = np.array(train_seq_Y)\n",
        "valid_seq_Y = np.array(valid_seq_Y)\n",
        "\n",
        "print(type(train_seq_X))\n",
        "print(type(train_seq_X[0]))\n",
        "# Convert list of strings (2D array) to a single string by flattening the array and joining all elements\n",
        "all_characters = ''.join(train_seq_X.flatten())\n",
        "\n",
        "# Get the unique characters\n",
        "unique_characters = np.unique(list(all_characters))\n",
        "\n",
        "print(f\"Unique characters: {unique_characters}\")\n",
        "print(f\"Number of unique characters: {len(unique_characters)}\")\n",
        "print(np.unique(valid_seq_Y))"
      ]
    },
    {
      "cell_type": "code",
      "execution_count": 36,
      "metadata": {
        "colab": {
          "base_uri": "https://localhost:8080/"
        },
        "id": "A052XtXjH4fy",
        "outputId": "252488b2-e6e6-46b7-ff25-e38610d7f4dc"
      },
      "outputs": [
        {
          "output_type": "stream",
          "name": "stdout",
          "text": [
            "(7080, 4900)\n",
            "(489, 4900)\n",
            "(2232, 4900)\n"
          ]
        }
      ],
      "source": [
        "# Get unique characters for two digits\n",
        "unique_characters = [f\"{i:02d}\" for i in range(100)]  # ['00', '01', ..., '99']\n",
        "num_classes = len(unique_characters)  # 100 classes\n",
        "\n",
        "# Create a mapping from characters to indices\n",
        "char_to_index = {char: idx for idx, char in enumerate(unique_characters)}\n",
        "\n",
        "# Function to convert input seqs to a 49x100 matrix using overlapping pairs\n",
        "def one_hot_count_matrix(seq, max_len=50):\n",
        "    # Initialize a matrix of zeros\n",
        "    matrix = np.zeros((max_len - 1, num_classes))  # 49x100 matrix for overlapping pairs\n",
        "    # Extract overlapping pairs and update the matrix\n",
        "    for i in range(0, max_len - 1):  # Loop from seq[0:2] to seq[48:50]\n",
        "        char_pair = seq[i:i + 2]  # Get overlapping pairs of characters\n",
        "        if char_pair in char_to_index:\n",
        "            index = char_to_index[char_pair]\n",
        "            matrix[i, index] = 1  # One-hot encoding\n",
        "    return matrix.flatten()  # Flatten to a vector for SVM input\n",
        "\n",
        "# Create the training and validation datasets\n",
        "X_train = np.array([one_hot_count_matrix(seq) for seq in train_seq_X])\n",
        "X_valid = np.array([one_hot_count_matrix(seq) for seq in valid_seq_X])\n",
        "X_test = np.array([one_hot_count_matrix(seq) for seq in test_seq_X])\n",
        "\n",
        "\n",
        "print(X_train.shape)  # Expected shape: (N_train, 4900)\n",
        "print(X_valid.shape)  # Expected shape: (N_valid, 4900)\n",
        "print(X_test.shape) #Expected shape: (N_test, 4900)\n"
      ]
    },
    {
      "cell_type": "markdown",
      "metadata": {
        "id": "9ScbKnxefsm8"
      },
      "source": [
        "# **Logistic Regression**"
      ]
    },
    {
      "cell_type": "code",
      "execution_count": 37,
      "metadata": {
        "colab": {
          "base_uri": "https://localhost:8080/"
        },
        "id": "rj3qWYX7fv-A",
        "outputId": "29cdf33b-8ccd-4d9e-84df-3f6b8a2aeeb9"
      },
      "outputs": [
        {
          "output_type": "stream",
          "name": "stdout",
          "text": [
            "Train Accuracy with Logistic Regression: 0.9474576271186441\n",
            "Validation Accuracy with Logistic Regression: 0.7402862985685071\n",
            "F1 Score with Logistic Regression: 0.7401775047458308\n",
            "Number of trainable parameters: 4901\n"
          ]
        }
      ],
      "source": [
        "from sklearn.linear_model import LogisticRegression\n",
        "\n",
        "# Train Logistic Regression classifier\n",
        "logreg_classifier = LogisticRegression(max_iter=1000)\n",
        "logreg_classifier.fit(X_train, train_seq_Y)\n",
        "\n",
        "# Predict classes for validation data\n",
        "valid_predictions = logreg_classifier.predict(X_valid)\n",
        "train_predictions = logreg_classifier.predict(X_train)\n",
        "\n",
        "# Calculate training accuracy\n",
        "train_accuracy = accuracy_score(train_seq_Y, train_predictions)\n",
        "print(f\"Train Accuracy with Logistic Regression: {train_accuracy}\")\n",
        "\n",
        "# Calculate validation accuracy\n",
        "valid_accuracy = accuracy_score(valid_seq_Y, valid_predictions)\n",
        "print(f\"Validation Accuracy with Logistic Regression: {valid_accuracy}\")\n",
        "\n",
        "f1 = f1_score(valid_seq_Y, valid_predictions, average='weighted')\n",
        "print(f\"F1 Score with Logistic Regression: {f1}\")\n",
        "\n",
        "# Calculate the number of trainable parameters\n",
        "n_weights = logreg_classifier.coef_.size  # Number of weights (features)\n",
        "n_intercepts = logreg_classifier.intercept_.size  # Number of intercepts (bias term)\n",
        "\n",
        "n_trainable_parameters = n_weights + n_intercepts\n",
        "print(f\"Number of trainable parameters: {n_trainable_parameters}\")"
      ]
    },
    {
      "cell_type": "code",
      "execution_count": 38,
      "metadata": {
        "colab": {
          "base_uri": "https://localhost:8080/",
          "height": 663
        },
        "id": "PXD6dDDhn9Kd",
        "outputId": "2019ae7a-fba6-482a-f99b-c169b72d6820"
      },
      "outputs": [
        {
          "output_type": "stream",
          "name": "stdout",
          "text": [
            "0.2\n",
            "0.4\n",
            "0.6\n",
            "0.8\n",
            "1.0\n",
            "   Percentage  Training Accuracy  Validation Accuracy\n",
            "0          20           0.999294             0.621677\n",
            "1          40           0.993997             0.670757\n",
            "2          60           0.974341             0.685072\n",
            "3          80           0.960275             0.728016\n",
            "4         100           0.947458             0.740286\n"
          ]
        },
        {
          "output_type": "display_data",
          "data": {
            "text/plain": [
              "<Figure size 640x480 with 1 Axes>"
            ],
            "image/png": "[encoded data removed]"
          },
          "metadata": {}
        }
      ],
      "source": [
        "# Split the training data into different sizes (20%, 40%, 60%, 80%, 100%)\n",
        "train_percentages = [0.2, 0.4, 0.6, 0.8, 1.0]  # Adjust 100% to a very close float value\n",
        "train_accuracies = []\n",
        "valid_accuracies = []\n",
        "\n",
        "# Logistic classifier with different portions of the training data\n",
        "for percentage in train_percentages:\n",
        "    # Split the training data\n",
        "    print(percentage)\n",
        "    if(percentage == 1.0):\n",
        "        X_train_subset = X_train\n",
        "        Y_train_subset = train_seq_Y\n",
        "    else:\n",
        "      X_train_subset, _, Y_train_subset, _ = train_test_split(X_train, train_seq_Y, train_size=percentage, random_state=42)\n",
        "\n",
        "    # Train Logistic Regression classifier\n",
        "    logreg_classifier = LogisticRegression(max_iter=1000)\n",
        "    logreg_classifier.fit(X_train_subset, Y_train_subset)\n",
        "\n",
        "    # Predictions and accuracy on training data\n",
        "    train_predictions = logreg_classifier.predict(X_train_subset)\n",
        "    train_accuracy = accuracy_score(Y_train_subset, train_predictions)\n",
        "    train_accuracies.append(train_accuracy)\n",
        "\n",
        "    # Predictions and accuracy on validation data\n",
        "    valid_predictions = logreg_classifier.predict(X_valid)\n",
        "    valid_accuracy = accuracy_score(valid_seq_Y, valid_predictions)\n",
        "    valid_accuracies.append(valid_accuracy)\n",
        "# Create a DataFrame to print the table\n",
        "data = {\n",
        "    \"Percentage\": [int(p * 100) for p in train_percentages],\n",
        "    \"Training Accuracy\": train_accuracies,\n",
        "    \"Validation Accuracy\": valid_accuracies\n",
        "}\n",
        "\n",
        "accuracy_df = pd.DataFrame(data)\n",
        "print(accuracy_df)\n",
        "\n",
        "# Plot the accuracies with different colors for train and validation accuracy\n",
        "plt.plot([int(p * 100) for p in train_percentages], train_accuracies, label='Training Accuracy', color='green', marker='o')\n",
        "plt.plot([int(p * 100) for p in train_percentages], valid_accuracies, label='Validation Accuracy', color='red', marker='o')\n",
        "\n",
        "# Add labels and title\n",
        "plt.xlabel('Percentage of Training Data Used')\n",
        "plt.ylabel('Accuracy')\n",
        "plt.title('Logistic Accuracy vs. Training Data Size')\n",
        "\n",
        "# Display legend\n",
        "plt.legend()\n",
        "\n",
        "# Add grid for better readability\n",
        "plt.grid(True)\n",
        "\n",
        "# Show the plot\n",
        "plt.show()"
      ]
    },
    {
      "cell_type": "markdown",
      "metadata": {
        "id": "8lU_wmB_f5hs"
      },
      "source": [
        "# **KNN**"
      ]
    },
    {
      "cell_type": "code",
      "execution_count": 39,
      "metadata": {
        "colab": {
          "base_uri": "https://localhost:8080/"
        },
        "id": "aCubY6-Uf-mg",
        "outputId": "9f86ee1b-0ef6-4293-e80d-0afc90d746ba"
      },
      "outputs": [
        {
          "output_type": "stream",
          "name": "stdout",
          "text": [
            "Train Accuracy with KNN: 0.7067796610169491\n",
            "Validation Accuracy with KNN: 0.588957055214724\n",
            "F1 Score with KNN Regression: 0.5887848697158423\n"
          ]
        }
      ],
      "source": [
        "from sklearn.neighbors import KNeighborsClassifier\n",
        "\n",
        "# Train KNN classifier\n",
        "knn_classifier = KNeighborsClassifier(n_neighbors=5)  # You can change the number of neighbors (n_neighbors)\n",
        "knn_classifier.fit(X_train, train_seq_Y)\n",
        "\n",
        "# Predict classes for validation data\n",
        "valid_predictions = knn_classifier.predict(X_valid)\n",
        "train_predictions = knn_classifier.predict(X_train)\n",
        "\n",
        "# Calculate training accuracy\n",
        "train_accuracy = accuracy_score(train_seq_Y, train_predictions)\n",
        "print(f\"Train Accuracy with KNN: {train_accuracy:}\")\n",
        "\n",
        "# Calculate validation accuracy\n",
        "valid_accuracy = accuracy_score(valid_seq_Y, valid_predictions)\n",
        "print(f\"Validation Accuracy with KNN: {valid_accuracy}\")\n",
        "\n",
        "f1 = f1_score(valid_seq_Y, valid_predictions, average='weighted')\n",
        "print(f\"F1 Score with KNN Regression: {f1}\")"
      ]
    },
    {
      "cell_type": "markdown",
      "metadata": {
        "id": "lpKsV6DUgCaP"
      },
      "source": [
        "# **LwP**"
      ]
    },
    {
      "cell_type": "code",
      "execution_count": 40,
      "metadata": {
        "colab": {
          "base_uri": "https://localhost:8080/"
        },
        "id": "pOoOq3j3gIQ6",
        "outputId": "598602a5-1f2a-4528-d37a-47fe416a9356"
      },
      "outputs": [
        {
          "output_type": "stream",
          "name": "stdout",
          "text": [
            "Train Accuracy with LWP: 0.6\n",
            "Validation Accuracy with LWP: 0.5664621676891616\n",
            "F1 Score with LWP Regression: 0.5660077178951286\n"
          ]
        }
      ],
      "source": [
        "import numpy as np\n",
        "from sklearn.metrics import accuracy_score\n",
        "\n",
        "def compute_class_prototypes(X_train, Y_train):\n",
        "    \"\"\"Compute the mean prototype for each class.\"\"\"\n",
        "    class_0_prototype = X_train[Y_train == 0].mean(axis=0)\n",
        "    class_1_prototype = X_train[Y_train == 1].mean(axis=0)\n",
        "    return class_0_prototype, class_1_prototype\n",
        "\n",
        "def predict_lwp(X_valid, class_0_prototype, class_1_prototype):\n",
        "    \"\"\"Predict labels based on distance to prototypes.\"\"\"\n",
        "    predictions = []\n",
        "    for x in X_valid:\n",
        "        # Compute distances to each prototype\n",
        "        distance_to_class_0 = np.linalg.norm(x - class_0_prototype)\n",
        "        distance_to_class_1 = np.linalg.norm(x - class_1_prototype)\n",
        "\n",
        "        # Assign the class with the closer prototype\n",
        "        if distance_to_class_0 < distance_to_class_1:\n",
        "            predictions.append(0)\n",
        "        else:\n",
        "            predictions.append(1)\n",
        "\n",
        "    return np.array(predictions)\n",
        "\n",
        "# Compute prototypes for the two classes\n",
        "class_0_prototype, class_1_prototype = compute_class_prototypes(X_train, train_seq_Y)\n",
        "\n",
        "# Predict on the training data\n",
        "train_predictions = predict_lwp(X_train, class_0_prototype, class_1_prototype)\n",
        "train_accuracy = accuracy_score(train_seq_Y, train_predictions)\n",
        "print(f\"Train Accuracy with LWP: {train_accuracy}\")\n",
        "\n",
        "# Predict on the validation data\n",
        "valid_predictions = predict_lwp(X_valid, class_0_prototype, class_1_prototype)\n",
        "valid_accuracy = accuracy_score(valid_seq_Y, valid_predictions)\n",
        "print(f\"Validation Accuracy with LWP: {valid_accuracy}\")\n",
        "\n",
        "f1 = f1_score(valid_seq_Y, valid_predictions, average='weighted')\n",
        "print(f\"F1 Score with LWP Regression: {f1}\")"
      ]
    },
    {
      "cell_type": "markdown",
      "metadata": {
        "id": "QT7MVoEuecPQ"
      },
      "source": [
        "# **SVM Classifier**"
      ]
    },
    {
      "cell_type": "code",
      "execution_count": 41,
      "metadata": {
        "colab": {
          "base_uri": "https://localhost:8080/"
        },
        "id": "2cOEvqfBC2Vl",
        "outputId": "02def696-bfbf-405d-83bd-90872a5e5fa2"
      },
      "outputs": [
        {
          "output_type": "stream",
          "name": "stdout",
          "text": [
            "Train Accuracy with SVM: 0.9610169491525423\n",
            "Validation Accuracy with SVM: 0.7423312883435583\n",
            "F1 Score with SVM: 0.7420611908244631\n",
            "Number of trainable parameters: 4901\n"
          ]
        }
      ],
      "source": [
        "# Train SVM classifier\n",
        "svm_classifier = SVC(kernel='linear')  # You can also experiment with other kernels\n",
        "svm_classifier.fit(X_train, train_seq_Y)\n",
        "\n",
        "# Predict classes for validation data\n",
        "valid_predictions = svm_classifier.predict(X_valid)\n",
        "train_predictions = svm_classifier.predict(X_train)\n",
        "\n",
        "# Calculate validation accuracy\n",
        "train_accuracy = accuracy_score(train_seq_Y, train_predictions)\n",
        "print(f\"Train Accuracy with SVM: {train_accuracy}\")\n",
        "\n",
        "# Calculate validation accuracy\n",
        "valid_accuracy = accuracy_score(valid_seq_Y, valid_predictions)\n",
        "print(f\"Validation Accuracy with SVM: {valid_accuracy}\")\n",
        "\n",
        "f1 = f1_score(valid_seq_Y, valid_predictions, average='weighted')\n",
        "print(f\"F1 Score with SVM: {f1}\")\n",
        "\n",
        "n_weights = svm_classifier.coef_.size  # Number of weights\n",
        "n_intercepts = svm_classifier.intercept_.size  # Number of intercepts\n",
        "n_params = n_weights + n_intercepts\n",
        "print(f\"Number of trainable parameters: {n_params}\")"
      ]
    },
    {
      "cell_type": "code",
      "execution_count": 42,
      "metadata": {
        "colab": {
          "base_uri": "https://localhost:8080/",
          "height": 663
        },
        "id": "sktbL7oHEdVq",
        "outputId": "17bcf9f6-c62b-4143-c980-732c37e41b48"
      },
      "outputs": [
        {
          "output_type": "stream",
          "name": "stdout",
          "text": [
            "0.2\n",
            "0.4\n",
            "0.6\n",
            "0.8\n",
            "1.0\n",
            "   Percentage  Training Accuracy  Validation Accuracy\n",
            "0          20           1.000000             0.607362\n",
            "1          40           0.999647             0.646217\n",
            "2          60           0.988701             0.695297\n",
            "3          80           0.974223             0.723926\n",
            "4         100           0.961017             0.742331\n"
          ]
        },
        {
          "output_type": "display_data",
          "data": {
            "text/plain": [
              "<Figure size 640x480 with 1 Axes>"
            ],
            "image/png": "[encoded data removed]"
          },
          "metadata": {}
        }
      ],
      "source": [
        "# Split the training data into different sizes (20%, 40%, 60%, 80%, 100%)\n",
        "train_percentages = [0.2, 0.4, 0.6, 0.8, 1.0]  # Adjust 100% to a very close float value\n",
        "train_accuracies = []\n",
        "valid_accuracies = []\n",
        "\n",
        "# Train SVM classifier with different portions of the training data\n",
        "for percentage in train_percentages:\n",
        "    # Split the training data\n",
        "    print(percentage)\n",
        "    if(percentage == 1.0):\n",
        "        X_train_subset = X_train\n",
        "        Y_train_subset = train_seq_Y\n",
        "    else:\n",
        "      X_train_subset, _, Y_train_subset, _ = train_test_split(X_train, train_seq_Y, train_size=percentage, random_state=42)\n",
        "\n",
        "    # Train SVM classifier\n",
        "    svm_classifier = SVC(kernel='linear')  # You can experiment with other kernels if needed\n",
        "    svm_classifier.fit(X_train_subset, Y_train_subset)\n",
        "\n",
        "    # Predictions and accuracy on training data\n",
        "    train_predictions = svm_classifier.predict(X_train_subset)\n",
        "    train_accuracy = accuracy_score(Y_train_subset, train_predictions)\n",
        "    train_accuracies.append(train_accuracy)\n",
        "\n",
        "    # Predictions and accuracy on validation data\n",
        "    valid_predictions = svm_classifier.predict(X_valid)\n",
        "    valid_accuracy = accuracy_score(valid_seq_Y, valid_predictions)\n",
        "    valid_accuracies.append(valid_accuracy)\n",
        "\n",
        "# Create a DataFrame to print the table\n",
        "data = {\n",
        "    \"Percentage\": [int(p * 100) for p in train_percentages],\n",
        "    \"Training Accuracy\": train_accuracies,\n",
        "    \"Validation Accuracy\": valid_accuracies\n",
        "}\n",
        "\n",
        "accuracy_df = pd.DataFrame(data)\n",
        "print(accuracy_df)\n",
        "\n",
        "# Plot the accuracies with different colors for train and validation accuracy\n",
        "plt.plot([int(p * 100) for p in train_percentages], train_accuracies, label='Training Accuracy', color='green', marker='o')\n",
        "plt.plot([int(p * 100) for p in train_percentages], valid_accuracies, label='Validation Accuracy', color='red', marker='o')\n",
        "\n",
        "# Add labels and title\n",
        "plt.xlabel('Percentage of Training Data Used')\n",
        "plt.ylabel('Accuracy')\n",
        "plt.title('SVM Accuracy vs. Training Data Size')\n",
        "\n",
        "# Display legend\n",
        "plt.legend()\n",
        "\n",
        "# Add grid for better readability\n",
        "plt.grid(True)\n",
        "\n",
        "# Show the plot\n",
        "plt.show()"
      ]
    },
    {
      "cell_type": "code",
      "source": [],
      "metadata": {
        "id": "BGqX_4D_162U"
      },
      "execution_count": null,
      "outputs": []
    }
  ],
  "metadata": {
    "accelerator": "TPU",
    "colab": {
      "gpuType": "V28",
      "provenance": []
    },
    "kernelspec": {
      "display_name": "Python 3",
      "name": "python3"
    },
    "language_info": {
      "name": "python"
    }
  },
  "nbformat": 4,
  "nbformat_minor": 0
}